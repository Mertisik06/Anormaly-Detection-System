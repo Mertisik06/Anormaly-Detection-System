{
  "nbformat": 4,
  "nbformat_minor": 0,
  "metadata": {
    "colab": {
      "name": "LOF.ipynb",
      "provenance": []
    },
    "kernelspec": {
      "name": "python3",
      "display_name": "Python 3"
    }
  },
  "cells": [
    {
      "cell_type": "code",
      "metadata": {
        "id": "jyDV3XDB22YE",
        "colab": {
          "base_uri": "https://localhost:8080/",
          "height": 69
        },
        "outputId": "aa722820-859a-435b-e721-d3df26d80b5b"
      },
      "source": [
        "import numpy as np\n",
        "import pandas as pd\n",
        "import numpy as np\n",
        "import seaborn as sns\n",
        "import matplotlib.pyplot as plt\n",
        "from sklearn.model_selection import train_test_split\n",
        "from sklearn.metrics import accuracy_score\n",
        "import pandas as pd\n",
        "import io\n",
        "from sklearn.tree import DecisionTreeClassifier \n",
        "from sklearn.pipeline import Pipeline\n",
        "from sklearn.model_selection import GridSearchCV\n",
        "from IPython.display import Image\n",
        "from sklearn.tree import export_graphviz\n",
        "from sklearn.model_selection import cross_val_score\n",
        "from tqdm import tqdm_notebook as tqdm\n",
        "from sklearn.externals.six import StringIO\n",
        "import pydotplus\n",
        "from sklearn.cluster import KMeans\n",
        "import matplotlib.pyplot as plt \n",
        "import seaborn as sns\n",
        "import plotly.express as px \n",
        "# from cyberpandas import IPArray, to_ipaddress\n",
        "import ipaddress\n",
        "from sklearn.preprocessing import StandardScaler\n",
        "from sklearn.decomposition import PCA\n",
        "from scipy.stats import nct\n",
        "from sklearn.neighbors import LocalOutlierFactor"
      ],
      "execution_count": null,
      "outputs": [
        {
          "output_type": "stream",
          "text": [
            "/usr/local/lib/python3.6/dist-packages/sklearn/externals/six.py:31: FutureWarning: The module is deprecated in version 0.21 and will be removed in version 0.23 since we've dropped support for Python 2.7. Please rely on the official version of six (https://pypi.org/project/six/).\n",
            "  \"(https://pypi.org/project/six/).\", FutureWarning)\n"
          ],
          "name": "stderr"
        }
      ]
    },
    {
      "cell_type": "markdown",
      "metadata": {
        "id": "DiBOyaFkQtiU"
      },
      "source": [
        "# **DATA UPLOADING AND CLEANING**"
      ]
    },
    {
      "cell_type": "code",
      "metadata": {
        "id": "hyfoGpkwvdYH",
        "colab": {
          "base_uri": "https://localhost:8080/",
          "height": 119
        },
        "outputId": "b05f2e33-537f-4160-f95d-613bc4de0721"
      },
      "source": [
        "from google.colab import drive\n",
        "\n",
        "drive.mount('/content/drive')"
      ],
      "execution_count": null,
      "outputs": [
        {
          "output_type": "stream",
          "text": [
            "Go to this URL in a browser: https://accounts.google.com/o/oauth2/auth?client_id=947318989803-6bn6qk8qdgf4n4g3pfee6491hc0brc4i.apps.googleusercontent.com&redirect_uri=urn%3aietf%3awg%3aoauth%3a2.0%3aoob&scope=email%20https%3a%2f%2fwww.googleapis.com%2fauth%2fdocs.test%20https%3a%2f%2fwww.googleapis.com%2fauth%2fdrive%20https%3a%2f%2fwww.googleapis.com%2fauth%2fdrive.photos.readonly%20https%3a%2f%2fwww.googleapis.com%2fauth%2fpeopleapi.readonly&response_type=code\n",
            "\n",
            "Enter your authorization code:\n",
            "··········\n",
            "Mounted at /content/drive\n"
          ],
          "name": "stdout"
        }
      ]
    },
    {
      "cell_type": "code",
      "metadata": {
        "id": "QnPE5dps3ddo",
        "colab": {
          "base_uri": "https://localhost:8080/",
          "height": 33
        },
        "outputId": "62b1a154-595b-4f2d-cfe5-35705646245b"
      },
      "source": [
        "from zipfile import ZipFile\n",
        "filename=\"/content/drive/My Drive/MasterSoft/logbackups.zip\"\n",
        "with ZipFile(filename,\"r\") as zp:\n",
        "  zp.extractall()\n",
        "  print(\"Done\") "
      ],
      "execution_count": null,
      "outputs": [
        {
          "output_type": "stream",
          "text": [
            "Done\n"
          ],
          "name": "stdout"
        }
      ]
    },
    {
      "cell_type": "code",
      "metadata": {
        "id": "mhAE0vVS3ZbK",
        "colab": {
          "base_uri": "https://localhost:8080/",
          "height": 178
        },
        "outputId": "bf3a98a1-7aae-45bc-806f-2718d123e3ab"
      },
      "source": [
        "path = '/content/u_ex200701.log'\n",
        "data = pd.read_csv(path , sep='\\s+', skiprows=3, encoding='latin-1', error_bad_lines = False)"
      ],
      "execution_count": null,
      "outputs": [
        {
          "output_type": "error",
          "ename": "NameError",
          "evalue": "ignored",
          "traceback": [
            "\u001b[0;31m---------------------------------------------------------------------------\u001b[0m",
            "\u001b[0;31mNameError\u001b[0m                                 Traceback (most recent call last)",
            "\u001b[0;32m<ipython-input-1-807357e399f0>\u001b[0m in \u001b[0;36m<module>\u001b[0;34m()\u001b[0m\n\u001b[1;32m      1\u001b[0m \u001b[0mpath\u001b[0m \u001b[0;34m=\u001b[0m \u001b[0;34m'/content/u_ex200701.log'\u001b[0m\u001b[0;34m\u001b[0m\u001b[0;34m\u001b[0m\u001b[0m\n\u001b[0;32m----> 2\u001b[0;31m \u001b[0mdata\u001b[0m \u001b[0;34m=\u001b[0m \u001b[0mpd\u001b[0m\u001b[0;34m.\u001b[0m\u001b[0mread_csv\u001b[0m\u001b[0;34m(\u001b[0m\u001b[0mpath\u001b[0m \u001b[0;34m,\u001b[0m \u001b[0msep\u001b[0m\u001b[0;34m=\u001b[0m\u001b[0;34m','\u001b[0m\u001b[0;34m,\u001b[0m \u001b[0mencoding\u001b[0m\u001b[0;34m=\u001b[0m\u001b[0;34m'latin-1'\u001b[0m\u001b[0;34m,\u001b[0m \u001b[0merror_bad_lines\u001b[0m \u001b[0;34m=\u001b[0m \u001b[0;32mFalse\u001b[0m\u001b[0;34m)\u001b[0m\u001b[0;34m\u001b[0m\u001b[0;34m\u001b[0m\u001b[0m\n\u001b[0m",
            "\u001b[0;31mNameError\u001b[0m: name 'pd' is not defined"
          ]
        }
      ]
    },
    {
      "cell_type": "code",
      "metadata": {
        "id": "tyXd0nWf3sPA"
      },
      "source": [
        "lastHead=data.columns[-1]\n",
        "data.drop([lastHead], axis=1,inplace=True)\n",
        "newHead=data.columns[1:]\n",
        "newHead=np.array(newHead)\n",
        "newHead = np.append(newHead,lastHead)\n",
        "data.columns=newHead"
      ],
      "execution_count": null,
      "outputs": []
    },
    {
      "cell_type": "code",
      "metadata": {
        "id": "0WWqDBFx33BN"
      },
      "source": [
        "data.dropna(inplace =True)\n",
        "data = data[data['c-ip'] != \"cs-username\"] #extra header\n",
        "data = data[data[\"cs-host\"] != \"localhost\"] #localhost waste data\n",
        "columns=['s-sitename','s-computername', 's-ip', 's-port', 'cs-version','cs-host','sc-substatus','sc-win32-status']\n",
        "data = data.drop(columns,axis=1)\n",
        "data = data.reset_index(drop=True)"
      ],
      "execution_count": null,
      "outputs": []
    },
    {
      "cell_type": "code",
      "metadata": {
        "id": "UMV7KT1c33s9",
        "colab": {
          "base_uri": "https://localhost:8080/",
          "height": 590
        },
        "outputId": "2328f594-8176-4e45-aef4-4cb7b59d7808"
      },
      "source": [
        "data"
      ],
      "execution_count": null,
      "outputs": [
        {
          "output_type": "execute_result",
          "data": {
            "text/html": [
              "<div>\n",
              "<style scoped>\n",
              "    .dataframe tbody tr th:only-of-type {\n",
              "        vertical-align: middle;\n",
              "    }\n",
              "\n",
              "    .dataframe tbody tr th {\n",
              "        vertical-align: top;\n",
              "    }\n",
              "\n",
              "    .dataframe thead th {\n",
              "        text-align: right;\n",
              "    }\n",
              "</style>\n",
              "<table border=\"1\" class=\"dataframe\">\n",
              "  <thead>\n",
              "    <tr style=\"text-align: right;\">\n",
              "      <th></th>\n",
              "      <th>date</th>\n",
              "      <th>time</th>\n",
              "      <th>cs-method</th>\n",
              "      <th>cs-uri-stem</th>\n",
              "      <th>cs-uri-query</th>\n",
              "      <th>cs-username</th>\n",
              "      <th>c-ip</th>\n",
              "      <th>cs(User-Agent)</th>\n",
              "      <th>cs(Cookie)</th>\n",
              "      <th>cs(Referer)</th>\n",
              "      <th>sc-status</th>\n",
              "      <th>sc-bytes</th>\n",
              "      <th>cs-bytes</th>\n",
              "      <th>time-taken</th>\n",
              "    </tr>\n",
              "  </thead>\n",
              "  <tbody>\n",
              "    <tr>\n",
              "      <th>0</th>\n",
              "      <td>2020-07-01</td>\n",
              "      <td>00:00:00</td>\n",
              "      <td>GET</td>\n",
              "      <td>/EKAP/Ortak/YeniIhaleAramaData.ashx</td>\n",
              "      <td>ES=&amp;metot=isLogin</td>\n",
              "      <td>-</td>\n",
              "      <td>159.69.163.150</td>\n",
              "      <td>M-EKAP/1.9.4.1+(Android+5.1.1)</td>\n",
              "      <td>ASP.NET_SessionId=has5g0gjfc5uzyl0uw4o1ky1;+BI...</td>\n",
              "      <td>-</td>\n",
              "      <td>200</td>\n",
              "      <td>387</td>\n",
              "      <td>317</td>\n",
              "      <td>7</td>\n",
              "    </tr>\n",
              "    <tr>\n",
              "      <th>1</th>\n",
              "      <td>2020-07-01</td>\n",
              "      <td>00:00:00</td>\n",
              "      <td>GET</td>\n",
              "      <td>/EKAP/Ortak/YeniIhaleAramaData.ashx</td>\n",
              "      <td>pageIndex=9&amp;tabId=0ceef113-05a7-4476-f91c-6411...</td>\n",
              "      <td>-</td>\n",
              "      <td>159.69.163.150</td>\n",
              "      <td>M-EKAP/1.9.4.1+(Android+5.1.1)</td>\n",
              "      <td>ASP.NET_SessionId=has5g0gjfc5uzyl0uw4o1ky1;+BI...</td>\n",
              "      <td>-</td>\n",
              "      <td>200</td>\n",
              "      <td>42331</td>\n",
              "      <td>470</td>\n",
              "      <td>595</td>\n",
              "    </tr>\n",
              "    <tr>\n",
              "      <th>2</th>\n",
              "      <td>2020-07-01</td>\n",
              "      <td>00:00:01</td>\n",
              "      <td>GET</td>\n",
              "      <td>/EKAP/Ortak/YeniIhaleAramaData.ashx</td>\n",
              "      <td>ES=&amp;metot=isLogin</td>\n",
              "      <td>-</td>\n",
              "      <td>159.69.163.150</td>\n",
              "      <td>M-EKAP/1.9.4.1+(Android+5.1.1)</td>\n",
              "      <td>ASP.NET_SessionId=has5g0gjfc5uzyl0uw4o1ky1;+BI...</td>\n",
              "      <td>-</td>\n",
              "      <td>200</td>\n",
              "      <td>387</td>\n",
              "      <td>317</td>\n",
              "      <td>4</td>\n",
              "    </tr>\n",
              "    <tr>\n",
              "      <th>3</th>\n",
              "      <td>2020-07-01</td>\n",
              "      <td>00:00:01</td>\n",
              "      <td>GET</td>\n",
              "      <td>/EKAP/Ortak/YeniIhaleAramaData.ashx</td>\n",
              "      <td>pageIndex=10&amp;tabId=0ceef113-05a7-4476-f91c-641...</td>\n",
              "      <td>-</td>\n",
              "      <td>159.69.163.150</td>\n",
              "      <td>M-EKAP/1.9.4.1+(Android+5.1.1)</td>\n",
              "      <td>ASP.NET_SessionId=has5g0gjfc5uzyl0uw4o1ky1;+BI...</td>\n",
              "      <td>-</td>\n",
              "      <td>200</td>\n",
              "      <td>424</td>\n",
              "      <td>471</td>\n",
              "      <td>526</td>\n",
              "    </tr>\n",
              "    <tr>\n",
              "      <th>4</th>\n",
              "      <td>2020-07-01</td>\n",
              "      <td>00:00:01</td>\n",
              "      <td>GET</td>\n",
              "      <td>/EKAP/Ortak/YeniIhaleAramaData.ashx</td>\n",
              "      <td>ES=&amp;metot=isLogin</td>\n",
              "      <td>-</td>\n",
              "      <td>159.69.163.150</td>\n",
              "      <td>M-EKAP/1.9.4.1+(Android+5.1.1)</td>\n",
              "      <td>ASP.NET_SessionId=has5g0gjfc5uzyl0uw4o1ky1;+BI...</td>\n",
              "      <td>-</td>\n",
              "      <td>200</td>\n",
              "      <td>387</td>\n",
              "      <td>317</td>\n",
              "      <td>6</td>\n",
              "    </tr>\n",
              "    <tr>\n",
              "      <th>...</th>\n",
              "      <td>...</td>\n",
              "      <td>...</td>\n",
              "      <td>...</td>\n",
              "      <td>...</td>\n",
              "      <td>...</td>\n",
              "      <td>...</td>\n",
              "      <td>...</td>\n",
              "      <td>...</td>\n",
              "      <td>...</td>\n",
              "      <td>...</td>\n",
              "      <td>...</td>\n",
              "      <td>...</td>\n",
              "      <td>...</td>\n",
              "      <td>...</td>\n",
              "    </tr>\n",
              "    <tr>\n",
              "      <th>2681852</th>\n",
              "      <td>2020-07-01</td>\n",
              "      <td>23:59:58</td>\n",
              "      <td>GET</td>\n",
              "      <td>/EKAP/Ortak/BirBakistaIhale.aspx</td>\n",
              "      <td>IdareId=07aba124ac6f130c39fb59c55707f0a1b1ae52...</td>\n",
              "      <td>-</td>\n",
              "      <td>161.9.144.37</td>\n",
              "      <td>Mozilla/5.0+(Windows+NT+6.1;+Win64;+x64)+Apple...</td>\n",
              "      <td>BIGipServerGS-EKAP-WEB=rd2o0000000000000000000...</td>\n",
              "      <td>https://ekap.kik.gov.tr/EKAP/Ortak/BirBakistaI...</td>\n",
              "      <td>200</td>\n",
              "      <td>8206</td>\n",
              "      <td>1032</td>\n",
              "      <td>489</td>\n",
              "    </tr>\n",
              "    <tr>\n",
              "      <th>2681853</th>\n",
              "      <td>2020-07-01</td>\n",
              "      <td>23:59:58</td>\n",
              "      <td>GET</td>\n",
              "      <td>/EKAP/Ortak/BirBakistaIhale.aspx</td>\n",
              "      <td>IdareId=ae0e6b6b0f33c5c5213bca13fa1d636843451e...</td>\n",
              "      <td>-</td>\n",
              "      <td>88.255.228.26</td>\n",
              "      <td>Mozilla/5.0+(Windows+NT+10.0;+Win64;+x64)+Appl...</td>\n",
              "      <td>linkYardimPortal2=1;+lbtnDuzenle201409=1;+css=...</td>\n",
              "      <td>https://ekap.kik.gov.tr/EKAP/Ortak/BirBakistaI...</td>\n",
              "      <td>200</td>\n",
              "      <td>9744</td>\n",
              "      <td>1220</td>\n",
              "      <td>70</td>\n",
              "    </tr>\n",
              "    <tr>\n",
              "      <th>2681854</th>\n",
              "      <td>2020-07-01</td>\n",
              "      <td>23:59:58</td>\n",
              "      <td>GET</td>\n",
              "      <td>/EKAP/Default.aspx</td>\n",
              "      <td>-</td>\n",
              "      <td>-</td>\n",
              "      <td>10.110.11.32</td>\n",
              "      <td>Mozilla/4.0+(compatible;+MSIE+6.0;+Windows+NT+...</td>\n",
              "      <td>-</td>\n",
              "      <td>-</td>\n",
              "      <td>200</td>\n",
              "      <td>101190</td>\n",
              "      <td>143</td>\n",
              "      <td>28</td>\n",
              "    </tr>\n",
              "    <tr>\n",
              "      <th>2681855</th>\n",
              "      <td>2020-07-01</td>\n",
              "      <td>23:59:59</td>\n",
              "      <td>GET</td>\n",
              "      <td>/EKAP/Ortak/BirBakistaIhale.aspx</td>\n",
              "      <td>IdareId=0ce336d8471edf0c33b4454d7bad214557b11d...</td>\n",
              "      <td>-</td>\n",
              "      <td>161.9.144.37</td>\n",
              "      <td>Mozilla/5.0+(Windows+NT+6.1;+Win64;+x64)+Apple...</td>\n",
              "      <td>BIGipServerGS-EKAP-WEB=rd2o0000000000000000000...</td>\n",
              "      <td>https://ekap.kik.gov.tr/EKAP/Ortak/BirBakistaI...</td>\n",
              "      <td>200</td>\n",
              "      <td>8121</td>\n",
              "      <td>1032</td>\n",
              "      <td>578</td>\n",
              "    </tr>\n",
              "    <tr>\n",
              "      <th>2681856</th>\n",
              "      <td>2020-07-01</td>\n",
              "      <td>23:59:59</td>\n",
              "      <td>GET</td>\n",
              "      <td>/EKAP/Ortak/VatandasIlanGoruntuleme.aspx</td>\n",
              "      <td>aramaDownload=true&amp;ihaleId=41ab061bb4a971ffb53...</td>\n",
              "      <td>-</td>\n",
              "      <td>102.143.202.183</td>\n",
              "      <td>Mozilla/5.0+(Windows+NT+10.0;+Win64;+x64)+Appl...</td>\n",
              "      <td>BIGipServerGS-EKAP-WEB=rd2o0000000000000000000...</td>\n",
              "      <td>https://ekap.kik.gov.tr/EKAP/Ortak/IhaleArama/...</td>\n",
              "      <td>302</td>\n",
              "      <td>619</td>\n",
              "      <td>886</td>\n",
              "      <td>45</td>\n",
              "    </tr>\n",
              "  </tbody>\n",
              "</table>\n",
              "<p>2681857 rows × 14 columns</p>\n",
              "</div>"
            ],
            "text/plain": [
              "               date      time cs-method  ... sc-bytes cs-bytes time-taken\n",
              "0        2020-07-01  00:00:00       GET  ...      387      317          7\n",
              "1        2020-07-01  00:00:00       GET  ...    42331      470        595\n",
              "2        2020-07-01  00:00:01       GET  ...      387      317          4\n",
              "3        2020-07-01  00:00:01       GET  ...      424      471        526\n",
              "4        2020-07-01  00:00:01       GET  ...      387      317          6\n",
              "...             ...       ...       ...  ...      ...      ...        ...\n",
              "2681852  2020-07-01  23:59:58       GET  ...     8206     1032        489\n",
              "2681853  2020-07-01  23:59:58       GET  ...     9744     1220         70\n",
              "2681854  2020-07-01  23:59:58       GET  ...   101190      143         28\n",
              "2681855  2020-07-01  23:59:59       GET  ...     8121     1032        578\n",
              "2681856  2020-07-01  23:59:59       GET  ...      619      886         45\n",
              "\n",
              "[2681857 rows x 14 columns]"
            ]
          },
          "metadata": {
            "tags": []
          },
          "execution_count": 7
        }
      ]
    },
    {
      "cell_type": "markdown",
      "metadata": {
        "id": "xSAYddUU4OuA"
      },
      "source": [
        "# **ONLY SELECTING THE ROW CONTAIN \".aspx\"**"
      ]
    },
    {
      "cell_type": "code",
      "metadata": {
        "id": "zzC-GqyO4SIE"
      },
      "source": [
        "dataASPX = data[data[\"cs-uri-stem\"].str.contains(\".aspx\")]"
      ],
      "execution_count": null,
      "outputs": []
    },
    {
      "cell_type": "code",
      "metadata": {
        "id": "UnRNDjXI4Wju",
        "colab": {
          "base_uri": "https://localhost:8080/",
          "height": 590
        },
        "outputId": "b3d5781e-09b4-4510-b41c-3dc83f15ff62"
      },
      "source": [
        "dataASPX"
      ],
      "execution_count": null,
      "outputs": [
        {
          "output_type": "execute_result",
          "data": {
            "text/html": [
              "<div>\n",
              "<style scoped>\n",
              "    .dataframe tbody tr th:only-of-type {\n",
              "        vertical-align: middle;\n",
              "    }\n",
              "\n",
              "    .dataframe tbody tr th {\n",
              "        vertical-align: top;\n",
              "    }\n",
              "\n",
              "    .dataframe thead th {\n",
              "        text-align: right;\n",
              "    }\n",
              "</style>\n",
              "<table border=\"1\" class=\"dataframe\">\n",
              "  <thead>\n",
              "    <tr style=\"text-align: right;\">\n",
              "      <th></th>\n",
              "      <th>date</th>\n",
              "      <th>time</th>\n",
              "      <th>cs-method</th>\n",
              "      <th>cs-uri-stem</th>\n",
              "      <th>cs-uri-query</th>\n",
              "      <th>cs-username</th>\n",
              "      <th>c-ip</th>\n",
              "      <th>cs(User-Agent)</th>\n",
              "      <th>cs(Cookie)</th>\n",
              "      <th>cs(Referer)</th>\n",
              "      <th>sc-status</th>\n",
              "      <th>sc-bytes</th>\n",
              "      <th>cs-bytes</th>\n",
              "      <th>time-taken</th>\n",
              "    </tr>\n",
              "  </thead>\n",
              "  <tbody>\n",
              "    <tr>\n",
              "      <th>5</th>\n",
              "      <td>2020-07-01</td>\n",
              "      <td>00:00:01</td>\n",
              "      <td>GET</td>\n",
              "      <td>/EKAP/Ortak/BirBakistaIhale.aspx</td>\n",
              "      <td>IdareId=97b19497907e190b6569d3a318d5d368f66c86...</td>\n",
              "      <td>17302892776</td>\n",
              "      <td>88.252.13.173</td>\n",
              "      <td>Mozilla/5.0+(Windows+NT+10.0;+Win64;+x64)+Appl...</td>\n",
              "      <td>linkYardimPortal2=1;+_ga=GA1.3.1764455409.1583...</td>\n",
              "      <td>https://ekap.kik.gov.tr/EKAP/Ortak/BirBakistaI...</td>\n",
              "      <td>200</td>\n",
              "      <td>9788</td>\n",
              "      <td>1443</td>\n",
              "      <td>122</td>\n",
              "    </tr>\n",
              "    <tr>\n",
              "      <th>6</th>\n",
              "      <td>2020-07-01</td>\n",
              "      <td>00:00:02</td>\n",
              "      <td>GET</td>\n",
              "      <td>/EKAP/Ortak/BirBakistaIhale.aspx</td>\n",
              "      <td>IdareId=508d698f7f693d94de819da435e28da455d46a...</td>\n",
              "      <td>-</td>\n",
              "      <td>46.154.132.188</td>\n",
              "      <td>Mozilla/5.0+(Linux;+Android+8.0.0;+SAMSUNG+SM-...</td>\n",
              "      <td>linkYardimPortal2=1;+ASP.NET_SessionId=uq1z0yd...</td>\n",
              "      <td>https://ekap.kik.gov.tr/EKAP/Ortak/IhaleArama/...</td>\n",
              "      <td>200</td>\n",
              "      <td>9656</td>\n",
              "      <td>862</td>\n",
              "      <td>152</td>\n",
              "    </tr>\n",
              "    <tr>\n",
              "      <th>9</th>\n",
              "      <td>2020-07-01</td>\n",
              "      <td>00:00:04</td>\n",
              "      <td>POST</td>\n",
              "      <td>/EKAP/Istekli/KatilimYeterlik.aspx</td>\n",
              "      <td>ikn=2020%2f311296</td>\n",
              "      <td>36199271570</td>\n",
              "      <td>88.231.141.199</td>\n",
              "      <td>Mozilla/5.0+(Windows+NT+6.1;+Win64;+x64)+Apple...</td>\n",
              "      <td>linkYardimPortal2=1;+BIGipServerGS-EKAP-WEB=rd...</td>\n",
              "      <td>https://ekap.kik.gov.tr/EKAP/Istekli/KatilimYe...</td>\n",
              "      <td>200</td>\n",
              "      <td>23835</td>\n",
              "      <td>16096</td>\n",
              "      <td>194</td>\n",
              "    </tr>\n",
              "    <tr>\n",
              "      <th>12</th>\n",
              "      <td>2020-07-01</td>\n",
              "      <td>00:00:05</td>\n",
              "      <td>GET</td>\n",
              "      <td>/EKAP/Ortak/BirBakistaIhale.aspx</td>\n",
              "      <td>IdareId=bb79e8d2db6cae8a88c30c11c84c360554420c...</td>\n",
              "      <td>17302892776</td>\n",
              "      <td>88.252.13.173</td>\n",
              "      <td>Mozilla/5.0+(Windows+NT+10.0;+Win64;+x64)+Appl...</td>\n",
              "      <td>linkYardimPortal2=1;+_ga=GA1.3.1764455409.1583...</td>\n",
              "      <td>https://ekap.kik.gov.tr/EKAP/Ortak/BirBakistaI...</td>\n",
              "      <td>200</td>\n",
              "      <td>9508</td>\n",
              "      <td>1443</td>\n",
              "      <td>107</td>\n",
              "    </tr>\n",
              "    <tr>\n",
              "      <th>15</th>\n",
              "      <td>2020-07-01</td>\n",
              "      <td>00:00:05</td>\n",
              "      <td>GET</td>\n",
              "      <td>/EKAP/Ortak/Feeds/EkapFeedRss.aspx</td>\n",
              "      <td>param=f29f0035e2ce136e0b7a747f7fdf6c209e5b5b1c...</td>\n",
              "      <td>-</td>\n",
              "      <td>185.68.222.5</td>\n",
              "      <td>Microsoft+Office/12.0+(Windows+NT+6.2;+Microso...</td>\n",
              "      <td>BIGipServerGS-EKAP-WEB=rd2o0000000000000000000...</td>\n",
              "      <td>-</td>\n",
              "      <td>200</td>\n",
              "      <td>11627</td>\n",
              "      <td>524</td>\n",
              "      <td>21088</td>\n",
              "    </tr>\n",
              "    <tr>\n",
              "      <th>...</th>\n",
              "      <td>...</td>\n",
              "      <td>...</td>\n",
              "      <td>...</td>\n",
              "      <td>...</td>\n",
              "      <td>...</td>\n",
              "      <td>...</td>\n",
              "      <td>...</td>\n",
              "      <td>...</td>\n",
              "      <td>...</td>\n",
              "      <td>...</td>\n",
              "      <td>...</td>\n",
              "      <td>...</td>\n",
              "      <td>...</td>\n",
              "      <td>...</td>\n",
              "    </tr>\n",
              "    <tr>\n",
              "      <th>2681852</th>\n",
              "      <td>2020-07-01</td>\n",
              "      <td>23:59:58</td>\n",
              "      <td>GET</td>\n",
              "      <td>/EKAP/Ortak/BirBakistaIhale.aspx</td>\n",
              "      <td>IdareId=07aba124ac6f130c39fb59c55707f0a1b1ae52...</td>\n",
              "      <td>-</td>\n",
              "      <td>161.9.144.37</td>\n",
              "      <td>Mozilla/5.0+(Windows+NT+6.1;+Win64;+x64)+Apple...</td>\n",
              "      <td>BIGipServerGS-EKAP-WEB=rd2o0000000000000000000...</td>\n",
              "      <td>https://ekap.kik.gov.tr/EKAP/Ortak/BirBakistaI...</td>\n",
              "      <td>200</td>\n",
              "      <td>8206</td>\n",
              "      <td>1032</td>\n",
              "      <td>489</td>\n",
              "    </tr>\n",
              "    <tr>\n",
              "      <th>2681853</th>\n",
              "      <td>2020-07-01</td>\n",
              "      <td>23:59:58</td>\n",
              "      <td>GET</td>\n",
              "      <td>/EKAP/Ortak/BirBakistaIhale.aspx</td>\n",
              "      <td>IdareId=ae0e6b6b0f33c5c5213bca13fa1d636843451e...</td>\n",
              "      <td>-</td>\n",
              "      <td>88.255.228.26</td>\n",
              "      <td>Mozilla/5.0+(Windows+NT+10.0;+Win64;+x64)+Appl...</td>\n",
              "      <td>linkYardimPortal2=1;+lbtnDuzenle201409=1;+css=...</td>\n",
              "      <td>https://ekap.kik.gov.tr/EKAP/Ortak/BirBakistaI...</td>\n",
              "      <td>200</td>\n",
              "      <td>9744</td>\n",
              "      <td>1220</td>\n",
              "      <td>70</td>\n",
              "    </tr>\n",
              "    <tr>\n",
              "      <th>2681854</th>\n",
              "      <td>2020-07-01</td>\n",
              "      <td>23:59:58</td>\n",
              "      <td>GET</td>\n",
              "      <td>/EKAP/Default.aspx</td>\n",
              "      <td>-</td>\n",
              "      <td>-</td>\n",
              "      <td>10.110.11.32</td>\n",
              "      <td>Mozilla/4.0+(compatible;+MSIE+6.0;+Windows+NT+...</td>\n",
              "      <td>-</td>\n",
              "      <td>-</td>\n",
              "      <td>200</td>\n",
              "      <td>101190</td>\n",
              "      <td>143</td>\n",
              "      <td>28</td>\n",
              "    </tr>\n",
              "    <tr>\n",
              "      <th>2681855</th>\n",
              "      <td>2020-07-01</td>\n",
              "      <td>23:59:59</td>\n",
              "      <td>GET</td>\n",
              "      <td>/EKAP/Ortak/BirBakistaIhale.aspx</td>\n",
              "      <td>IdareId=0ce336d8471edf0c33b4454d7bad214557b11d...</td>\n",
              "      <td>-</td>\n",
              "      <td>161.9.144.37</td>\n",
              "      <td>Mozilla/5.0+(Windows+NT+6.1;+Win64;+x64)+Apple...</td>\n",
              "      <td>BIGipServerGS-EKAP-WEB=rd2o0000000000000000000...</td>\n",
              "      <td>https://ekap.kik.gov.tr/EKAP/Ortak/BirBakistaI...</td>\n",
              "      <td>200</td>\n",
              "      <td>8121</td>\n",
              "      <td>1032</td>\n",
              "      <td>578</td>\n",
              "    </tr>\n",
              "    <tr>\n",
              "      <th>2681856</th>\n",
              "      <td>2020-07-01</td>\n",
              "      <td>23:59:59</td>\n",
              "      <td>GET</td>\n",
              "      <td>/EKAP/Ortak/VatandasIlanGoruntuleme.aspx</td>\n",
              "      <td>aramaDownload=true&amp;ihaleId=41ab061bb4a971ffb53...</td>\n",
              "      <td>-</td>\n",
              "      <td>102.143.202.183</td>\n",
              "      <td>Mozilla/5.0+(Windows+NT+10.0;+Win64;+x64)+Appl...</td>\n",
              "      <td>BIGipServerGS-EKAP-WEB=rd2o0000000000000000000...</td>\n",
              "      <td>https://ekap.kik.gov.tr/EKAP/Ortak/IhaleArama/...</td>\n",
              "      <td>302</td>\n",
              "      <td>619</td>\n",
              "      <td>886</td>\n",
              "      <td>45</td>\n",
              "    </tr>\n",
              "  </tbody>\n",
              "</table>\n",
              "<p>876963 rows × 14 columns</p>\n",
              "</div>"
            ],
            "text/plain": [
              "               date      time cs-method  ... sc-bytes cs-bytes time-taken\n",
              "5        2020-07-01  00:00:01       GET  ...     9788     1443        122\n",
              "6        2020-07-01  00:00:02       GET  ...     9656      862        152\n",
              "9        2020-07-01  00:00:04      POST  ...    23835    16096        194\n",
              "12       2020-07-01  00:00:05       GET  ...     9508     1443        107\n",
              "15       2020-07-01  00:00:05       GET  ...    11627      524      21088\n",
              "...             ...       ...       ...  ...      ...      ...        ...\n",
              "2681852  2020-07-01  23:59:58       GET  ...     8206     1032        489\n",
              "2681853  2020-07-01  23:59:58       GET  ...     9744     1220         70\n",
              "2681854  2020-07-01  23:59:58       GET  ...   101190      143         28\n",
              "2681855  2020-07-01  23:59:59       GET  ...     8121     1032        578\n",
              "2681856  2020-07-01  23:59:59       GET  ...      619      886         45\n",
              "\n",
              "[876963 rows x 14 columns]"
            ]
          },
          "metadata": {
            "tags": []
          },
          "execution_count": 9
        }
      ]
    },
    {
      "cell_type": "code",
      "metadata": {
        "id": "AhBVjRm_6FMo",
        "colab": {
          "base_uri": "https://localhost:8080/",
          "height": 214
        },
        "outputId": "f70c575a-465b-4ef2-a1cf-78d65bf930c5"
      },
      "source": [
        "dataASPX[\"cs-uri-stem\"].value_counts()"
      ],
      "execution_count": null,
      "outputs": [
        {
          "output_type": "execute_result",
          "data": {
            "text/plain": [
              "/EKAP/Default.aspx                                                            85105\n",
              "/EKAP/Ortak/BirBakistaIhale.aspx                                              81116\n",
              "/EKAP/Teklif/IhaleDokumanDownloadEImzaliNet.aspx/CheckDokumanIndirmeStatus    50242\n",
              "/EKAP/SystemLogin.aspx                                                        50002\n",
              "/EKAP/Idare/Sihirbaz/DokumanHazirlama.aspx                                    47412\n",
              "                                                                              ...  \n",
              "/Oku.aspx                                                                         1\n",
              "/YardimEkran/EBeyan/default.aspx                                                  1\n",
              "/ekap/Oku.aspx                                                                    1\n",
              "/EKAP/Yetki/IstekliKaydi.aspxadresi                                               1\n",
              "/App_Master/Telerik.Web.UI.DialogHandler.aspx                                     1\n",
              "Name: cs-uri-stem, Length: 458, dtype: int64"
            ]
          },
          "metadata": {
            "tags": []
          },
          "execution_count": 10
        }
      ]
    },
    {
      "cell_type": "code",
      "metadata": {
        "id": "RkCfYf8S4XSl",
        "colab": {
          "base_uri": "https://localhost:8080/",
          "height": 429
        },
        "outputId": "b7591206-3566-435c-d2b8-3a207eeb46f3"
      },
      "source": [
        "dataASPX[dataASPX[\"cs-uri-stem\"].str.contains(\"Default.aspx\")]['cs-uri-stem'].value_counts()"
      ],
      "execution_count": null,
      "outputs": [
        {
          "output_type": "execute_result",
          "data": {
            "text/plain": [
              "/EKAP/Default.aspx                                       85105\n",
              "/EKAP/Yardim/Default.aspx                                 1452\n",
              "/EKAP/Yardim/Default.aspx/DosyaYolu                       1146\n",
              "/EKAP/Yardim/Default.aspx/GetSSS                           437\n",
              "/EKAP/Yardim/Default.aspx/GetYardimDokumanlari             437\n",
              "/EKAP/Yardim/Default.aspx/GetDokuman                       436\n",
              "/EKAP/Yardim/Default.aspx/TopluSSS                         430\n",
              "/EKAP/Yardim/Default.aspx/GetKullaniciTip                  429\n",
              "/EKAP/Yardim/Default.aspx/HeaderBul                        197\n",
              "/EKAP/Istekli/EKAP/Yardim/Default.aspx                     156\n",
              "/EKAP/Idare/EKAP/Yardim/Default.aspx                       103\n",
              "/EKAP/Yardim/Default.aspx/Arama                            102\n",
              "/EKAP/Yardim/Default.aspx/GetYasaKapsam                     78\n",
              "/EKAP/Yardim/Default.aspx/GetMenu                           60\n",
              "/EKAP/Yardim/Default.aspx/GetIHaleTur                       59\n",
              "/EKAP/Teklif/EKAP/Yardim/Default.aspx                       50\n",
              "/ekap/Default.aspx                                          28\n",
              "/EKAP/Yardim/Default.aspx/GetLogArama                       24\n",
              "/EKAP/Yasaklilik/EKAP/Yardim/Default.aspx                   20\n",
              "/EKAP/Yardim/Default.aspx/sssIcerikGetir                     5\n",
              "/EKAP/Tebligat/EKAP/Yardim/Default.aspx                      5\n",
              "/ekap/Yardim/Default.aspx                                    2\n",
              "/EKAP/Default.aspx/EKAP/favicons/apple-touch-icon.png        2\n",
              "/EKAP/IsDeneyim2/EKAP/Yardim/Default.aspx                    1\n",
              "Name: cs-uri-stem, dtype: int64"
            ]
          },
          "metadata": {
            "tags": []
          },
          "execution_count": 11
        }
      ]
    },
    {
      "cell_type": "markdown",
      "metadata": {
        "id": "geinjRfW6L_K"
      },
      "source": [
        "# **SELECTING \"/EKAP/Ortak/BirBakistaIhale.aspx\"**"
      ]
    },
    {
      "cell_type": "code",
      "metadata": {
        "id": "hswM9Laz6Piz"
      },
      "source": [
        "dataBirBakistaIhale = dataASPX[dataASPX[\"cs-uri-stem\"]==\"/EKAP/Ortak/BirBakistaIhale.aspx\"]\n",
        "dataBirBakistaIhale = dataBirBakistaIhale.reset_index(drop=True)"
      ],
      "execution_count": null,
      "outputs": []
    },
    {
      "cell_type": "code",
      "metadata": {
        "id": "yskFj0rW6RkM",
        "colab": {
          "base_uri": "https://localhost:8080/",
          "height": 590
        },
        "outputId": "b92abe3e-4f42-4bf7-fa69-7b84a62d1a1b"
      },
      "source": [
        "dataBirBakistaIhale"
      ],
      "execution_count": null,
      "outputs": [
        {
          "output_type": "execute_result",
          "data": {
            "text/html": [
              "<div>\n",
              "<style scoped>\n",
              "    .dataframe tbody tr th:only-of-type {\n",
              "        vertical-align: middle;\n",
              "    }\n",
              "\n",
              "    .dataframe tbody tr th {\n",
              "        vertical-align: top;\n",
              "    }\n",
              "\n",
              "    .dataframe thead th {\n",
              "        text-align: right;\n",
              "    }\n",
              "</style>\n",
              "<table border=\"1\" class=\"dataframe\">\n",
              "  <thead>\n",
              "    <tr style=\"text-align: right;\">\n",
              "      <th></th>\n",
              "      <th>date</th>\n",
              "      <th>time</th>\n",
              "      <th>cs-method</th>\n",
              "      <th>cs-uri-stem</th>\n",
              "      <th>cs-uri-query</th>\n",
              "      <th>cs-username</th>\n",
              "      <th>c-ip</th>\n",
              "      <th>cs(User-Agent)</th>\n",
              "      <th>cs(Cookie)</th>\n",
              "      <th>cs(Referer)</th>\n",
              "      <th>sc-status</th>\n",
              "      <th>sc-bytes</th>\n",
              "      <th>cs-bytes</th>\n",
              "      <th>time-taken</th>\n",
              "    </tr>\n",
              "  </thead>\n",
              "  <tbody>\n",
              "    <tr>\n",
              "      <th>0</th>\n",
              "      <td>2020-07-01</td>\n",
              "      <td>00:00:01</td>\n",
              "      <td>GET</td>\n",
              "      <td>/EKAP/Ortak/BirBakistaIhale.aspx</td>\n",
              "      <td>IdareId=97b19497907e190b6569d3a318d5d368f66c86...</td>\n",
              "      <td>17302892776</td>\n",
              "      <td>88.252.13.173</td>\n",
              "      <td>Mozilla/5.0+(Windows+NT+10.0;+Win64;+x64)+Appl...</td>\n",
              "      <td>linkYardimPortal2=1;+_ga=GA1.3.1764455409.1583...</td>\n",
              "      <td>https://ekap.kik.gov.tr/EKAP/Ortak/BirBakistaI...</td>\n",
              "      <td>200</td>\n",
              "      <td>9788</td>\n",
              "      <td>1443</td>\n",
              "      <td>122</td>\n",
              "    </tr>\n",
              "    <tr>\n",
              "      <th>1</th>\n",
              "      <td>2020-07-01</td>\n",
              "      <td>00:00:02</td>\n",
              "      <td>GET</td>\n",
              "      <td>/EKAP/Ortak/BirBakistaIhale.aspx</td>\n",
              "      <td>IdareId=508d698f7f693d94de819da435e28da455d46a...</td>\n",
              "      <td>-</td>\n",
              "      <td>46.154.132.188</td>\n",
              "      <td>Mozilla/5.0+(Linux;+Android+8.0.0;+SAMSUNG+SM-...</td>\n",
              "      <td>linkYardimPortal2=1;+ASP.NET_SessionId=uq1z0yd...</td>\n",
              "      <td>https://ekap.kik.gov.tr/EKAP/Ortak/IhaleArama/...</td>\n",
              "      <td>200</td>\n",
              "      <td>9656</td>\n",
              "      <td>862</td>\n",
              "      <td>152</td>\n",
              "    </tr>\n",
              "    <tr>\n",
              "      <th>2</th>\n",
              "      <td>2020-07-01</td>\n",
              "      <td>00:00:05</td>\n",
              "      <td>GET</td>\n",
              "      <td>/EKAP/Ortak/BirBakistaIhale.aspx</td>\n",
              "      <td>IdareId=bb79e8d2db6cae8a88c30c11c84c360554420c...</td>\n",
              "      <td>17302892776</td>\n",
              "      <td>88.252.13.173</td>\n",
              "      <td>Mozilla/5.0+(Windows+NT+10.0;+Win64;+x64)+Appl...</td>\n",
              "      <td>linkYardimPortal2=1;+_ga=GA1.3.1764455409.1583...</td>\n",
              "      <td>https://ekap.kik.gov.tr/EKAP/Ortak/BirBakistaI...</td>\n",
              "      <td>200</td>\n",
              "      <td>9508</td>\n",
              "      <td>1443</td>\n",
              "      <td>107</td>\n",
              "    </tr>\n",
              "    <tr>\n",
              "      <th>3</th>\n",
              "      <td>2020-07-01</td>\n",
              "      <td>00:00:11</td>\n",
              "      <td>GET</td>\n",
              "      <td>/EKAP/Ortak/BirBakistaIhale.aspx</td>\n",
              "      <td>IdareId=9d38b0f795738d4397f5400440bbff259045fb...</td>\n",
              "      <td>-</td>\n",
              "      <td>46.154.132.188</td>\n",
              "      <td>Mozilla/5.0+(Linux;+Android+8.0.0;+SAMSUNG+SM-...</td>\n",
              "      <td>linkYardimPortal2=1;+ASP.NET_SessionId=uq1z0yd...</td>\n",
              "      <td>https://ekap.kik.gov.tr/EKAP/Ortak/BirBakistaI...</td>\n",
              "      <td>200</td>\n",
              "      <td>10115</td>\n",
              "      <td>1033</td>\n",
              "      <td>97</td>\n",
              "    </tr>\n",
              "    <tr>\n",
              "      <th>4</th>\n",
              "      <td>2020-07-01</td>\n",
              "      <td>00:00:13</td>\n",
              "      <td>GET</td>\n",
              "      <td>/EKAP/Ortak/BirBakistaIhale.aspx</td>\n",
              "      <td>IdareId=0409bf8284375665b1289d57f40e72906d1788...</td>\n",
              "      <td>-</td>\n",
              "      <td>46.154.132.188</td>\n",
              "      <td>Mozilla/5.0+(Linux;+Android+8.0.0;+SAMSUNG+SM-...</td>\n",
              "      <td>linkYardimPortal2=1;+ASP.NET_SessionId=uq1z0yd...</td>\n",
              "      <td>https://ekap.kik.gov.tr/EKAP/Ortak/IhaleArama/...</td>\n",
              "      <td>200</td>\n",
              "      <td>9544</td>\n",
              "      <td>862</td>\n",
              "      <td>156</td>\n",
              "    </tr>\n",
              "    <tr>\n",
              "      <th>...</th>\n",
              "      <td>...</td>\n",
              "      <td>...</td>\n",
              "      <td>...</td>\n",
              "      <td>...</td>\n",
              "      <td>...</td>\n",
              "      <td>...</td>\n",
              "      <td>...</td>\n",
              "      <td>...</td>\n",
              "      <td>...</td>\n",
              "      <td>...</td>\n",
              "      <td>...</td>\n",
              "      <td>...</td>\n",
              "      <td>...</td>\n",
              "      <td>...</td>\n",
              "    </tr>\n",
              "    <tr>\n",
              "      <th>81111</th>\n",
              "      <td>2020-07-01</td>\n",
              "      <td>23:59:58</td>\n",
              "      <td>GET</td>\n",
              "      <td>/EKAP/Ortak/BirBakistaIhale.aspx</td>\n",
              "      <td>IdareId=1bd020d59d6c2b0ef14eeb7edb963cf9d851c5...</td>\n",
              "      <td>26458708572</td>\n",
              "      <td>176.42.110.141</td>\n",
              "      <td>Mozilla/5.0+(Windows+NT+6.1)+AppleWebKit/537.3...</td>\n",
              "      <td>linkYardimPortal2=1;+css=%2FEKAP%2FApp_Themes%...</td>\n",
              "      <td>https://ekap.kik.gov.tr/EKAP/Ortak/BirBakistaI...</td>\n",
              "      <td>200</td>\n",
              "      <td>9678</td>\n",
              "      <td>1426</td>\n",
              "      <td>131</td>\n",
              "    </tr>\n",
              "    <tr>\n",
              "      <th>81112</th>\n",
              "      <td>2020-07-01</td>\n",
              "      <td>23:59:58</td>\n",
              "      <td>GET</td>\n",
              "      <td>/EKAP/Ortak/BirBakistaIhale.aspx</td>\n",
              "      <td>IdareId=aecbdbf57790a8dfd5d0caebdc7e4a3e25213b...</td>\n",
              "      <td>-</td>\n",
              "      <td>46.155.245.35</td>\n",
              "      <td>Mozilla/5.0+(iPhone;+CPU+iPhone+OS+13_5_1+like...</td>\n",
              "      <td>browserDetection=browserDetection;+linkYardimP...</td>\n",
              "      <td>https://ekap.kik.gov.tr/EKAP/Ortak/IhaleArama/...</td>\n",
              "      <td>200</td>\n",
              "      <td>9615</td>\n",
              "      <td>767</td>\n",
              "      <td>176</td>\n",
              "    </tr>\n",
              "    <tr>\n",
              "      <th>81113</th>\n",
              "      <td>2020-07-01</td>\n",
              "      <td>23:59:58</td>\n",
              "      <td>GET</td>\n",
              "      <td>/EKAP/Ortak/BirBakistaIhale.aspx</td>\n",
              "      <td>IdareId=07aba124ac6f130c39fb59c55707f0a1b1ae52...</td>\n",
              "      <td>-</td>\n",
              "      <td>161.9.144.37</td>\n",
              "      <td>Mozilla/5.0+(Windows+NT+6.1;+Win64;+x64)+Apple...</td>\n",
              "      <td>BIGipServerGS-EKAP-WEB=rd2o0000000000000000000...</td>\n",
              "      <td>https://ekap.kik.gov.tr/EKAP/Ortak/BirBakistaI...</td>\n",
              "      <td>200</td>\n",
              "      <td>8206</td>\n",
              "      <td>1032</td>\n",
              "      <td>489</td>\n",
              "    </tr>\n",
              "    <tr>\n",
              "      <th>81114</th>\n",
              "      <td>2020-07-01</td>\n",
              "      <td>23:59:58</td>\n",
              "      <td>GET</td>\n",
              "      <td>/EKAP/Ortak/BirBakistaIhale.aspx</td>\n",
              "      <td>IdareId=ae0e6b6b0f33c5c5213bca13fa1d636843451e...</td>\n",
              "      <td>-</td>\n",
              "      <td>88.255.228.26</td>\n",
              "      <td>Mozilla/5.0+(Windows+NT+10.0;+Win64;+x64)+Appl...</td>\n",
              "      <td>linkYardimPortal2=1;+lbtnDuzenle201409=1;+css=...</td>\n",
              "      <td>https://ekap.kik.gov.tr/EKAP/Ortak/BirBakistaI...</td>\n",
              "      <td>200</td>\n",
              "      <td>9744</td>\n",
              "      <td>1220</td>\n",
              "      <td>70</td>\n",
              "    </tr>\n",
              "    <tr>\n",
              "      <th>81115</th>\n",
              "      <td>2020-07-01</td>\n",
              "      <td>23:59:59</td>\n",
              "      <td>GET</td>\n",
              "      <td>/EKAP/Ortak/BirBakistaIhale.aspx</td>\n",
              "      <td>IdareId=0ce336d8471edf0c33b4454d7bad214557b11d...</td>\n",
              "      <td>-</td>\n",
              "      <td>161.9.144.37</td>\n",
              "      <td>Mozilla/5.0+(Windows+NT+6.1;+Win64;+x64)+Apple...</td>\n",
              "      <td>BIGipServerGS-EKAP-WEB=rd2o0000000000000000000...</td>\n",
              "      <td>https://ekap.kik.gov.tr/EKAP/Ortak/BirBakistaI...</td>\n",
              "      <td>200</td>\n",
              "      <td>8121</td>\n",
              "      <td>1032</td>\n",
              "      <td>578</td>\n",
              "    </tr>\n",
              "  </tbody>\n",
              "</table>\n",
              "<p>81116 rows × 14 columns</p>\n",
              "</div>"
            ],
            "text/plain": [
              "             date      time cs-method  ... sc-bytes cs-bytes time-taken\n",
              "0      2020-07-01  00:00:01       GET  ...     9788     1443        122\n",
              "1      2020-07-01  00:00:02       GET  ...     9656      862        152\n",
              "2      2020-07-01  00:00:05       GET  ...     9508     1443        107\n",
              "3      2020-07-01  00:00:11       GET  ...    10115     1033         97\n",
              "4      2020-07-01  00:00:13       GET  ...     9544      862        156\n",
              "...           ...       ...       ...  ...      ...      ...        ...\n",
              "81111  2020-07-01  23:59:58       GET  ...     9678     1426        131\n",
              "81112  2020-07-01  23:59:58       GET  ...     9615      767        176\n",
              "81113  2020-07-01  23:59:58       GET  ...     8206     1032        489\n",
              "81114  2020-07-01  23:59:58       GET  ...     9744     1220         70\n",
              "81115  2020-07-01  23:59:59       GET  ...     8121     1032        578\n",
              "\n",
              "[81116 rows x 14 columns]"
            ]
          },
          "metadata": {
            "tags": []
          },
          "execution_count": 13
        }
      ]
    },
    {
      "cell_type": "markdown",
      "metadata": {
        "id": "4Joie4JN6asu"
      },
      "source": [
        "# **SELECTING SEVERAL FEATURES**"
      ]
    },
    {
      "cell_type": "code",
      "metadata": {
        "id": "x1cIvhN86mcU",
        "colab": {
          "base_uri": "https://localhost:8080/",
          "height": 388
        },
        "outputId": "31cf5d56-9306-4384-9aec-36e41359ca4a"
      },
      "source": [
        "columns = [\"cs-method\",\"sc-status\",\"sc-bytes\",\"cs-bytes\",\"time-taken\",\"cs-username\"]\n",
        "dataBirBakistaIhaleSelected = dataBirBakistaIhale[columns]\n",
        "dataBirBakistaIhaleSelected"
      ],
      "execution_count": null,
      "outputs": [
        {
          "output_type": "execute_result",
          "data": {
            "text/html": [
              "<div>\n",
              "<style scoped>\n",
              "    .dataframe tbody tr th:only-of-type {\n",
              "        vertical-align: middle;\n",
              "    }\n",
              "\n",
              "    .dataframe tbody tr th {\n",
              "        vertical-align: top;\n",
              "    }\n",
              "\n",
              "    .dataframe thead th {\n",
              "        text-align: right;\n",
              "    }\n",
              "</style>\n",
              "<table border=\"1\" class=\"dataframe\">\n",
              "  <thead>\n",
              "    <tr style=\"text-align: right;\">\n",
              "      <th></th>\n",
              "      <th>cs-method</th>\n",
              "      <th>sc-status</th>\n",
              "      <th>sc-bytes</th>\n",
              "      <th>cs-bytes</th>\n",
              "      <th>time-taken</th>\n",
              "      <th>cs-username</th>\n",
              "    </tr>\n",
              "  </thead>\n",
              "  <tbody>\n",
              "    <tr>\n",
              "      <th>0</th>\n",
              "      <td>GET</td>\n",
              "      <td>200</td>\n",
              "      <td>9788</td>\n",
              "      <td>1443</td>\n",
              "      <td>122</td>\n",
              "      <td>17302892776</td>\n",
              "    </tr>\n",
              "    <tr>\n",
              "      <th>1</th>\n",
              "      <td>GET</td>\n",
              "      <td>200</td>\n",
              "      <td>9656</td>\n",
              "      <td>862</td>\n",
              "      <td>152</td>\n",
              "      <td>-</td>\n",
              "    </tr>\n",
              "    <tr>\n",
              "      <th>2</th>\n",
              "      <td>GET</td>\n",
              "      <td>200</td>\n",
              "      <td>9508</td>\n",
              "      <td>1443</td>\n",
              "      <td>107</td>\n",
              "      <td>17302892776</td>\n",
              "    </tr>\n",
              "    <tr>\n",
              "      <th>3</th>\n",
              "      <td>GET</td>\n",
              "      <td>200</td>\n",
              "      <td>10115</td>\n",
              "      <td>1033</td>\n",
              "      <td>97</td>\n",
              "      <td>-</td>\n",
              "    </tr>\n",
              "    <tr>\n",
              "      <th>4</th>\n",
              "      <td>GET</td>\n",
              "      <td>200</td>\n",
              "      <td>9544</td>\n",
              "      <td>862</td>\n",
              "      <td>156</td>\n",
              "      <td>-</td>\n",
              "    </tr>\n",
              "    <tr>\n",
              "      <th>...</th>\n",
              "      <td>...</td>\n",
              "      <td>...</td>\n",
              "      <td>...</td>\n",
              "      <td>...</td>\n",
              "      <td>...</td>\n",
              "      <td>...</td>\n",
              "    </tr>\n",
              "    <tr>\n",
              "      <th>81111</th>\n",
              "      <td>GET</td>\n",
              "      <td>200</td>\n",
              "      <td>9678</td>\n",
              "      <td>1426</td>\n",
              "      <td>131</td>\n",
              "      <td>26458708572</td>\n",
              "    </tr>\n",
              "    <tr>\n",
              "      <th>81112</th>\n",
              "      <td>GET</td>\n",
              "      <td>200</td>\n",
              "      <td>9615</td>\n",
              "      <td>767</td>\n",
              "      <td>176</td>\n",
              "      <td>-</td>\n",
              "    </tr>\n",
              "    <tr>\n",
              "      <th>81113</th>\n",
              "      <td>GET</td>\n",
              "      <td>200</td>\n",
              "      <td>8206</td>\n",
              "      <td>1032</td>\n",
              "      <td>489</td>\n",
              "      <td>-</td>\n",
              "    </tr>\n",
              "    <tr>\n",
              "      <th>81114</th>\n",
              "      <td>GET</td>\n",
              "      <td>200</td>\n",
              "      <td>9744</td>\n",
              "      <td>1220</td>\n",
              "      <td>70</td>\n",
              "      <td>-</td>\n",
              "    </tr>\n",
              "    <tr>\n",
              "      <th>81115</th>\n",
              "      <td>GET</td>\n",
              "      <td>200</td>\n",
              "      <td>8121</td>\n",
              "      <td>1032</td>\n",
              "      <td>578</td>\n",
              "      <td>-</td>\n",
              "    </tr>\n",
              "  </tbody>\n",
              "</table>\n",
              "<p>81116 rows × 6 columns</p>\n",
              "</div>"
            ],
            "text/plain": [
              "      cs-method sc-status sc-bytes cs-bytes time-taken  cs-username\n",
              "0           GET       200     9788     1443        122  17302892776\n",
              "1           GET       200     9656      862        152            -\n",
              "2           GET       200     9508     1443        107  17302892776\n",
              "3           GET       200    10115     1033         97            -\n",
              "4           GET       200     9544      862        156            -\n",
              "...         ...       ...      ...      ...        ...          ...\n",
              "81111       GET       200     9678     1426        131  26458708572\n",
              "81112       GET       200     9615      767        176            -\n",
              "81113       GET       200     8206     1032        489            -\n",
              "81114       GET       200     9744     1220         70            -\n",
              "81115       GET       200     8121     1032        578            -\n",
              "\n",
              "[81116 rows x 6 columns]"
            ]
          },
          "metadata": {
            "tags": []
          },
          "execution_count": 14
        }
      ]
    },
    {
      "cell_type": "markdown",
      "metadata": {
        "id": "UzYHnDp97Lo7"
      },
      "source": [
        "# **CONVERTING TO SUITABLE DATA TYPE**"
      ]
    },
    {
      "cell_type": "code",
      "metadata": {
        "id": "M7dSMD7o60IC",
        "colab": {
          "base_uri": "https://localhost:8080/",
          "height": 214
        },
        "outputId": "cc0465b0-5ac9-42ae-dbb6-cd26dc40b5c5"
      },
      "source": [
        "dataBirBakistaIhaleSelected[\"cs-username\"].value_counts()"
      ],
      "execution_count": null,
      "outputs": [
        {
          "output_type": "execute_result",
          "data": {
            "text/plain": [
              "-              67402\n",
              "26458708572     2446\n",
              "16883908340      368\n",
              "36925552096      327\n",
              "31438587290      208\n",
              "               ...  \n",
              "11940013234        1\n",
              "11080145932        1\n",
              "64423255348        1\n",
              "33217412946        1\n",
              "39499707176        1\n",
              "Name: cs-username, Length: 1104, dtype: int64"
            ]
          },
          "metadata": {
            "tags": []
          },
          "execution_count": 15
        }
      ]
    },
    {
      "cell_type": "code",
      "metadata": {
        "id": "4l9KErt87S_R",
        "colab": {
          "base_uri": "https://localhost:8080/",
          "height": 247
        },
        "outputId": "2e800e8c-2093-422e-b6ad-a07cd3c7093f"
      },
      "source": [
        "dataBirBakistaIhaleSelected.loc[dataBirBakistaIhaleSelected['cs-username'] == \"-\", 'cs-username'] = \"1\" # User name anonymous"
      ],
      "execution_count": null,
      "outputs": [
        {
          "output_type": "stream",
          "text": [
            "/usr/local/lib/python3.6/dist-packages/pandas/core/indexing.py:671: SettingWithCopyWarning:\n",
            "\n",
            "\n",
            "A value is trying to be set on a copy of a slice from a DataFrame\n",
            "\n",
            "See the caveats in the documentation: https://pandas.pydata.org/pandas-docs/stable/user_guide/indexing.html#returning-a-view-versus-a-copy\n",
            "\n",
            "/usr/local/lib/python3.6/dist-packages/ipykernel_launcher.py:1: SettingWithCopyWarning:\n",
            "\n",
            "\n",
            "A value is trying to be set on a copy of a slice from a DataFrame\n",
            "\n",
            "See the caveats in the documentation: https://pandas.pydata.org/pandas-docs/stable/user_guide/indexing.html#returning-a-view-versus-a-copy\n",
            "\n"
          ],
          "name": "stderr"
        }
      ]
    },
    {
      "cell_type": "code",
      "metadata": {
        "id": "xKWeci7k7X-D",
        "colab": {
          "base_uri": "https://localhost:8080/",
          "height": 214
        },
        "outputId": "4200d8ed-4f6b-4542-b036-14815bbe3848"
      },
      "source": [
        "dataBirBakistaIhaleSelected[\"cs-username\"].value_counts()"
      ],
      "execution_count": null,
      "outputs": [
        {
          "output_type": "execute_result",
          "data": {
            "text/plain": [
              "1              67402\n",
              "26458708572     2446\n",
              "16883908340      368\n",
              "36925552096      327\n",
              "31438587290      208\n",
              "               ...  \n",
              "32380400224        1\n",
              "67849115494        1\n",
              "20404487818        1\n",
              "18793328348        1\n",
              "39499707176        1\n",
              "Name: cs-username, Length: 1104, dtype: int64"
            ]
          },
          "metadata": {
            "tags": []
          },
          "execution_count": 17
        }
      ]
    },
    {
      "cell_type": "code",
      "metadata": {
        "id": "azXnDvHY7Z5o",
        "colab": {
          "base_uri": "https://localhost:8080/",
          "height": 280
        },
        "outputId": "df4a41a1-30b1-4f3f-c529-9468a6440b0a"
      },
      "source": [
        "integerColumns = [\"sc-status\",\"sc-bytes\",\"cs-bytes\",\"time-taken\",\"cs-username\"]\n",
        "for column in integerColumns:\n",
        "  dataBirBakistaIhaleSelected[column] = dataBirBakistaIhaleSelected[column].astype(int)\n",
        "dataBirBakistaIhaleSelected['cs-method'] = (dataBirBakistaIhaleSelected['cs-method'] == 'GET').astype(int)"
      ],
      "execution_count": null,
      "outputs": [
        {
          "output_type": "stream",
          "text": [
            "/usr/local/lib/python3.6/dist-packages/ipykernel_launcher.py:3: SettingWithCopyWarning:\n",
            "\n",
            "\n",
            "A value is trying to be set on a copy of a slice from a DataFrame.\n",
            "Try using .loc[row_indexer,col_indexer] = value instead\n",
            "\n",
            "See the caveats in the documentation: https://pandas.pydata.org/pandas-docs/stable/user_guide/indexing.html#returning-a-view-versus-a-copy\n",
            "\n",
            "/usr/local/lib/python3.6/dist-packages/ipykernel_launcher.py:4: SettingWithCopyWarning:\n",
            "\n",
            "\n",
            "A value is trying to be set on a copy of a slice from a DataFrame.\n",
            "Try using .loc[row_indexer,col_indexer] = value instead\n",
            "\n",
            "See the caveats in the documentation: https://pandas.pydata.org/pandas-docs/stable/user_guide/indexing.html#returning-a-view-versus-a-copy\n",
            "\n"
          ],
          "name": "stderr"
        }
      ]
    },
    {
      "cell_type": "code",
      "metadata": {
        "id": "hzAwCPbv7d1b",
        "colab": {
          "base_uri": "https://localhost:8080/",
          "height": 412
        },
        "outputId": "780f9ef5-ea62-4b62-9c8d-c25a9793a9aa"
      },
      "source": [
        "dataBirBakistaIhaleSelected.loc[dataBirBakistaIhaleSelected['sc-status'] == 200, 'sc-statusBinary'] = 1 # status = 200\n",
        "dataBirBakistaIhaleSelected.loc[dataBirBakistaIhaleSelected['sc-status'] != 200, 'sc-statusBinary'] = 0 #status = 302\n",
        "dataBirBakistaIhaleSelected['sc-statusBinary'] = dataBirBakistaIhaleSelected['sc-statusBinary'].astype(int) #converting to integer from float"
      ],
      "execution_count": null,
      "outputs": [
        {
          "output_type": "stream",
          "text": [
            "/usr/local/lib/python3.6/dist-packages/pandas/core/indexing.py:845: SettingWithCopyWarning:\n",
            "\n",
            "\n",
            "A value is trying to be set on a copy of a slice from a DataFrame.\n",
            "Try using .loc[row_indexer,col_indexer] = value instead\n",
            "\n",
            "See the caveats in the documentation: https://pandas.pydata.org/pandas-docs/stable/user_guide/indexing.html#returning-a-view-versus-a-copy\n",
            "\n",
            "/usr/local/lib/python3.6/dist-packages/pandas/core/indexing.py:966: SettingWithCopyWarning:\n",
            "\n",
            "\n",
            "A value is trying to be set on a copy of a slice from a DataFrame.\n",
            "Try using .loc[row_indexer,col_indexer] = value instead\n",
            "\n",
            "See the caveats in the documentation: https://pandas.pydata.org/pandas-docs/stable/user_guide/indexing.html#returning-a-view-versus-a-copy\n",
            "\n",
            "/usr/local/lib/python3.6/dist-packages/ipykernel_launcher.py:3: SettingWithCopyWarning:\n",
            "\n",
            "\n",
            "A value is trying to be set on a copy of a slice from a DataFrame.\n",
            "Try using .loc[row_indexer,col_indexer] = value instead\n",
            "\n",
            "See the caveats in the documentation: https://pandas.pydata.org/pandas-docs/stable/user_guide/indexing.html#returning-a-view-versus-a-copy\n",
            "\n"
          ],
          "name": "stderr"
        }
      ]
    },
    {
      "cell_type": "code",
      "metadata": {
        "id": "OiVZFfVU7gtv",
        "colab": {
          "base_uri": "https://localhost:8080/",
          "height": 132
        },
        "outputId": "7f62ec77-f321-4a32-9ba6-57c895fea522"
      },
      "source": [
        "dataBirBakistaIhaleSelected.drop([\"sc-status\"],axis = 1,inplace = True)#dropping the sc-status row which contains 200 and 302"
      ],
      "execution_count": null,
      "outputs": [
        {
          "output_type": "stream",
          "text": [
            "/usr/local/lib/python3.6/dist-packages/pandas/core/frame.py:3997: SettingWithCopyWarning:\n",
            "\n",
            "\n",
            "A value is trying to be set on a copy of a slice from a DataFrame\n",
            "\n",
            "See the caveats in the documentation: https://pandas.pydata.org/pandas-docs/stable/user_guide/indexing.html#returning-a-view-versus-a-copy\n",
            "\n"
          ],
          "name": "stderr"
        }
      ]
    },
    {
      "cell_type": "code",
      "metadata": {
        "id": "nnrjbGKU7jpS",
        "colab": {
          "base_uri": "https://localhost:8080/",
          "height": 247
        },
        "outputId": "76b3c06d-83eb-48de-a66f-850884e7d4ce"
      },
      "source": [
        "dataBirBakistaIhaleSelected.loc[dataBirBakistaIhaleSelected['cs-username'] !=1 , 'cs-username'] = 0 # Registered User"
      ],
      "execution_count": null,
      "outputs": [
        {
          "output_type": "stream",
          "text": [
            "/usr/local/lib/python3.6/dist-packages/pandas/core/indexing.py:671: SettingWithCopyWarning:\n",
            "\n",
            "\n",
            "A value is trying to be set on a copy of a slice from a DataFrame\n",
            "\n",
            "See the caveats in the documentation: https://pandas.pydata.org/pandas-docs/stable/user_guide/indexing.html#returning-a-view-versus-a-copy\n",
            "\n",
            "/usr/local/lib/python3.6/dist-packages/ipykernel_launcher.py:1: SettingWithCopyWarning:\n",
            "\n",
            "\n",
            "A value is trying to be set on a copy of a slice from a DataFrame\n",
            "\n",
            "See the caveats in the documentation: https://pandas.pydata.org/pandas-docs/stable/user_guide/indexing.html#returning-a-view-versus-a-copy\n",
            "\n"
          ],
          "name": "stderr"
        }
      ]
    },
    {
      "cell_type": "code",
      "metadata": {
        "id": "wPYwtgSv7oMV",
        "colab": {
          "base_uri": "https://localhost:8080/",
          "height": 388
        },
        "outputId": "d0444b12-3fd9-47e8-9750-62d3d22f401f"
      },
      "source": [
        "dataBirBakistaIhaleSelected"
      ],
      "execution_count": null,
      "outputs": [
        {
          "output_type": "execute_result",
          "data": {
            "text/html": [
              "<div>\n",
              "<style scoped>\n",
              "    .dataframe tbody tr th:only-of-type {\n",
              "        vertical-align: middle;\n",
              "    }\n",
              "\n",
              "    .dataframe tbody tr th {\n",
              "        vertical-align: top;\n",
              "    }\n",
              "\n",
              "    .dataframe thead th {\n",
              "        text-align: right;\n",
              "    }\n",
              "</style>\n",
              "<table border=\"1\" class=\"dataframe\">\n",
              "  <thead>\n",
              "    <tr style=\"text-align: right;\">\n",
              "      <th></th>\n",
              "      <th>cs-method</th>\n",
              "      <th>sc-bytes</th>\n",
              "      <th>cs-bytes</th>\n",
              "      <th>time-taken</th>\n",
              "      <th>cs-username</th>\n",
              "      <th>sc-statusBinary</th>\n",
              "    </tr>\n",
              "  </thead>\n",
              "  <tbody>\n",
              "    <tr>\n",
              "      <th>0</th>\n",
              "      <td>1</td>\n",
              "      <td>9788</td>\n",
              "      <td>1443</td>\n",
              "      <td>122</td>\n",
              "      <td>0</td>\n",
              "      <td>1</td>\n",
              "    </tr>\n",
              "    <tr>\n",
              "      <th>1</th>\n",
              "      <td>1</td>\n",
              "      <td>9656</td>\n",
              "      <td>862</td>\n",
              "      <td>152</td>\n",
              "      <td>1</td>\n",
              "      <td>1</td>\n",
              "    </tr>\n",
              "    <tr>\n",
              "      <th>2</th>\n",
              "      <td>1</td>\n",
              "      <td>9508</td>\n",
              "      <td>1443</td>\n",
              "      <td>107</td>\n",
              "      <td>0</td>\n",
              "      <td>1</td>\n",
              "    </tr>\n",
              "    <tr>\n",
              "      <th>3</th>\n",
              "      <td>1</td>\n",
              "      <td>10115</td>\n",
              "      <td>1033</td>\n",
              "      <td>97</td>\n",
              "      <td>1</td>\n",
              "      <td>1</td>\n",
              "    </tr>\n",
              "    <tr>\n",
              "      <th>4</th>\n",
              "      <td>1</td>\n",
              "      <td>9544</td>\n",
              "      <td>862</td>\n",
              "      <td>156</td>\n",
              "      <td>1</td>\n",
              "      <td>1</td>\n",
              "    </tr>\n",
              "    <tr>\n",
              "      <th>...</th>\n",
              "      <td>...</td>\n",
              "      <td>...</td>\n",
              "      <td>...</td>\n",
              "      <td>...</td>\n",
              "      <td>...</td>\n",
              "      <td>...</td>\n",
              "    </tr>\n",
              "    <tr>\n",
              "      <th>81111</th>\n",
              "      <td>1</td>\n",
              "      <td>9678</td>\n",
              "      <td>1426</td>\n",
              "      <td>131</td>\n",
              "      <td>0</td>\n",
              "      <td>1</td>\n",
              "    </tr>\n",
              "    <tr>\n",
              "      <th>81112</th>\n",
              "      <td>1</td>\n",
              "      <td>9615</td>\n",
              "      <td>767</td>\n",
              "      <td>176</td>\n",
              "      <td>1</td>\n",
              "      <td>1</td>\n",
              "    </tr>\n",
              "    <tr>\n",
              "      <th>81113</th>\n",
              "      <td>1</td>\n",
              "      <td>8206</td>\n",
              "      <td>1032</td>\n",
              "      <td>489</td>\n",
              "      <td>1</td>\n",
              "      <td>1</td>\n",
              "    </tr>\n",
              "    <tr>\n",
              "      <th>81114</th>\n",
              "      <td>1</td>\n",
              "      <td>9744</td>\n",
              "      <td>1220</td>\n",
              "      <td>70</td>\n",
              "      <td>1</td>\n",
              "      <td>1</td>\n",
              "    </tr>\n",
              "    <tr>\n",
              "      <th>81115</th>\n",
              "      <td>1</td>\n",
              "      <td>8121</td>\n",
              "      <td>1032</td>\n",
              "      <td>578</td>\n",
              "      <td>1</td>\n",
              "      <td>1</td>\n",
              "    </tr>\n",
              "  </tbody>\n",
              "</table>\n",
              "<p>81116 rows × 6 columns</p>\n",
              "</div>"
            ],
            "text/plain": [
              "       cs-method  sc-bytes  cs-bytes  time-taken  cs-username  sc-statusBinary\n",
              "0              1      9788      1443         122            0                1\n",
              "1              1      9656       862         152            1                1\n",
              "2              1      9508      1443         107            0                1\n",
              "3              1     10115      1033          97            1                1\n",
              "4              1      9544       862         156            1                1\n",
              "...          ...       ...       ...         ...          ...              ...\n",
              "81111          1      9678      1426         131            0                1\n",
              "81112          1      9615       767         176            1                1\n",
              "81113          1      8206      1032         489            1                1\n",
              "81114          1      9744      1220          70            1                1\n",
              "81115          1      8121      1032         578            1                1\n",
              "\n",
              "[81116 rows x 6 columns]"
            ]
          },
          "metadata": {
            "tags": []
          },
          "execution_count": 22
        }
      ]
    },
    {
      "cell_type": "markdown",
      "metadata": {
        "id": "fzV5qRjUP1kY"
      },
      "source": [
        "# **NORMALIZING SELECTED DATA**"
      ]
    },
    {
      "cell_type": "code",
      "metadata": {
        "id": "V9zh9bvlPt6Q"
      },
      "source": [
        "normalized_dataBirBakistaIhaleSelected = (dataBirBakistaIhaleSelected-dataBirBakistaIhaleSelected.min())/(dataBirBakistaIhaleSelected.max()-dataBirBakistaIhaleSelected.min())"
      ],
      "execution_count": null,
      "outputs": []
    },
    {
      "cell_type": "code",
      "metadata": {
        "id": "U3TbMLDIQAPr",
        "colab": {
          "base_uri": "https://localhost:8080/",
          "height": 388
        },
        "outputId": "2d01efa2-fe9f-4856-e09f-4e58380426e4"
      },
      "source": [
        "normalized_dataBirBakistaIhaleSelected"
      ],
      "execution_count": null,
      "outputs": [
        {
          "output_type": "execute_result",
          "data": {
            "text/html": [
              "<div>\n",
              "<style scoped>\n",
              "    .dataframe tbody tr th:only-of-type {\n",
              "        vertical-align: middle;\n",
              "    }\n",
              "\n",
              "    .dataframe tbody tr th {\n",
              "        vertical-align: top;\n",
              "    }\n",
              "\n",
              "    .dataframe thead th {\n",
              "        text-align: right;\n",
              "    }\n",
              "</style>\n",
              "<table border=\"1\" class=\"dataframe\">\n",
              "  <thead>\n",
              "    <tr style=\"text-align: right;\">\n",
              "      <th></th>\n",
              "      <th>cs-method</th>\n",
              "      <th>sc-bytes</th>\n",
              "      <th>cs-bytes</th>\n",
              "      <th>time-taken</th>\n",
              "      <th>cs-username</th>\n",
              "      <th>sc-statusBinary</th>\n",
              "    </tr>\n",
              "  </thead>\n",
              "  <tbody>\n",
              "    <tr>\n",
              "      <th>0</th>\n",
              "      <td>1.0</td>\n",
              "      <td>0.039226</td>\n",
              "      <td>0.035469</td>\n",
              "      <td>0.000378</td>\n",
              "      <td>0.0</td>\n",
              "      <td>1.0</td>\n",
              "    </tr>\n",
              "    <tr>\n",
              "      <th>1</th>\n",
              "      <td>1.0</td>\n",
              "      <td>0.038697</td>\n",
              "      <td>0.018466</td>\n",
              "      <td>0.000487</td>\n",
              "      <td>1.0</td>\n",
              "      <td>1.0</td>\n",
              "    </tr>\n",
              "    <tr>\n",
              "      <th>2</th>\n",
              "      <td>1.0</td>\n",
              "      <td>0.038104</td>\n",
              "      <td>0.035469</td>\n",
              "      <td>0.000323</td>\n",
              "      <td>0.0</td>\n",
              "      <td>1.0</td>\n",
              "    </tr>\n",
              "    <tr>\n",
              "      <th>3</th>\n",
              "      <td>1.0</td>\n",
              "      <td>0.040536</td>\n",
              "      <td>0.023470</td>\n",
              "      <td>0.000287</td>\n",
              "      <td>1.0</td>\n",
              "      <td>1.0</td>\n",
              "    </tr>\n",
              "    <tr>\n",
              "      <th>4</th>\n",
              "      <td>1.0</td>\n",
              "      <td>0.038248</td>\n",
              "      <td>0.018466</td>\n",
              "      <td>0.000501</td>\n",
              "      <td>1.0</td>\n",
              "      <td>1.0</td>\n",
              "    </tr>\n",
              "    <tr>\n",
              "      <th>...</th>\n",
              "      <td>...</td>\n",
              "      <td>...</td>\n",
              "      <td>...</td>\n",
              "      <td>...</td>\n",
              "      <td>...</td>\n",
              "      <td>...</td>\n",
              "    </tr>\n",
              "    <tr>\n",
              "      <th>81111</th>\n",
              "      <td>1.0</td>\n",
              "      <td>0.038785</td>\n",
              "      <td>0.034971</td>\n",
              "      <td>0.000410</td>\n",
              "      <td>0.0</td>\n",
              "      <td>1.0</td>\n",
              "    </tr>\n",
              "    <tr>\n",
              "      <th>81112</th>\n",
              "      <td>1.0</td>\n",
              "      <td>0.038533</td>\n",
              "      <td>0.015686</td>\n",
              "      <td>0.000574</td>\n",
              "      <td>1.0</td>\n",
              "      <td>1.0</td>\n",
              "    </tr>\n",
              "    <tr>\n",
              "      <th>81113</th>\n",
              "      <td>1.0</td>\n",
              "      <td>0.032886</td>\n",
              "      <td>0.023441</td>\n",
              "      <td>0.001711</td>\n",
              "      <td>1.0</td>\n",
              "      <td>1.0</td>\n",
              "    </tr>\n",
              "    <tr>\n",
              "      <th>81114</th>\n",
              "      <td>1.0</td>\n",
              "      <td>0.039050</td>\n",
              "      <td>0.028943</td>\n",
              "      <td>0.000189</td>\n",
              "      <td>1.0</td>\n",
              "      <td>1.0</td>\n",
              "    </tr>\n",
              "    <tr>\n",
              "      <th>81115</th>\n",
              "      <td>1.0</td>\n",
              "      <td>0.032545</td>\n",
              "      <td>0.023441</td>\n",
              "      <td>0.002034</td>\n",
              "      <td>1.0</td>\n",
              "      <td>1.0</td>\n",
              "    </tr>\n",
              "  </tbody>\n",
              "</table>\n",
              "<p>81116 rows × 6 columns</p>\n",
              "</div>"
            ],
            "text/plain": [
              "       cs-method  sc-bytes  cs-bytes  time-taken  cs-username  sc-statusBinary\n",
              "0            1.0  0.039226  0.035469    0.000378          0.0              1.0\n",
              "1            1.0  0.038697  0.018466    0.000487          1.0              1.0\n",
              "2            1.0  0.038104  0.035469    0.000323          0.0              1.0\n",
              "3            1.0  0.040536  0.023470    0.000287          1.0              1.0\n",
              "4            1.0  0.038248  0.018466    0.000501          1.0              1.0\n",
              "...          ...       ...       ...         ...          ...              ...\n",
              "81111        1.0  0.038785  0.034971    0.000410          0.0              1.0\n",
              "81112        1.0  0.038533  0.015686    0.000574          1.0              1.0\n",
              "81113        1.0  0.032886  0.023441    0.001711          1.0              1.0\n",
              "81114        1.0  0.039050  0.028943    0.000189          1.0              1.0\n",
              "81115        1.0  0.032545  0.023441    0.002034          1.0              1.0\n",
              "\n",
              "[81116 rows x 6 columns]"
            ]
          },
          "metadata": {
            "tags": []
          },
          "execution_count": 24
        }
      ]
    },
    {
      "cell_type": "markdown",
      "metadata": {
        "id": "3JYsIqba8ueA"
      },
      "source": [
        "# **FINDING OPTIMUM PARAMETERS OF LOF**\n"
      ]
    },
    {
      "cell_type": "code",
      "metadata": {
        "id": "WuTtaX6jxrN6"
      },
      "source": [
        "data=normalized_dataBirBakistaIhaleSelected.drop([\"cs-method\",\"cs-username\"],axis = 1)"
      ],
      "execution_count": null,
      "outputs": []
    },
    {
      "cell_type": "code",
      "metadata": {
        "id": "Yv95aJ6eKfC_",
        "colab": {
          "base_uri": "https://localhost:8080/",
          "height": 388
        },
        "outputId": "a7b75ab5-97f9-417f-ca8b-e88cbe61a02a"
      },
      "source": [
        "data"
      ],
      "execution_count": null,
      "outputs": [
        {
          "output_type": "execute_result",
          "data": {
            "text/html": [
              "<div>\n",
              "<style scoped>\n",
              "    .dataframe tbody tr th:only-of-type {\n",
              "        vertical-align: middle;\n",
              "    }\n",
              "\n",
              "    .dataframe tbody tr th {\n",
              "        vertical-align: top;\n",
              "    }\n",
              "\n",
              "    .dataframe thead th {\n",
              "        text-align: right;\n",
              "    }\n",
              "</style>\n",
              "<table border=\"1\" class=\"dataframe\">\n",
              "  <thead>\n",
              "    <tr style=\"text-align: right;\">\n",
              "      <th></th>\n",
              "      <th>sc-bytes</th>\n",
              "      <th>cs-bytes</th>\n",
              "      <th>time-taken</th>\n",
              "      <th>sc-statusBinary</th>\n",
              "    </tr>\n",
              "  </thead>\n",
              "  <tbody>\n",
              "    <tr>\n",
              "      <th>0</th>\n",
              "      <td>0.039226</td>\n",
              "      <td>0.035469</td>\n",
              "      <td>0.000378</td>\n",
              "      <td>1.0</td>\n",
              "    </tr>\n",
              "    <tr>\n",
              "      <th>1</th>\n",
              "      <td>0.038697</td>\n",
              "      <td>0.018466</td>\n",
              "      <td>0.000487</td>\n",
              "      <td>1.0</td>\n",
              "    </tr>\n",
              "    <tr>\n",
              "      <th>2</th>\n",
              "      <td>0.038104</td>\n",
              "      <td>0.035469</td>\n",
              "      <td>0.000323</td>\n",
              "      <td>1.0</td>\n",
              "    </tr>\n",
              "    <tr>\n",
              "      <th>3</th>\n",
              "      <td>0.040536</td>\n",
              "      <td>0.023470</td>\n",
              "      <td>0.000287</td>\n",
              "      <td>1.0</td>\n",
              "    </tr>\n",
              "    <tr>\n",
              "      <th>4</th>\n",
              "      <td>0.038248</td>\n",
              "      <td>0.018466</td>\n",
              "      <td>0.000501</td>\n",
              "      <td>1.0</td>\n",
              "    </tr>\n",
              "    <tr>\n",
              "      <th>...</th>\n",
              "      <td>...</td>\n",
              "      <td>...</td>\n",
              "      <td>...</td>\n",
              "      <td>...</td>\n",
              "    </tr>\n",
              "    <tr>\n",
              "      <th>81111</th>\n",
              "      <td>0.038785</td>\n",
              "      <td>0.034971</td>\n",
              "      <td>0.000410</td>\n",
              "      <td>1.0</td>\n",
              "    </tr>\n",
              "    <tr>\n",
              "      <th>81112</th>\n",
              "      <td>0.038533</td>\n",
              "      <td>0.015686</td>\n",
              "      <td>0.000574</td>\n",
              "      <td>1.0</td>\n",
              "    </tr>\n",
              "    <tr>\n",
              "      <th>81113</th>\n",
              "      <td>0.032886</td>\n",
              "      <td>0.023441</td>\n",
              "      <td>0.001711</td>\n",
              "      <td>1.0</td>\n",
              "    </tr>\n",
              "    <tr>\n",
              "      <th>81114</th>\n",
              "      <td>0.039050</td>\n",
              "      <td>0.028943</td>\n",
              "      <td>0.000189</td>\n",
              "      <td>1.0</td>\n",
              "    </tr>\n",
              "    <tr>\n",
              "      <th>81115</th>\n",
              "      <td>0.032545</td>\n",
              "      <td>0.023441</td>\n",
              "      <td>0.002034</td>\n",
              "      <td>1.0</td>\n",
              "    </tr>\n",
              "  </tbody>\n",
              "</table>\n",
              "<p>81116 rows × 4 columns</p>\n",
              "</div>"
            ],
            "text/plain": [
              "       sc-bytes  cs-bytes  time-taken  sc-statusBinary\n",
              "0      0.039226  0.035469    0.000378              1.0\n",
              "1      0.038697  0.018466    0.000487              1.0\n",
              "2      0.038104  0.035469    0.000323              1.0\n",
              "3      0.040536  0.023470    0.000287              1.0\n",
              "4      0.038248  0.018466    0.000501              1.0\n",
              "...         ...       ...         ...              ...\n",
              "81111  0.038785  0.034971    0.000410              1.0\n",
              "81112  0.038533  0.015686    0.000574              1.0\n",
              "81113  0.032886  0.023441    0.001711              1.0\n",
              "81114  0.039050  0.028943    0.000189              1.0\n",
              "81115  0.032545  0.023441    0.002034              1.0\n",
              "\n",
              "[81116 rows x 4 columns]"
            ]
          },
          "metadata": {
            "tags": []
          },
          "execution_count": 26
        }
      ]
    },
    {
      "cell_type": "code",
      "metadata": {
        "id": "36LgITfYxxJg"
      },
      "source": [
        "n_neighborsGrid= np.arange(5,80,5)"
      ],
      "execution_count": null,
      "outputs": []
    },
    {
      "cell_type": "code",
      "metadata": {
        "id": "ykZ4p6a7J8lp",
        "colab": {
          "base_uri": "https://localhost:8080/",
          "height": 33
        },
        "outputId": "59192127-907e-4b13-ee7c-313d88d0384b"
      },
      "source": [
        "n_neighborsGrid"
      ],
      "execution_count": null,
      "outputs": [
        {
          "output_type": "execute_result",
          "data": {
            "text/plain": [
              "array([ 5, 10, 15, 20, 25, 30, 35, 40, 45, 50, 55, 60, 65, 70, 75])"
            ]
          },
          "metadata": {
            "tags": []
          },
          "execution_count": 28
        }
      ]
    },
    {
      "cell_type": "code",
      "metadata": {
        "id": "77Y9Lefqx3-h"
      },
      "source": [
        "contaminationGrid = np.arange(0.1,0.5,0.05)"
      ],
      "execution_count": null,
      "outputs": []
    },
    {
      "cell_type": "code",
      "metadata": {
        "id": "iwdFRO9_KDOi",
        "colab": {
          "base_uri": "https://localhost:8080/",
          "height": 33
        },
        "outputId": "fbe0b5c0-5e97-4ad4-b3a1-e51361d3326c"
      },
      "source": [
        "contaminationGrid"
      ],
      "execution_count": null,
      "outputs": [
        {
          "output_type": "execute_result",
          "data": {
            "text/plain": [
              "array([0.1 , 0.15, 0.2 , 0.25, 0.3 , 0.35, 0.4 , 0.45])"
            ]
          },
          "metadata": {
            "tags": []
          },
          "execution_count": 30
        }
      ]
    },
    {
      "cell_type": "code",
      "metadata": {
        "id": "8SaETQvvyTdm"
      },
      "source": [
        "n = len(data)\n",
        "dfMeanInKC = pd.DataFrame(index = n_neighborsGrid,columns = contaminationGrid)\n",
        "dfMeanOutKC = pd.DataFrame(index = n_neighborsGrid,columns = contaminationGrid)\n",
        "dfVarianceInKC = pd.DataFrame(index = n_neighborsGrid,columns = contaminationGrid)\n",
        "dfVarianceOutKC = pd.DataFrame(index = n_neighborsGrid,columns = contaminationGrid)\n",
        "dfTtest = pd.DataFrame(index = n_neighborsGrid,columns = contaminationGrid)\n",
        "cn_Values = np.zeros(len(contaminationGrid))"
      ],
      "execution_count": null,
      "outputs": []
    },
    {
      "cell_type": "code",
      "metadata": {
        "id": "WFNF-z13yYF_"
      },
      "source": [
        "for indexofC,c in enumerate(contaminationGrid):\n",
        "  floor_cn=np.floor(c*n).astype(int)\n",
        "  for indexofK,k in enumerate(n_neighborsGrid):\n",
        "    clf = LocalOutlierFactor(n_neighbors=k, contamination = c)\n",
        "    predict = clf.fit_predict(data)\n",
        "    \n",
        "    inliersIndex = np.where(predict == 1)\n",
        "    outliersIndex = np.where(predict == -1)\n",
        "    \n",
        "    LOF = clf.negative_outlier_factor_*(-1)\n",
        "    outliersLOF = LOF[outliersIndex]\n",
        "    inliersLOF = LOF[inliersIndex]\n",
        "    maxCN_inliersLOF = inliersLOF[inliersLOF.argsort()[(-1*floor_cn):][::-1]] #LOF scores of inliers for the top floor_cn \n",
        "    \n",
        "    #natural log\n",
        "    outliersLOF_naturalLog = np.log(outliersLOF)\n",
        "    maxCN_inliersLOF_naturalLog = np.log(maxCN_inliersLOF)\n",
        "\n",
        "    #variance of the logarithmic of outliers/inliers LOF scores\n",
        "    varianceOutliersLOF = np.var(outliersLOF_naturalLog)\n",
        "    varianceInliersLOF = np.var(maxCN_inliersLOF_naturalLog)\n",
        "\n",
        "    #mean of the logarithmic of outliers/inliers LOF scores\n",
        "    meanOutliersLOF = np.mean(outliersLOF_naturalLog)\n",
        "    meanInliersLOF = np.mean(maxCN_inliersLOF_naturalLog)\n",
        "\n",
        "    #filling dataFrames\n",
        "    dfMeanInKC.at[k,c] = meanInliersLOF\n",
        "    dfMeanOutKC.at[k,c] = meanOutliersLOF\n",
        "\n",
        "    dfVarianceInKC.at[k,c] = varianceInliersLOF\n",
        "    dfVarianceOutKC.at[k,c] = varianceOutliersLOF\n",
        "\n",
        "  cn_Values[indexofC] = floor_cn"
      ],
      "execution_count": null,
      "outputs": []
    },
    {
      "cell_type": "code",
      "metadata": {
        "id": "QV4bK289zecL"
      },
      "source": [
        "dfTtest = (dfMeanOutKC-dfMeanInKC)/((1/floor_cn)*(dfVarianceOutKC+dfVarianceInKC))**(1/2)\n",
        "\n",
        "#calculating of mean of inliers/outliers for every C value \n",
        "dfMeanInC = pd.DataFrame(dfMeanInKC.mean(),columns =['mean'])\n",
        "dfMeanOutC = pd.DataFrame(dfMeanOutKC.mean(),columns =['mean'])\n",
        "\n",
        "#calculating of variance of inliers/outliers for every C value \n",
        "dfVarianceInC = pd.DataFrame(dfVarianceInKC.mean(),columns =['mean'])\n",
        "dfVarianceOutC = pd.DataFrame(dfVarianceOutKC.mean(),columns =['mean'])\n",
        "\n",
        "#calculating of noncentrality parameter for C\n",
        "dfNCPc = (dfMeanOutC-dfMeanInC)/(np.sqrt((1/floor_cn)*(dfVarianceOutC+dfVarianceInC)))\n",
        "\n",
        "#calculating of degrees of freedom\n",
        "dfDFc = (2*cn_Values)-2\n",
        "\n",
        "#finding maximize values the standardized difference between outliers and inliers for every c value\n",
        "dfKc = pd.DataFrame(dfTtest.max(),columns=[\"max\"])\n"
      ],
      "execution_count": null,
      "outputs": []
    },
    {
      "cell_type": "code",
      "metadata": {
        "id": "Rrb5_qCY3PlJ"
      },
      "source": [
        "ar_dfNCPc = np.asarray(dfNCPc)"
      ],
      "execution_count": null,
      "outputs": []
    },
    {
      "cell_type": "code",
      "metadata": {
        "id": "9md28RJU31xK"
      },
      "source": [
        "ar_dfDFc = np.asarray(dfDFc)"
      ],
      "execution_count": null,
      "outputs": []
    },
    {
      "cell_type": "code",
      "metadata": {
        "id": "ACajZhlD34Sl"
      },
      "source": [
        "ar_dfKc = np.asarray(dfKc)"
      ],
      "execution_count": null,
      "outputs": []
    },
    {
      "cell_type": "code",
      "metadata": {
        "id": "4i4aozab-Jms"
      },
      "source": [
        "dfRandomVariables = pd.DataFrame()\n",
        "for indexofC,c in enumerate(contaminationGrid):\n",
        "   dfRandomVariables = dfRandomVariables.append(pd.Series(nct.rvs(ar_dfKc[indexofC], ar_dfNCPc[indexofC],size=8)), ignore_index=True)"
      ],
      "execution_count": null,
      "outputs": []
    },
    {
      "cell_type": "code",
      "metadata": {
        "id": "MblP1Aso_V6s",
        "colab": {
          "base_uri": "https://localhost:8080/",
          "height": 274
        },
        "outputId": "d8e3c21e-1ce4-4f3e-b71c-d3a023e53a28"
      },
      "source": [
        "dfRandomVariables"
      ],
      "execution_count": null,
      "outputs": [
        {
          "output_type": "execute_result",
          "data": {
            "text/html": [
              "<div>\n",
              "<style scoped>\n",
              "    .dataframe tbody tr th:only-of-type {\n",
              "        vertical-align: middle;\n",
              "    }\n",
              "\n",
              "    .dataframe tbody tr th {\n",
              "        vertical-align: top;\n",
              "    }\n",
              "\n",
              "    .dataframe thead th {\n",
              "        text-align: right;\n",
              "    }\n",
              "</style>\n",
              "<table border=\"1\" class=\"dataframe\">\n",
              "  <thead>\n",
              "    <tr style=\"text-align: right;\">\n",
              "      <th></th>\n",
              "      <th>0</th>\n",
              "      <th>1</th>\n",
              "      <th>2</th>\n",
              "      <th>3</th>\n",
              "      <th>4</th>\n",
              "      <th>5</th>\n",
              "      <th>6</th>\n",
              "      <th>7</th>\n",
              "    </tr>\n",
              "  </thead>\n",
              "  <tbody>\n",
              "    <tr>\n",
              "      <th>0</th>\n",
              "      <td>122.703375</td>\n",
              "      <td>117.763885</td>\n",
              "      <td>136.250938</td>\n",
              "      <td>128.796192</td>\n",
              "      <td>133.524866</td>\n",
              "      <td>134.003100</td>\n",
              "      <td>132.470433</td>\n",
              "      <td>129.545515</td>\n",
              "    </tr>\n",
              "    <tr>\n",
              "      <th>1</th>\n",
              "      <td>129.352042</td>\n",
              "      <td>133.305385</td>\n",
              "      <td>138.951901</td>\n",
              "      <td>120.005440</td>\n",
              "      <td>139.751518</td>\n",
              "      <td>119.976224</td>\n",
              "      <td>128.841072</td>\n",
              "      <td>143.380645</td>\n",
              "    </tr>\n",
              "    <tr>\n",
              "      <th>2</th>\n",
              "      <td>125.144216</td>\n",
              "      <td>141.481512</td>\n",
              "      <td>119.602311</td>\n",
              "      <td>125.914972</td>\n",
              "      <td>130.408958</td>\n",
              "      <td>125.566542</td>\n",
              "      <td>118.612346</td>\n",
              "      <td>133.390359</td>\n",
              "    </tr>\n",
              "    <tr>\n",
              "      <th>3</th>\n",
              "      <td>119.668705</td>\n",
              "      <td>127.807172</td>\n",
              "      <td>109.142093</td>\n",
              "      <td>116.388435</td>\n",
              "      <td>124.470973</td>\n",
              "      <td>110.365910</td>\n",
              "      <td>118.548632</td>\n",
              "      <td>124.987006</td>\n",
              "    </tr>\n",
              "    <tr>\n",
              "      <th>4</th>\n",
              "      <td>116.589577</td>\n",
              "      <td>117.264251</td>\n",
              "      <td>122.834416</td>\n",
              "      <td>128.845838</td>\n",
              "      <td>123.145729</td>\n",
              "      <td>116.280140</td>\n",
              "      <td>112.174458</td>\n",
              "      <td>120.515601</td>\n",
              "    </tr>\n",
              "    <tr>\n",
              "      <th>5</th>\n",
              "      <td>98.682695</td>\n",
              "      <td>122.250074</td>\n",
              "      <td>109.064529</td>\n",
              "      <td>125.555980</td>\n",
              "      <td>116.174732</td>\n",
              "      <td>109.582536</td>\n",
              "      <td>113.088835</td>\n",
              "      <td>112.919458</td>\n",
              "    </tr>\n",
              "    <tr>\n",
              "      <th>6</th>\n",
              "      <td>105.412864</td>\n",
              "      <td>100.186443</td>\n",
              "      <td>107.326710</td>\n",
              "      <td>113.287113</td>\n",
              "      <td>102.935580</td>\n",
              "      <td>107.320825</td>\n",
              "      <td>107.886747</td>\n",
              "      <td>100.518583</td>\n",
              "    </tr>\n",
              "    <tr>\n",
              "      <th>7</th>\n",
              "      <td>104.527953</td>\n",
              "      <td>107.888922</td>\n",
              "      <td>120.831371</td>\n",
              "      <td>125.104264</td>\n",
              "      <td>104.756060</td>\n",
              "      <td>102.829961</td>\n",
              "      <td>99.630100</td>\n",
              "      <td>110.815852</td>\n",
              "    </tr>\n",
              "  </tbody>\n",
              "</table>\n",
              "</div>"
            ],
            "text/plain": [
              "            0           1           2  ...           5           6           7\n",
              "0  122.703375  117.763885  136.250938  ...  134.003100  132.470433  129.545515\n",
              "1  129.352042  133.305385  138.951901  ...  119.976224  128.841072  143.380645\n",
              "2  125.144216  141.481512  119.602311  ...  125.566542  118.612346  133.390359\n",
              "3  119.668705  127.807172  109.142093  ...  110.365910  118.548632  124.987006\n",
              "4  116.589577  117.264251  122.834416  ...  116.280140  112.174458  120.515601\n",
              "5   98.682695  122.250074  109.064529  ...  109.582536  113.088835  112.919458\n",
              "6  105.412864  100.186443  107.326710  ...  107.320825  107.886747  100.518583\n",
              "7  104.527953  107.888922  120.831371  ...  102.829961   99.630100  110.815852\n",
              "\n",
              "[8 rows x 8 columns]"
            ]
          },
          "metadata": {
            "tags": []
          },
          "execution_count": 39
        }
      ]
    },
    {
      "cell_type": "code",
      "metadata": {
        "id": "YhWL8uAs-S3Z",
        "colab": {
          "base_uri": "https://localhost:8080/",
          "height": 274
        },
        "outputId": "f4955d67-4cf6-41bc-8b44-70485aa0f971"
      },
      "source": [
        "dfKc"
      ],
      "execution_count": null,
      "outputs": [
        {
          "output_type": "execute_result",
          "data": {
            "text/html": [
              "<div>\n",
              "<style scoped>\n",
              "    .dataframe tbody tr th:only-of-type {\n",
              "        vertical-align: middle;\n",
              "    }\n",
              "\n",
              "    .dataframe tbody tr th {\n",
              "        vertical-align: top;\n",
              "    }\n",
              "\n",
              "    .dataframe thead th {\n",
              "        text-align: right;\n",
              "    }\n",
              "</style>\n",
              "<table border=\"1\" class=\"dataframe\">\n",
              "  <thead>\n",
              "    <tr style=\"text-align: right;\">\n",
              "      <th></th>\n",
              "      <th>max</th>\n",
              "    </tr>\n",
              "  </thead>\n",
              "  <tbody>\n",
              "    <tr>\n",
              "      <th>0.10</th>\n",
              "      <td>175.027008</td>\n",
              "    </tr>\n",
              "    <tr>\n",
              "      <th>0.15</th>\n",
              "      <td>169.288105</td>\n",
              "    </tr>\n",
              "    <tr>\n",
              "      <th>0.20</th>\n",
              "      <td>161.293618</td>\n",
              "    </tr>\n",
              "    <tr>\n",
              "      <th>0.25</th>\n",
              "      <td>153.368070</td>\n",
              "    </tr>\n",
              "    <tr>\n",
              "      <th>0.30</th>\n",
              "      <td>147.815937</td>\n",
              "    </tr>\n",
              "    <tr>\n",
              "      <th>0.35</th>\n",
              "      <td>143.149449</td>\n",
              "    </tr>\n",
              "    <tr>\n",
              "      <th>0.40</th>\n",
              "      <td>139.309500</td>\n",
              "    </tr>\n",
              "    <tr>\n",
              "      <th>0.45</th>\n",
              "      <td>136.425462</td>\n",
              "    </tr>\n",
              "  </tbody>\n",
              "</table>\n",
              "</div>"
            ],
            "text/plain": [
              "             max\n",
              "0.10  175.027008\n",
              "0.15  169.288105\n",
              "0.20  161.293618\n",
              "0.25  153.368070\n",
              "0.30  147.815937\n",
              "0.35  143.149449\n",
              "0.40  139.309500\n",
              "0.45  136.425462"
            ]
          },
          "metadata": {
            "tags": []
          },
          "execution_count": 40
        }
      ]
    },
    {
      "cell_type": "code",
      "metadata": {
        "id": "8qrkO8-a4Tgo",
        "colab": {
          "base_uri": "https://localhost:8080/",
          "height": 474
        },
        "outputId": "20dfbce7-9661-408e-a7ca-c63e2d676c2d"
      },
      "source": [
        "dfTtest"
      ],
      "execution_count": null,
      "outputs": [
        {
          "output_type": "execute_result",
          "data": {
            "text/html": [
              "<div>\n",
              "<style scoped>\n",
              "    .dataframe tbody tr th:only-of-type {\n",
              "        vertical-align: middle;\n",
              "    }\n",
              "\n",
              "    .dataframe tbody tr th {\n",
              "        vertical-align: top;\n",
              "    }\n",
              "\n",
              "    .dataframe thead th {\n",
              "        text-align: right;\n",
              "    }\n",
              "</style>\n",
              "<table border=\"1\" class=\"dataframe\">\n",
              "  <thead>\n",
              "    <tr style=\"text-align: right;\">\n",
              "      <th></th>\n",
              "      <th>0.10</th>\n",
              "      <th>0.15</th>\n",
              "      <th>0.20</th>\n",
              "      <th>0.25</th>\n",
              "      <th>0.30</th>\n",
              "      <th>0.35</th>\n",
              "      <th>0.40</th>\n",
              "      <th>0.45</th>\n",
              "    </tr>\n",
              "  </thead>\n",
              "  <tbody>\n",
              "    <tr>\n",
              "      <th>5</th>\n",
              "      <td>84.2876</td>\n",
              "      <td>76.8593</td>\n",
              "      <td>72.6104</td>\n",
              "      <td>69.5862</td>\n",
              "      <td>67.24</td>\n",
              "      <td>65.4119</td>\n",
              "      <td>63.7485</td>\n",
              "      <td>62.6269</td>\n",
              "    </tr>\n",
              "    <tr>\n",
              "      <th>10</th>\n",
              "      <td>145.083</td>\n",
              "      <td>142.162</td>\n",
              "      <td>138.747</td>\n",
              "      <td>135.519</td>\n",
              "      <td>132.486</td>\n",
              "      <td>129.744</td>\n",
              "      <td>127.396</td>\n",
              "      <td>125.721</td>\n",
              "    </tr>\n",
              "    <tr>\n",
              "      <th>15</th>\n",
              "      <td>170.7</td>\n",
              "      <td>164.86</td>\n",
              "      <td>158.902</td>\n",
              "      <td>153.082</td>\n",
              "      <td>147.816</td>\n",
              "      <td>143.149</td>\n",
              "      <td>139.309</td>\n",
              "      <td>136.425</td>\n",
              "    </tr>\n",
              "    <tr>\n",
              "      <th>20</th>\n",
              "      <td>161.546</td>\n",
              "      <td>158.002</td>\n",
              "      <td>153.071</td>\n",
              "      <td>147.577</td>\n",
              "      <td>142.31</td>\n",
              "      <td>137.658</td>\n",
              "      <td>133.856</td>\n",
              "      <td>130.943</td>\n",
              "    </tr>\n",
              "    <tr>\n",
              "      <th>25</th>\n",
              "      <td>159.967</td>\n",
              "      <td>156.323</td>\n",
              "      <td>151.257</td>\n",
              "      <td>145.893</td>\n",
              "      <td>140.911</td>\n",
              "      <td>136.397</td>\n",
              "      <td>132.556</td>\n",
              "      <td>129.531</td>\n",
              "    </tr>\n",
              "    <tr>\n",
              "      <th>30</th>\n",
              "      <td>167.518</td>\n",
              "      <td>161.743</td>\n",
              "      <td>156.045</td>\n",
              "      <td>150.365</td>\n",
              "      <td>144.929</td>\n",
              "      <td>139.978</td>\n",
              "      <td>135.773</td>\n",
              "      <td>132.391</td>\n",
              "    </tr>\n",
              "    <tr>\n",
              "      <th>35</th>\n",
              "      <td>162.834</td>\n",
              "      <td>158.329</td>\n",
              "      <td>153.381</td>\n",
              "      <td>147.905</td>\n",
              "      <td>142.575</td>\n",
              "      <td>137.785</td>\n",
              "      <td>133.608</td>\n",
              "      <td>130.229</td>\n",
              "    </tr>\n",
              "    <tr>\n",
              "      <th>40</th>\n",
              "      <td>162.021</td>\n",
              "      <td>158.331</td>\n",
              "      <td>153.565</td>\n",
              "      <td>147.78</td>\n",
              "      <td>142.107</td>\n",
              "      <td>137.082</td>\n",
              "      <td>132.795</td>\n",
              "      <td>129.327</td>\n",
              "    </tr>\n",
              "    <tr>\n",
              "      <th>45</th>\n",
              "      <td>164.295</td>\n",
              "      <td>159.558</td>\n",
              "      <td>154.182</td>\n",
              "      <td>147.848</td>\n",
              "      <td>141.782</td>\n",
              "      <td>136.607</td>\n",
              "      <td>132.42</td>\n",
              "      <td>129.056</td>\n",
              "    </tr>\n",
              "    <tr>\n",
              "      <th>50</th>\n",
              "      <td>165.62</td>\n",
              "      <td>160.612</td>\n",
              "      <td>155.07</td>\n",
              "      <td>148.451</td>\n",
              "      <td>142.136</td>\n",
              "      <td>136.932</td>\n",
              "      <td>132.745</td>\n",
              "      <td>129.421</td>\n",
              "    </tr>\n",
              "    <tr>\n",
              "      <th>55</th>\n",
              "      <td>168.067</td>\n",
              "      <td>163.366</td>\n",
              "      <td>157.393</td>\n",
              "      <td>150.514</td>\n",
              "      <td>144.04</td>\n",
              "      <td>138.752</td>\n",
              "      <td>134.487</td>\n",
              "      <td>131.105</td>\n",
              "    </tr>\n",
              "    <tr>\n",
              "      <th>60</th>\n",
              "      <td>168.58</td>\n",
              "      <td>162.683</td>\n",
              "      <td>155.698</td>\n",
              "      <td>148.357</td>\n",
              "      <td>141.939</td>\n",
              "      <td>136.788</td>\n",
              "      <td>132.572</td>\n",
              "      <td>129.229</td>\n",
              "    </tr>\n",
              "    <tr>\n",
              "      <th>65</th>\n",
              "      <td>174.875</td>\n",
              "      <td>168.248</td>\n",
              "      <td>160.048</td>\n",
              "      <td>152.003</td>\n",
              "      <td>145.329</td>\n",
              "      <td>140.063</td>\n",
              "      <td>135.821</td>\n",
              "      <td>132.438</td>\n",
              "    </tr>\n",
              "    <tr>\n",
              "      <th>70</th>\n",
              "      <td>175.027</td>\n",
              "      <td>168.776</td>\n",
              "      <td>160.559</td>\n",
              "      <td>152.496</td>\n",
              "      <td>145.981</td>\n",
              "      <td>140.793</td>\n",
              "      <td>136.613</td>\n",
              "      <td>133.329</td>\n",
              "    </tr>\n",
              "    <tr>\n",
              "      <th>75</th>\n",
              "      <td>174.905</td>\n",
              "      <td>169.288</td>\n",
              "      <td>161.294</td>\n",
              "      <td>153.368</td>\n",
              "      <td>146.92</td>\n",
              "      <td>141.878</td>\n",
              "      <td>137.802</td>\n",
              "      <td>134.576</td>\n",
              "    </tr>\n",
              "  </tbody>\n",
              "</table>\n",
              "</div>"
            ],
            "text/plain": [
              "       0.10     0.15     0.20     0.25     0.30     0.35     0.40     0.45\n",
              "5   84.2876  76.8593  72.6104  69.5862    67.24  65.4119  63.7485  62.6269\n",
              "10  145.083  142.162  138.747  135.519  132.486  129.744  127.396  125.721\n",
              "15    170.7   164.86  158.902  153.082  147.816  143.149  139.309  136.425\n",
              "20  161.546  158.002  153.071  147.577   142.31  137.658  133.856  130.943\n",
              "25  159.967  156.323  151.257  145.893  140.911  136.397  132.556  129.531\n",
              "30  167.518  161.743  156.045  150.365  144.929  139.978  135.773  132.391\n",
              "35  162.834  158.329  153.381  147.905  142.575  137.785  133.608  130.229\n",
              "40  162.021  158.331  153.565   147.78  142.107  137.082  132.795  129.327\n",
              "45  164.295  159.558  154.182  147.848  141.782  136.607   132.42  129.056\n",
              "50   165.62  160.612   155.07  148.451  142.136  136.932  132.745  129.421\n",
              "55  168.067  163.366  157.393  150.514   144.04  138.752  134.487  131.105\n",
              "60   168.58  162.683  155.698  148.357  141.939  136.788  132.572  129.229\n",
              "65  174.875  168.248  160.048  152.003  145.329  140.063  135.821  132.438\n",
              "70  175.027  168.776  160.559  152.496  145.981  140.793  136.613  133.329\n",
              "75  174.905  169.288  161.294  153.368   146.92  141.878  137.802  134.576"
            ]
          },
          "metadata": {
            "tags": []
          },
          "execution_count": 41
        }
      ]
    },
    {
      "cell_type": "markdown",
      "metadata": {
        "id": "sq4dR1SfQnbA"
      },
      "source": [
        "# **LOF TEST**"
      ]
    },
    {
      "cell_type": "code",
      "metadata": {
        "id": "UyCA8eDxM1pv"
      },
      "source": [
        "clf = LocalOutlierFactor(n_neighbors=70, contamination = 0.1)\n",
        "predict = clf.fit_predict(data)"
      ],
      "execution_count": null,
      "outputs": []
    },
    {
      "cell_type": "code",
      "metadata": {
        "id": "Vt2u8dYBMmZi"
      },
      "source": [
        "dataLabelled = dataBirBakistaIhaleSelected.drop([\"cs-method\",\"cs-username\"],axis=1)"
      ],
      "execution_count": null,
      "outputs": []
    },
    {
      "cell_type": "code",
      "metadata": {
        "id": "wc4-qvh6XV1V"
      },
      "source": [
        "dataLabelled['label'] = predict "
      ],
      "execution_count": null,
      "outputs": []
    },
    {
      "cell_type": "code",
      "metadata": {
        "id": "x7qMgBbrXa-y",
        "colab": {
          "base_uri": "https://localhost:8080/",
          "height": 388
        },
        "outputId": "c76c0af5-7f10-4c6c-8d94-97db53595c0f"
      },
      "source": [
        "dataLabelled"
      ],
      "execution_count": null,
      "outputs": [
        {
          "output_type": "execute_result",
          "data": {
            "text/html": [
              "<div>\n",
              "<style scoped>\n",
              "    .dataframe tbody tr th:only-of-type {\n",
              "        vertical-align: middle;\n",
              "    }\n",
              "\n",
              "    .dataframe tbody tr th {\n",
              "        vertical-align: top;\n",
              "    }\n",
              "\n",
              "    .dataframe thead th {\n",
              "        text-align: right;\n",
              "    }\n",
              "</style>\n",
              "<table border=\"1\" class=\"dataframe\">\n",
              "  <thead>\n",
              "    <tr style=\"text-align: right;\">\n",
              "      <th></th>\n",
              "      <th>sc-bytes</th>\n",
              "      <th>cs-bytes</th>\n",
              "      <th>time-taken</th>\n",
              "      <th>sc-statusBinary</th>\n",
              "      <th>label</th>\n",
              "    </tr>\n",
              "  </thead>\n",
              "  <tbody>\n",
              "    <tr>\n",
              "      <th>0</th>\n",
              "      <td>9788</td>\n",
              "      <td>1443</td>\n",
              "      <td>122</td>\n",
              "      <td>1</td>\n",
              "      <td>-1</td>\n",
              "    </tr>\n",
              "    <tr>\n",
              "      <th>1</th>\n",
              "      <td>9656</td>\n",
              "      <td>862</td>\n",
              "      <td>152</td>\n",
              "      <td>1</td>\n",
              "      <td>1</td>\n",
              "    </tr>\n",
              "    <tr>\n",
              "      <th>2</th>\n",
              "      <td>9508</td>\n",
              "      <td>1443</td>\n",
              "      <td>107</td>\n",
              "      <td>1</td>\n",
              "      <td>1</td>\n",
              "    </tr>\n",
              "    <tr>\n",
              "      <th>3</th>\n",
              "      <td>10115</td>\n",
              "      <td>1033</td>\n",
              "      <td>97</td>\n",
              "      <td>1</td>\n",
              "      <td>-1</td>\n",
              "    </tr>\n",
              "    <tr>\n",
              "      <th>4</th>\n",
              "      <td>9544</td>\n",
              "      <td>862</td>\n",
              "      <td>156</td>\n",
              "      <td>1</td>\n",
              "      <td>1</td>\n",
              "    </tr>\n",
              "    <tr>\n",
              "      <th>...</th>\n",
              "      <td>...</td>\n",
              "      <td>...</td>\n",
              "      <td>...</td>\n",
              "      <td>...</td>\n",
              "      <td>...</td>\n",
              "    </tr>\n",
              "    <tr>\n",
              "      <th>81111</th>\n",
              "      <td>9678</td>\n",
              "      <td>1426</td>\n",
              "      <td>131</td>\n",
              "      <td>1</td>\n",
              "      <td>1</td>\n",
              "    </tr>\n",
              "    <tr>\n",
              "      <th>81112</th>\n",
              "      <td>9615</td>\n",
              "      <td>767</td>\n",
              "      <td>176</td>\n",
              "      <td>1</td>\n",
              "      <td>1</td>\n",
              "    </tr>\n",
              "    <tr>\n",
              "      <th>81113</th>\n",
              "      <td>8206</td>\n",
              "      <td>1032</td>\n",
              "      <td>489</td>\n",
              "      <td>1</td>\n",
              "      <td>1</td>\n",
              "    </tr>\n",
              "    <tr>\n",
              "      <th>81114</th>\n",
              "      <td>9744</td>\n",
              "      <td>1220</td>\n",
              "      <td>70</td>\n",
              "      <td>1</td>\n",
              "      <td>1</td>\n",
              "    </tr>\n",
              "    <tr>\n",
              "      <th>81115</th>\n",
              "      <td>8121</td>\n",
              "      <td>1032</td>\n",
              "      <td>578</td>\n",
              "      <td>1</td>\n",
              "      <td>1</td>\n",
              "    </tr>\n",
              "  </tbody>\n",
              "</table>\n",
              "<p>81116 rows × 5 columns</p>\n",
              "</div>"
            ],
            "text/plain": [
              "       sc-bytes  cs-bytes  time-taken  sc-statusBinary  label\n",
              "0          9788      1443         122                1     -1\n",
              "1          9656       862         152                1      1\n",
              "2          9508      1443         107                1      1\n",
              "3         10115      1033          97                1     -1\n",
              "4          9544       862         156                1      1\n",
              "...         ...       ...         ...              ...    ...\n",
              "81111      9678      1426         131                1      1\n",
              "81112      9615       767         176                1      1\n",
              "81113      8206      1032         489                1      1\n",
              "81114      9744      1220          70                1      1\n",
              "81115      8121      1032         578                1      1\n",
              "\n",
              "[81116 rows x 5 columns]"
            ]
          },
          "metadata": {
            "tags": []
          },
          "execution_count": 91
        }
      ]
    },
    {
      "cell_type": "code",
      "metadata": {
        "id": "iIkgy2odXnEY"
      },
      "source": [
        "df_status200 = dataLabelled[dataLabelled['sc-statusBinary']==1]"
      ],
      "execution_count": null,
      "outputs": []
    },
    {
      "cell_type": "code",
      "metadata": {
        "id": "LB5SWBODX2uh"
      },
      "source": [
        "df_statusOther = dataLabelled[dataLabelled['sc-statusBinary']==0]"
      ],
      "execution_count": null,
      "outputs": []
    },
    {
      "cell_type": "code",
      "metadata": {
        "id": "Op7G5bPhX7hl",
        "colab": {
          "base_uri": "https://localhost:8080/",
          "height": 49
        },
        "outputId": "6d502d90-ada5-4e79-f1c1-2cb5c72d60b2"
      },
      "source": [
        "df_statusOther['label'].value_counts()"
      ],
      "execution_count": null,
      "outputs": [
        {
          "output_type": "execute_result",
          "data": {
            "text/plain": [
              "-1    58\n",
              "Name: label, dtype: int64"
            ]
          },
          "metadata": {
            "tags": []
          },
          "execution_count": 80
        }
      ]
    },
    {
      "cell_type": "code",
      "metadata": {
        "id": "TwF-Tp-Pekew",
        "colab": {
          "base_uri": "https://localhost:8080/",
          "height": 66
        },
        "outputId": "926a251a-5d0c-4460-f50e-0f9aa96a374b"
      },
      "source": [
        "df_status200['label'].value_counts()"
      ],
      "execution_count": null,
      "outputs": [
        {
          "output_type": "execute_result",
          "data": {
            "text/plain": [
              " 1    73004\n",
              "-1     8054\n",
              "Name: label, dtype: int64"
            ]
          },
          "metadata": {
            "tags": []
          },
          "execution_count": 116
        }
      ]
    },
    {
      "cell_type": "code",
      "metadata": {
        "id": "MxWroWnlM5GX",
        "colab": {
          "base_uri": "https://localhost:8080/",
          "height": 331
        },
        "outputId": "0c78275c-1bda-4fc2-a472-c9ee8d612d7f"
      },
      "source": [
        "df_status200[df_status200['label']==-1].head(10)"
      ],
      "execution_count": null,
      "outputs": [
        {
          "output_type": "execute_result",
          "data": {
            "text/html": [
              "<div>\n",
              "<style scoped>\n",
              "    .dataframe tbody tr th:only-of-type {\n",
              "        vertical-align: middle;\n",
              "    }\n",
              "\n",
              "    .dataframe tbody tr th {\n",
              "        vertical-align: top;\n",
              "    }\n",
              "\n",
              "    .dataframe thead th {\n",
              "        text-align: right;\n",
              "    }\n",
              "</style>\n",
              "<table border=\"1\" class=\"dataframe\">\n",
              "  <thead>\n",
              "    <tr style=\"text-align: right;\">\n",
              "      <th></th>\n",
              "      <th>sc-bytes</th>\n",
              "      <th>cs-bytes</th>\n",
              "      <th>time-taken</th>\n",
              "      <th>sc-statusBinary</th>\n",
              "      <th>label</th>\n",
              "    </tr>\n",
              "  </thead>\n",
              "  <tbody>\n",
              "    <tr>\n",
              "      <th>0</th>\n",
              "      <td>9788</td>\n",
              "      <td>1443</td>\n",
              "      <td>122</td>\n",
              "      <td>1</td>\n",
              "      <td>-1</td>\n",
              "    </tr>\n",
              "    <tr>\n",
              "      <th>3</th>\n",
              "      <td>10115</td>\n",
              "      <td>1033</td>\n",
              "      <td>97</td>\n",
              "      <td>1</td>\n",
              "      <td>-1</td>\n",
              "    </tr>\n",
              "    <tr>\n",
              "      <th>7</th>\n",
              "      <td>8301</td>\n",
              "      <td>1122</td>\n",
              "      <td>61</td>\n",
              "      <td>1</td>\n",
              "      <td>-1</td>\n",
              "    </tr>\n",
              "    <tr>\n",
              "      <th>10</th>\n",
              "      <td>9876</td>\n",
              "      <td>844</td>\n",
              "      <td>88</td>\n",
              "      <td>1</td>\n",
              "      <td>-1</td>\n",
              "    </tr>\n",
              "    <tr>\n",
              "      <th>23</th>\n",
              "      <td>8764</td>\n",
              "      <td>1162</td>\n",
              "      <td>62</td>\n",
              "      <td>1</td>\n",
              "      <td>-1</td>\n",
              "    </tr>\n",
              "    <tr>\n",
              "      <th>24</th>\n",
              "      <td>9585</td>\n",
              "      <td>1113</td>\n",
              "      <td>107</td>\n",
              "      <td>1</td>\n",
              "      <td>-1</td>\n",
              "    </tr>\n",
              "    <tr>\n",
              "      <th>39</th>\n",
              "      <td>8224</td>\n",
              "      <td>922</td>\n",
              "      <td>561</td>\n",
              "      <td>1</td>\n",
              "      <td>-1</td>\n",
              "    </tr>\n",
              "    <tr>\n",
              "      <th>51</th>\n",
              "      <td>7926</td>\n",
              "      <td>1079</td>\n",
              "      <td>74</td>\n",
              "      <td>1</td>\n",
              "      <td>-1</td>\n",
              "    </tr>\n",
              "    <tr>\n",
              "      <th>55</th>\n",
              "      <td>8220</td>\n",
              "      <td>1079</td>\n",
              "      <td>91</td>\n",
              "      <td>1</td>\n",
              "      <td>-1</td>\n",
              "    </tr>\n",
              "    <tr>\n",
              "      <th>56</th>\n",
              "      <td>8331</td>\n",
              "      <td>1079</td>\n",
              "      <td>75</td>\n",
              "      <td>1</td>\n",
              "      <td>-1</td>\n",
              "    </tr>\n",
              "  </tbody>\n",
              "</table>\n",
              "</div>"
            ],
            "text/plain": [
              "    sc-bytes  cs-bytes  time-taken  sc-statusBinary  label\n",
              "0       9788      1443         122                1     -1\n",
              "3      10115      1033          97                1     -1\n",
              "7       8301      1122          61                1     -1\n",
              "10      9876       844          88                1     -1\n",
              "23      8764      1162          62                1     -1\n",
              "24      9585      1113         107                1     -1\n",
              "39      8224       922         561                1     -1\n",
              "51      7926      1079          74                1     -1\n",
              "55      8220      1079          91                1     -1\n",
              "56      8331      1079          75                1     -1"
            ]
          },
          "metadata": {
            "tags": []
          },
          "execution_count": 92
        }
      ]
    },
    {
      "cell_type": "code",
      "metadata": {
        "id": "oJDQE42Ee_oo",
        "colab": {
          "base_uri": "https://localhost:8080/",
          "height": 331
        },
        "outputId": "02a374b3-0e0d-4bb8-9298-1b104ed7f839"
      },
      "source": [
        "df_status200[df_status200['label']==1].head(10)"
      ],
      "execution_count": null,
      "outputs": [
        {
          "output_type": "execute_result",
          "data": {
            "text/html": [
              "<div>\n",
              "<style scoped>\n",
              "    .dataframe tbody tr th:only-of-type {\n",
              "        vertical-align: middle;\n",
              "    }\n",
              "\n",
              "    .dataframe tbody tr th {\n",
              "        vertical-align: top;\n",
              "    }\n",
              "\n",
              "    .dataframe thead th {\n",
              "        text-align: right;\n",
              "    }\n",
              "</style>\n",
              "<table border=\"1\" class=\"dataframe\">\n",
              "  <thead>\n",
              "    <tr style=\"text-align: right;\">\n",
              "      <th></th>\n",
              "      <th>sc-bytes</th>\n",
              "      <th>cs-bytes</th>\n",
              "      <th>time-taken</th>\n",
              "      <th>sc-statusBinary</th>\n",
              "      <th>label</th>\n",
              "    </tr>\n",
              "  </thead>\n",
              "  <tbody>\n",
              "    <tr>\n",
              "      <th>1</th>\n",
              "      <td>9656</td>\n",
              "      <td>862</td>\n",
              "      <td>152</td>\n",
              "      <td>1</td>\n",
              "      <td>1</td>\n",
              "    </tr>\n",
              "    <tr>\n",
              "      <th>2</th>\n",
              "      <td>9508</td>\n",
              "      <td>1443</td>\n",
              "      <td>107</td>\n",
              "      <td>1</td>\n",
              "      <td>1</td>\n",
              "    </tr>\n",
              "    <tr>\n",
              "      <th>4</th>\n",
              "      <td>9544</td>\n",
              "      <td>862</td>\n",
              "      <td>156</td>\n",
              "      <td>1</td>\n",
              "      <td>1</td>\n",
              "    </tr>\n",
              "    <tr>\n",
              "      <th>5</th>\n",
              "      <td>8159</td>\n",
              "      <td>1113</td>\n",
              "      <td>62</td>\n",
              "      <td>1</td>\n",
              "      <td>1</td>\n",
              "    </tr>\n",
              "    <tr>\n",
              "      <th>6</th>\n",
              "      <td>9870</td>\n",
              "      <td>862</td>\n",
              "      <td>186</td>\n",
              "      <td>1</td>\n",
              "      <td>1</td>\n",
              "    </tr>\n",
              "    <tr>\n",
              "      <th>8</th>\n",
              "      <td>8280</td>\n",
              "      <td>1377</td>\n",
              "      <td>94</td>\n",
              "      <td>1</td>\n",
              "      <td>1</td>\n",
              "    </tr>\n",
              "    <tr>\n",
              "      <th>9</th>\n",
              "      <td>9789</td>\n",
              "      <td>1033</td>\n",
              "      <td>106</td>\n",
              "      <td>1</td>\n",
              "      <td>1</td>\n",
              "    </tr>\n",
              "    <tr>\n",
              "      <th>11</th>\n",
              "      <td>8099</td>\n",
              "      <td>1113</td>\n",
              "      <td>79</td>\n",
              "      <td>1</td>\n",
              "      <td>1</td>\n",
              "    </tr>\n",
              "    <tr>\n",
              "      <th>12</th>\n",
              "      <td>9808</td>\n",
              "      <td>862</td>\n",
              "      <td>148</td>\n",
              "      <td>1</td>\n",
              "      <td>1</td>\n",
              "    </tr>\n",
              "    <tr>\n",
              "      <th>13</th>\n",
              "      <td>9763</td>\n",
              "      <td>1033</td>\n",
              "      <td>96</td>\n",
              "      <td>1</td>\n",
              "      <td>1</td>\n",
              "    </tr>\n",
              "  </tbody>\n",
              "</table>\n",
              "</div>"
            ],
            "text/plain": [
              "    sc-bytes  cs-bytes  time-taken  sc-statusBinary  label\n",
              "1       9656       862         152                1      1\n",
              "2       9508      1443         107                1      1\n",
              "4       9544       862         156                1      1\n",
              "5       8159      1113          62                1      1\n",
              "6       9870       862         186                1      1\n",
              "8       8280      1377          94                1      1\n",
              "9       9789      1033         106                1      1\n",
              "11      8099      1113          79                1      1\n",
              "12      9808       862         148                1      1\n",
              "13      9763      1033          96                1      1"
            ]
          },
          "metadata": {
            "tags": []
          },
          "execution_count": 117
        }
      ]
    },
    {
      "cell_type": "code",
      "metadata": {
        "id": "DUQZk_x9Zxmf"
      },
      "source": [
        "LOF = pd.DataFrame(np.asarray(clf.negative_outlier_factor_*(-1)))"
      ],
      "execution_count": null,
      "outputs": []
    },
    {
      "cell_type": "code",
      "metadata": {
        "id": "UXliygD8fMdh",
        "colab": {
          "base_uri": "https://localhost:8080/",
          "height": 49
        },
        "outputId": "524c5cc5-8bbe-4364-a38e-493be34c8def"
      },
      "source": [
        "LOF.iloc[39]"
      ],
      "execution_count": null,
      "outputs": [
        {
          "output_type": "execute_result",
          "data": {
            "text/plain": [
              "0    3.482163\n",
              "Name: 39, dtype: float64"
            ]
          },
          "metadata": {
            "tags": []
          },
          "execution_count": 119
        }
      ]
    },
    {
      "cell_type": "code",
      "metadata": {
        "id": "XiFQPrV2fPr5",
        "colab": {
          "base_uri": "https://localhost:8080/",
          "height": 49
        },
        "outputId": "b1fd930d-de78-4bd8-d91f-33dbb0adf696"
      },
      "source": [
        "LOF.iloc[8]"
      ],
      "execution_count": null,
      "outputs": [
        {
          "output_type": "execute_result",
          "data": {
            "text/plain": [
              "0    1.207085\n",
              "Name: 8, dtype: float64"
            ]
          },
          "metadata": {
            "tags": []
          },
          "execution_count": 120
        }
      ]
    },
    {
      "cell_type": "code",
      "metadata": {
        "id": "ELXIISD7bzFJ"
      },
      "source": [
        "unexpected = LOF.index[(LOF[0]>1.2) & (LOF[0]<1.3)].tolist()"
      ],
      "execution_count": null,
      "outputs": []
    },
    {
      "cell_type": "code",
      "metadata": {
        "id": "xLE9APZRc_10",
        "colab": {
          "base_uri": "https://localhost:8080/",
          "height": 388
        },
        "outputId": "0cdb97d0-922d-4847-b97d-8da396957a58"
      },
      "source": [
        "dataLabelled.iloc[unexpected]"
      ],
      "execution_count": null,
      "outputs": [
        {
          "output_type": "execute_result",
          "data": {
            "text/html": [
              "<div>\n",
              "<style scoped>\n",
              "    .dataframe tbody tr th:only-of-type {\n",
              "        vertical-align: middle;\n",
              "    }\n",
              "\n",
              "    .dataframe tbody tr th {\n",
              "        vertical-align: top;\n",
              "    }\n",
              "\n",
              "    .dataframe thead th {\n",
              "        text-align: right;\n",
              "    }\n",
              "</style>\n",
              "<table border=\"1\" class=\"dataframe\">\n",
              "  <thead>\n",
              "    <tr style=\"text-align: right;\">\n",
              "      <th></th>\n",
              "      <th>sc-bytes</th>\n",
              "      <th>cs-bytes</th>\n",
              "      <th>time-taken</th>\n",
              "      <th>sc-statusBinary</th>\n",
              "      <th>label</th>\n",
              "    </tr>\n",
              "  </thead>\n",
              "  <tbody>\n",
              "    <tr>\n",
              "      <th>8</th>\n",
              "      <td>8280</td>\n",
              "      <td>1377</td>\n",
              "      <td>94</td>\n",
              "      <td>1</td>\n",
              "      <td>1</td>\n",
              "    </tr>\n",
              "    <tr>\n",
              "      <th>32</th>\n",
              "      <td>8679</td>\n",
              "      <td>1162</td>\n",
              "      <td>69</td>\n",
              "      <td>1</td>\n",
              "      <td>1</td>\n",
              "    </tr>\n",
              "    <tr>\n",
              "      <th>40</th>\n",
              "      <td>10334</td>\n",
              "      <td>1093</td>\n",
              "      <td>54</td>\n",
              "      <td>1</td>\n",
              "      <td>1</td>\n",
              "    </tr>\n",
              "    <tr>\n",
              "      <th>72</th>\n",
              "      <td>2411</td>\n",
              "      <td>3204</td>\n",
              "      <td>46</td>\n",
              "      <td>1</td>\n",
              "      <td>-1</td>\n",
              "    </tr>\n",
              "    <tr>\n",
              "      <th>73</th>\n",
              "      <td>9953</td>\n",
              "      <td>1460</td>\n",
              "      <td>125</td>\n",
              "      <td>1</td>\n",
              "      <td>1</td>\n",
              "    </tr>\n",
              "    <tr>\n",
              "      <th>...</th>\n",
              "      <td>...</td>\n",
              "      <td>...</td>\n",
              "      <td>...</td>\n",
              "      <td>...</td>\n",
              "      <td>...</td>\n",
              "    </tr>\n",
              "    <tr>\n",
              "      <th>81011</th>\n",
              "      <td>8799</td>\n",
              "      <td>861</td>\n",
              "      <td>122</td>\n",
              "      <td>1</td>\n",
              "      <td>1</td>\n",
              "    </tr>\n",
              "    <tr>\n",
              "      <th>81014</th>\n",
              "      <td>8325</td>\n",
              "      <td>1032</td>\n",
              "      <td>550</td>\n",
              "      <td>1</td>\n",
              "      <td>1</td>\n",
              "    </tr>\n",
              "    <tr>\n",
              "      <th>81056</th>\n",
              "      <td>8775</td>\n",
              "      <td>861</td>\n",
              "      <td>125</td>\n",
              "      <td>1</td>\n",
              "      <td>1</td>\n",
              "    </tr>\n",
              "    <tr>\n",
              "      <th>81062</th>\n",
              "      <td>8425</td>\n",
              "      <td>1032</td>\n",
              "      <td>603</td>\n",
              "      <td>1</td>\n",
              "      <td>1</td>\n",
              "    </tr>\n",
              "    <tr>\n",
              "      <th>81107</th>\n",
              "      <td>8762</td>\n",
              "      <td>861</td>\n",
              "      <td>126</td>\n",
              "      <td>1</td>\n",
              "      <td>-1</td>\n",
              "    </tr>\n",
              "  </tbody>\n",
              "</table>\n",
              "<p>4404 rows × 5 columns</p>\n",
              "</div>"
            ],
            "text/plain": [
              "       sc-bytes  cs-bytes  time-taken  sc-statusBinary  label\n",
              "8          8280      1377          94                1      1\n",
              "32         8679      1162          69                1      1\n",
              "40        10334      1093          54                1      1\n",
              "72         2411      3204          46                1     -1\n",
              "73         9953      1460         125                1      1\n",
              "...         ...       ...         ...              ...    ...\n",
              "81011      8799       861         122                1      1\n",
              "81014      8325      1032         550                1      1\n",
              "81056      8775       861         125                1      1\n",
              "81062      8425      1032         603                1      1\n",
              "81107      8762       861         126                1     -1\n",
              "\n",
              "[4404 rows x 5 columns]"
            ]
          },
          "metadata": {
            "tags": []
          },
          "execution_count": 122
        }
      ]
    },
    {
      "cell_type": "code",
      "metadata": {
        "id": "f7PN1MrKdGpM",
        "colab": {
          "base_uri": "https://localhost:8080/",
          "height": 49
        },
        "outputId": "71fb454d-faa5-4f25-a93f-82eebe474bc4"
      },
      "source": [
        "LOF.iloc[40]"
      ],
      "execution_count": null,
      "outputs": [
        {
          "output_type": "execute_result",
          "data": {
            "text/plain": [
              "0    1.266664\n",
              "Name: 40, dtype: float64"
            ]
          },
          "metadata": {
            "tags": []
          },
          "execution_count": 124
        }
      ]
    },
    {
      "cell_type": "code",
      "metadata": {
        "id": "AvDDBmFaYgrp",
        "colab": {
          "base_uri": "https://localhost:8080/",
          "height": 388
        },
        "outputId": "1fa9abb5-4d80-4472-ffd5-096950869801"
      },
      "source": [
        "df_status200[(df_status200['label']==1) & (df_status200['sc-bytes']>8200)]"
      ],
      "execution_count": null,
      "outputs": [
        {
          "output_type": "execute_result",
          "data": {
            "text/html": [
              "<div>\n",
              "<style scoped>\n",
              "    .dataframe tbody tr th:only-of-type {\n",
              "        vertical-align: middle;\n",
              "    }\n",
              "\n",
              "    .dataframe tbody tr th {\n",
              "        vertical-align: top;\n",
              "    }\n",
              "\n",
              "    .dataframe thead th {\n",
              "        text-align: right;\n",
              "    }\n",
              "</style>\n",
              "<table border=\"1\" class=\"dataframe\">\n",
              "  <thead>\n",
              "    <tr style=\"text-align: right;\">\n",
              "      <th></th>\n",
              "      <th>sc-bytes</th>\n",
              "      <th>cs-bytes</th>\n",
              "      <th>time-taken</th>\n",
              "      <th>sc-statusBinary</th>\n",
              "      <th>label</th>\n",
              "    </tr>\n",
              "  </thead>\n",
              "  <tbody>\n",
              "    <tr>\n",
              "      <th>1</th>\n",
              "      <td>9656</td>\n",
              "      <td>862</td>\n",
              "      <td>152</td>\n",
              "      <td>1</td>\n",
              "      <td>1</td>\n",
              "    </tr>\n",
              "    <tr>\n",
              "      <th>2</th>\n",
              "      <td>9508</td>\n",
              "      <td>1443</td>\n",
              "      <td>107</td>\n",
              "      <td>1</td>\n",
              "      <td>1</td>\n",
              "    </tr>\n",
              "    <tr>\n",
              "      <th>4</th>\n",
              "      <td>9544</td>\n",
              "      <td>862</td>\n",
              "      <td>156</td>\n",
              "      <td>1</td>\n",
              "      <td>1</td>\n",
              "    </tr>\n",
              "    <tr>\n",
              "      <th>6</th>\n",
              "      <td>9870</td>\n",
              "      <td>862</td>\n",
              "      <td>186</td>\n",
              "      <td>1</td>\n",
              "      <td>1</td>\n",
              "    </tr>\n",
              "    <tr>\n",
              "      <th>8</th>\n",
              "      <td>8280</td>\n",
              "      <td>1377</td>\n",
              "      <td>94</td>\n",
              "      <td>1</td>\n",
              "      <td>1</td>\n",
              "    </tr>\n",
              "    <tr>\n",
              "      <th>...</th>\n",
              "      <td>...</td>\n",
              "      <td>...</td>\n",
              "      <td>...</td>\n",
              "      <td>...</td>\n",
              "      <td>...</td>\n",
              "    </tr>\n",
              "    <tr>\n",
              "      <th>81109</th>\n",
              "      <td>10319</td>\n",
              "      <td>1426</td>\n",
              "      <td>147</td>\n",
              "      <td>1</td>\n",
              "      <td>1</td>\n",
              "    </tr>\n",
              "    <tr>\n",
              "      <th>81111</th>\n",
              "      <td>9678</td>\n",
              "      <td>1426</td>\n",
              "      <td>131</td>\n",
              "      <td>1</td>\n",
              "      <td>1</td>\n",
              "    </tr>\n",
              "    <tr>\n",
              "      <th>81112</th>\n",
              "      <td>9615</td>\n",
              "      <td>767</td>\n",
              "      <td>176</td>\n",
              "      <td>1</td>\n",
              "      <td>1</td>\n",
              "    </tr>\n",
              "    <tr>\n",
              "      <th>81113</th>\n",
              "      <td>8206</td>\n",
              "      <td>1032</td>\n",
              "      <td>489</td>\n",
              "      <td>1</td>\n",
              "      <td>1</td>\n",
              "    </tr>\n",
              "    <tr>\n",
              "      <th>81114</th>\n",
              "      <td>9744</td>\n",
              "      <td>1220</td>\n",
              "      <td>70</td>\n",
              "      <td>1</td>\n",
              "      <td>1</td>\n",
              "    </tr>\n",
              "  </tbody>\n",
              "</table>\n",
              "<p>44745 rows × 5 columns</p>\n",
              "</div>"
            ],
            "text/plain": [
              "       sc-bytes  cs-bytes  time-taken  sc-statusBinary  label\n",
              "1          9656       862         152                1      1\n",
              "2          9508      1443         107                1      1\n",
              "4          9544       862         156                1      1\n",
              "6          9870       862         186                1      1\n",
              "8          8280      1377          94                1      1\n",
              "...         ...       ...         ...              ...    ...\n",
              "81109     10319      1426         147                1      1\n",
              "81111      9678      1426         131                1      1\n",
              "81112      9615       767         176                1      1\n",
              "81113      8206      1032         489                1      1\n",
              "81114      9744      1220          70                1      1\n",
              "\n",
              "[44745 rows x 5 columns]"
            ]
          },
          "metadata": {
            "tags": []
          },
          "execution_count": 88
        }
      ]
    },
    {
      "cell_type": "code",
      "metadata": {
        "id": "ezzRaCT8uRxW"
      },
      "source": [
        "# def findingOptimumParameterLOF(n_neighborsGrid,contaminationGrid,data):\n",
        "\n",
        "n = len(data)\n",
        "dfMeanInKC = pd.Dataframe(index = n_neighborsGrid,columns = contaminationGrid)\n",
        "dfMeanOutKC = pd.Dataframe(index = n_neighborsGrid,columns = contaminationGrid)\n",
        "dfVarianceInKC = pd.Dataframe(index = n_neighborsGrid,columns = contaminationGrid)\n",
        "dfVarianceOutKC = pd.Dataframe(index = n_neighborsGrid,columns = contaminationGrid)\n",
        "dfTtest = pd.Dataframe(index = n_neighborsGrid,columns = contaminationGrid)\n",
        "cn_Values = np.zeros(len(contaminationGrid))\n",
        "\n",
        "for indexofC,c in enumerate(contaminationGrid):\n",
        "  floor_cn=np.floor(c*n).astype(int)\n",
        "  for indexofK,k in enumerate(n_neighborsGrid):\n",
        "    clf = LocalOutlierFactor(n_neighbors=k, contamination = c)\n",
        "    predict = clf.fit_predict(data)\n",
        "    \n",
        "    inlinersIndex = np.where(predict == 1)\n",
        "    outliersIndex = np.where(predict == -1)\n",
        "    \n",
        "    LOF = clf.negative_outlier_factor_*(-1)\n",
        "    outliersLOF = LOF[outliersIndex]\n",
        "    inliersLOF = LOF[inliersIndex]\n",
        "    maxCN_inliersLOF = inliersLOF[inliersLOF.argsort()[(-1*floor_cn):][::-1]] #LOF scores of inliers for the top floor_cn \n",
        "    \n",
        "    #natural log\n",
        "    outliersLOF_naturalLog = np.log(outliersLOF)\n",
        "    maxCN_inliersLOF_naturalLog = np.log(maxCN_inliersLOF)\n",
        "\n",
        "    #variance of the logarithmic of outliers/inliers LOF scores\n",
        "    varianceOutliersLOF = np.var(outliersLOF_naturalLog)\n",
        "    varianceInliersLOF = np.var(maxCN_inliersLOF_naturalLog)\n",
        "\n",
        "    #mean of the logarithmic of outliers/inliers LOF scores\n",
        "    meanOutliersLOF = np.mean(outliersLOF_naturalLog)\n",
        "    meanInliersLOF = np.mean(maxCN_inliersLOF_naturalLog)\n",
        "\n",
        "    #filling dataFrames\n",
        "    dfMeanInKC.at[c,k] = meanInliersLOF\n",
        "    dfMeanOutKC.at[c,k] = meanOutliersLOF\n",
        "\n",
        "    dfVarianceInKC.at[c,k] = varianceInliersLOF\n",
        "    dfVarianceOutKC.at[c,k] = varianceOutliersLOF\n",
        "\n",
        "  cn_Values[indexofC] = floor_cn\n",
        "\n",
        "# calculating of the standardized difference in the mean log local outlier factor scores between outliers and inliers\n",
        "dfTtest = (dfMeanOutKC-dfMeanInKC)/(np.sqrt((1/floor_cn)*(dfVarianceOutKC+dfVarianceInKC)))\n",
        "\n",
        "#calculating of mean of inliers/outliers for every C value \n",
        "dfMeanInC = pd.DataFrame(dfMeanInKC.mean(),columns =['mean'])\n",
        "dfMeanOutC = pd.DataFrame(dfMeanOutKC.mean(),columns =['mean'])\n",
        "\n",
        "#calculating of variance of inliers/outliers for every C value \n",
        "dfVarianceInC = pd.DataFrame(dfVarianceInKC.mean(),columns =['mean'])\n",
        "dfVarianceOutC = pd.DataFrame(dfVarianceOutKC.mean(),columns =['mean'])\n",
        "\n",
        "#calculating of noncentrality parameter for C\n",
        "dfNCPc = (dfMeanOutC-dfMeanInC)/(np.sqrt((1/floor_cn)*(dfVarianceOutC+dfVarianceInC)))\n",
        "\n",
        "#calculating of degrees of freedom\n",
        "dfDFc = (2*cn_Values)-2\n",
        "\n",
        "#finding maximize values the standardized difference between outliers and inliers for every c value\n",
        "dfKc = pd.DataFrame(dfTtest.max(),columns=[\"max\"])\n",
        "\n",
        "#\n",
        "for indexofC,c in enumerate(contaminationGrid):\n",
        "  special.nctdtr(dfDFc[0][indexofC], dfNCPc[\"mean\"][c], dfKc[\"max\"][c])"
      ],
      "execution_count": null,
      "outputs": []
    }
  ]
}