{
  "nbformat": 4,
  "nbformat_minor": 0,
  "metadata": {
    "colab": {
      "name": "PCA-KMEANS.ipynb",
      "provenance": []
    },
    "kernelspec": {
      "name": "python3",
      "display_name": "Python 3"
    }
  },
  "cells": [
    {
      "cell_type": "code",
      "metadata": {
        "id": "r68q9b-q_7GE",
        "colab": {
          "base_uri": "https://localhost:8080/",
          "height": 102
        },
        "outputId": "cff10371-24b1-446c-c838-20a2607c6250"
      },
      "source": [
        "import numpy as np\n",
        "import pandas as pd\n",
        "import numpy as np\n",
        "import seaborn as sns\n",
        "import matplotlib.pyplot as plt\n",
        "from sklearn.model_selection import train_test_split\n",
        "from sklearn.metrics import accuracy_score\n",
        "import pandas as pd\n",
        "import io\n",
        "from sklearn.tree import DecisionTreeClassifier \n",
        "from sklearn.pipeline import Pipeline\n",
        "from sklearn.model_selection import GridSearchCV\n",
        "from IPython.display import Image\n",
        "from sklearn.tree import export_graphviz\n",
        "from sklearn.model_selection import cross_val_score\n",
        "from tqdm import tqdm_notebook as tqdm\n",
        "from sklearn.externals.six import StringIO\n",
        "import pydotplus\n",
        "from sklearn.cluster import KMeans\n",
        "import matplotlib.pyplot as plt \n",
        "import seaborn as sns\n",
        "import plotly.express as px \n",
        "# from cyberpandas import IPArray, to_ipaddress\n",
        "import ipaddress\n",
        "from sklearn.preprocessing import StandardScaler\n",
        "from sklearn.decomposition import PCA"
      ],
      "execution_count": null,
      "outputs": [
        {
          "output_type": "stream",
          "text": [
            "/usr/local/lib/python3.6/dist-packages/statsmodels/tools/_testing.py:19: FutureWarning: pandas.util.testing is deprecated. Use the functions in the public API at pandas.testing instead.\n",
            "  import pandas.util.testing as tm\n",
            "/usr/local/lib/python3.6/dist-packages/sklearn/externals/six.py:31: FutureWarning: The module is deprecated in version 0.21 and will be removed in version 0.23 since we've dropped support for Python 2.7. Please rely on the official version of six (https://pypi.org/project/six/).\n",
            "  \"(https://pypi.org/project/six/).\", FutureWarning)\n"
          ],
          "name": "stderr"
        }
      ]
    },
    {
      "cell_type": "code",
      "metadata": {
        "id": "KdjKoVg5QTk-",
        "colab": {
          "base_uri": "https://localhost:8080/",
          "height": 165
        },
        "outputId": "76d16cf9-24c9-4237-807e-672f57f17944"
      },
      "source": [
        "# pip install cyberpandas"
      ],
      "execution_count": null,
      "outputs": [
        {
          "output_type": "stream",
          "text": [
            "Collecting cyberpandas\n",
            "  Downloading https://files.pythonhosted.org/packages/65/b0/91b69f4a49ca67bb2787111b025be28c04968c8ad37df477c83e3602fb1e/cyberpandas-1.1.1-py2.py3-none-any.whl\n",
            "Requirement already satisfied: six in /usr/local/lib/python3.6/dist-packages (from cyberpandas) (1.15.0)\n",
            "Requirement already satisfied: pandas>=0.23.0 in /usr/local/lib/python3.6/dist-packages (from cyberpandas) (1.0.5)\n",
            "Requirement already satisfied: pytz>=2017.2 in /usr/local/lib/python3.6/dist-packages (from pandas>=0.23.0->cyberpandas) (2018.9)\n",
            "Requirement already satisfied: python-dateutil>=2.6.1 in /usr/local/lib/python3.6/dist-packages (from pandas>=0.23.0->cyberpandas) (2.8.1)\n",
            "Requirement already satisfied: numpy>=1.13.3 in /usr/local/lib/python3.6/dist-packages (from pandas>=0.23.0->cyberpandas) (1.18.5)\n",
            "Installing collected packages: cyberpandas\n",
            "Successfully installed cyberpandas-1.1.1\n"
          ],
          "name": "stdout"
        }
      ]
    },
    {
      "cell_type": "markdown",
      "metadata": {
        "id": "A266TASxfsv7"
      },
      "source": [
        "# **DATA UPLOADING AND CLEANING**"
      ]
    },
    {
      "cell_type": "code",
      "metadata": {
        "id": "eREuk1TR_sYQ",
        "colab": {
          "base_uri": "https://localhost:8080/",
          "height": 119
        },
        "outputId": "f02800fa-2871-4d8c-f6c2-044c9d8bf9e9"
      },
      "source": [
        "from google.colab import drive\n",
        "\n",
        "drive.mount('/content/drive')"
      ],
      "execution_count": null,
      "outputs": [
        {
          "output_type": "stream",
          "text": [
            "Go to this URL in a browser: https://accounts.google.com/o/oauth2/auth?client_id=947318989803-6bn6qk8qdgf4n4g3pfee6491hc0brc4i.apps.googleusercontent.com&redirect_uri=urn%3aietf%3awg%3aoauth%3a2.0%3aoob&scope=email%20https%3a%2f%2fwww.googleapis.com%2fauth%2fdocs.test%20https%3a%2f%2fwww.googleapis.com%2fauth%2fdrive%20https%3a%2f%2fwww.googleapis.com%2fauth%2fdrive.photos.readonly%20https%3a%2f%2fwww.googleapis.com%2fauth%2fpeopleapi.readonly&response_type=code\n",
            "\n",
            "Enter your authorization code:\n",
            "··········\n",
            "Mounted at /content/drive\n"
          ],
          "name": "stdout"
        }
      ]
    },
    {
      "cell_type": "code",
      "metadata": {
        "id": "VsUq7Pq_BMY5",
        "colab": {
          "base_uri": "https://localhost:8080/",
          "height": 33
        },
        "outputId": "25f3cd9f-09b4-446e-ad6c-a9ff36820bca"
      },
      "source": [
        "from zipfile import ZipFile\n",
        "filename=\"/content/drive/My Drive/MasterSoft/logbackups.zip\"\n",
        "with ZipFile(filename,\"r\") as zp:\n",
        "  zp.extractall()\n",
        "  print(\"Done\") \n"
      ],
      "execution_count": null,
      "outputs": [
        {
          "output_type": "stream",
          "text": [
            "Done\n"
          ],
          "name": "stdout"
        }
      ]
    },
    {
      "cell_type": "code",
      "metadata": {
        "id": "UlVCzwnVBPHb",
        "colab": {
          "base_uri": "https://localhost:8080/",
          "height": 82
        },
        "outputId": "4a1d16d5-fe4d-402e-8d8d-471cecf445ed"
      },
      "source": [
        "path = '/content/u_ex200701.log'\n",
        "data = pd.read_csv(path , sep='\\s+', skiprows=3, encoding='latin-1', error_bad_lines = False)"
      ],
      "execution_count": null,
      "outputs": [
        {
          "output_type": "stream",
          "text": [
            "/usr/local/lib/python3.6/dist-packages/IPython/core/interactiveshell.py:2718: DtypeWarning:\n",
            "\n",
            "Columns (8,16,17,18,19,20,21,22) have mixed types.Specify dtype option on import or set low_memory=False.\n",
            "\n"
          ],
          "name": "stderr"
        }
      ]
    },
    {
      "cell_type": "code",
      "metadata": {
        "id": "gBLMR5IGBRWf"
      },
      "source": [
        "lastHead=data.columns[-1]\n",
        "data.drop([lastHead], axis=1,inplace=True)\n",
        "newHead=data.columns[1:]\n",
        "newHead=np.array(newHead)\n",
        "newHead = np.append(newHead,lastHead)\n",
        "data.columns=newHead"
      ],
      "execution_count": null,
      "outputs": []
    },
    {
      "cell_type": "code",
      "metadata": {
        "id": "W--En_8UMSPT"
      },
      "source": [
        "data.dropna(inplace =True)\n",
        "data = data[data['c-ip'] != \"cs-username\"] #extra header\n",
        "data = data[data[\"cs-host\"] != \"localhost\"] #localhost waste data\n",
        "columns=['s-sitename','s-computername', 's-ip', 's-port', 'cs-version','cs-host','sc-substatus','sc-win32-status']\n",
        "data = data.drop(columns,axis=1)\n",
        "data = data.reset_index(drop=True)"
      ],
      "execution_count": null,
      "outputs": []
    },
    {
      "cell_type": "code",
      "metadata": {
        "id": "RoqsWyPtOAyc",
        "colab": {
          "base_uri": "https://localhost:8080/",
          "height": 590
        },
        "outputId": "4aedad13-75d5-4494-9f84-b313ee9485b1"
      },
      "source": [
        "data"
      ],
      "execution_count": null,
      "outputs": [
        {
          "output_type": "execute_result",
          "data": {
            "text/html": [
              "<div>\n",
              "<style scoped>\n",
              "    .dataframe tbody tr th:only-of-type {\n",
              "        vertical-align: middle;\n",
              "    }\n",
              "\n",
              "    .dataframe tbody tr th {\n",
              "        vertical-align: top;\n",
              "    }\n",
              "\n",
              "    .dataframe thead th {\n",
              "        text-align: right;\n",
              "    }\n",
              "</style>\n",
              "<table border=\"1\" class=\"dataframe\">\n",
              "  <thead>\n",
              "    <tr style=\"text-align: right;\">\n",
              "      <th></th>\n",
              "      <th>date</th>\n",
              "      <th>time</th>\n",
              "      <th>cs-method</th>\n",
              "      <th>cs-uri-stem</th>\n",
              "      <th>cs-uri-query</th>\n",
              "      <th>cs-username</th>\n",
              "      <th>c-ip</th>\n",
              "      <th>cs(User-Agent)</th>\n",
              "      <th>cs(Cookie)</th>\n",
              "      <th>cs(Referer)</th>\n",
              "      <th>sc-status</th>\n",
              "      <th>sc-bytes</th>\n",
              "      <th>cs-bytes</th>\n",
              "      <th>time-taken</th>\n",
              "    </tr>\n",
              "  </thead>\n",
              "  <tbody>\n",
              "    <tr>\n",
              "      <th>0</th>\n",
              "      <td>2020-07-01</td>\n",
              "      <td>00:00:00</td>\n",
              "      <td>GET</td>\n",
              "      <td>/EKAP/Ortak/YeniIhaleAramaData.ashx</td>\n",
              "      <td>ES=&amp;metot=isLogin</td>\n",
              "      <td>-</td>\n",
              "      <td>159.69.163.150</td>\n",
              "      <td>M-EKAP/1.9.4.1+(Android+5.1.1)</td>\n",
              "      <td>ASP.NET_SessionId=has5g0gjfc5uzyl0uw4o1ky1;+BI...</td>\n",
              "      <td>-</td>\n",
              "      <td>200</td>\n",
              "      <td>387</td>\n",
              "      <td>317</td>\n",
              "      <td>7</td>\n",
              "    </tr>\n",
              "    <tr>\n",
              "      <th>1</th>\n",
              "      <td>2020-07-01</td>\n",
              "      <td>00:00:00</td>\n",
              "      <td>GET</td>\n",
              "      <td>/EKAP/Ortak/YeniIhaleAramaData.ashx</td>\n",
              "      <td>pageIndex=9&amp;tabId=0ceef113-05a7-4476-f91c-6411...</td>\n",
              "      <td>-</td>\n",
              "      <td>159.69.163.150</td>\n",
              "      <td>M-EKAP/1.9.4.1+(Android+5.1.1)</td>\n",
              "      <td>ASP.NET_SessionId=has5g0gjfc5uzyl0uw4o1ky1;+BI...</td>\n",
              "      <td>-</td>\n",
              "      <td>200</td>\n",
              "      <td>42331</td>\n",
              "      <td>470</td>\n",
              "      <td>595</td>\n",
              "    </tr>\n",
              "    <tr>\n",
              "      <th>2</th>\n",
              "      <td>2020-07-01</td>\n",
              "      <td>00:00:01</td>\n",
              "      <td>GET</td>\n",
              "      <td>/EKAP/Ortak/YeniIhaleAramaData.ashx</td>\n",
              "      <td>ES=&amp;metot=isLogin</td>\n",
              "      <td>-</td>\n",
              "      <td>159.69.163.150</td>\n",
              "      <td>M-EKAP/1.9.4.1+(Android+5.1.1)</td>\n",
              "      <td>ASP.NET_SessionId=has5g0gjfc5uzyl0uw4o1ky1;+BI...</td>\n",
              "      <td>-</td>\n",
              "      <td>200</td>\n",
              "      <td>387</td>\n",
              "      <td>317</td>\n",
              "      <td>4</td>\n",
              "    </tr>\n",
              "    <tr>\n",
              "      <th>3</th>\n",
              "      <td>2020-07-01</td>\n",
              "      <td>00:00:01</td>\n",
              "      <td>GET</td>\n",
              "      <td>/EKAP/Ortak/YeniIhaleAramaData.ashx</td>\n",
              "      <td>pageIndex=10&amp;tabId=0ceef113-05a7-4476-f91c-641...</td>\n",
              "      <td>-</td>\n",
              "      <td>159.69.163.150</td>\n",
              "      <td>M-EKAP/1.9.4.1+(Android+5.1.1)</td>\n",
              "      <td>ASP.NET_SessionId=has5g0gjfc5uzyl0uw4o1ky1;+BI...</td>\n",
              "      <td>-</td>\n",
              "      <td>200</td>\n",
              "      <td>424</td>\n",
              "      <td>471</td>\n",
              "      <td>526</td>\n",
              "    </tr>\n",
              "    <tr>\n",
              "      <th>4</th>\n",
              "      <td>2020-07-01</td>\n",
              "      <td>00:00:01</td>\n",
              "      <td>GET</td>\n",
              "      <td>/EKAP/Ortak/YeniIhaleAramaData.ashx</td>\n",
              "      <td>ES=&amp;metot=isLogin</td>\n",
              "      <td>-</td>\n",
              "      <td>159.69.163.150</td>\n",
              "      <td>M-EKAP/1.9.4.1+(Android+5.1.1)</td>\n",
              "      <td>ASP.NET_SessionId=has5g0gjfc5uzyl0uw4o1ky1;+BI...</td>\n",
              "      <td>-</td>\n",
              "      <td>200</td>\n",
              "      <td>387</td>\n",
              "      <td>317</td>\n",
              "      <td>6</td>\n",
              "    </tr>\n",
              "    <tr>\n",
              "      <th>...</th>\n",
              "      <td>...</td>\n",
              "      <td>...</td>\n",
              "      <td>...</td>\n",
              "      <td>...</td>\n",
              "      <td>...</td>\n",
              "      <td>...</td>\n",
              "      <td>...</td>\n",
              "      <td>...</td>\n",
              "      <td>...</td>\n",
              "      <td>...</td>\n",
              "      <td>...</td>\n",
              "      <td>...</td>\n",
              "      <td>...</td>\n",
              "      <td>...</td>\n",
              "    </tr>\n",
              "    <tr>\n",
              "      <th>2681852</th>\n",
              "      <td>2020-07-01</td>\n",
              "      <td>23:59:58</td>\n",
              "      <td>GET</td>\n",
              "      <td>/EKAP/Ortak/BirBakistaIhale.aspx</td>\n",
              "      <td>IdareId=07aba124ac6f130c39fb59c55707f0a1b1ae52...</td>\n",
              "      <td>-</td>\n",
              "      <td>161.9.144.37</td>\n",
              "      <td>Mozilla/5.0+(Windows+NT+6.1;+Win64;+x64)+Apple...</td>\n",
              "      <td>BIGipServerGS-EKAP-WEB=rd2o0000000000000000000...</td>\n",
              "      <td>https://ekap.kik.gov.tr/EKAP/Ortak/BirBakistaI...</td>\n",
              "      <td>200</td>\n",
              "      <td>8206</td>\n",
              "      <td>1032</td>\n",
              "      <td>489</td>\n",
              "    </tr>\n",
              "    <tr>\n",
              "      <th>2681853</th>\n",
              "      <td>2020-07-01</td>\n",
              "      <td>23:59:58</td>\n",
              "      <td>GET</td>\n",
              "      <td>/EKAP/Ortak/BirBakistaIhale.aspx</td>\n",
              "      <td>IdareId=ae0e6b6b0f33c5c5213bca13fa1d636843451e...</td>\n",
              "      <td>-</td>\n",
              "      <td>88.255.228.26</td>\n",
              "      <td>Mozilla/5.0+(Windows+NT+10.0;+Win64;+x64)+Appl...</td>\n",
              "      <td>linkYardimPortal2=1;+lbtnDuzenle201409=1;+css=...</td>\n",
              "      <td>https://ekap.kik.gov.tr/EKAP/Ortak/BirBakistaI...</td>\n",
              "      <td>200</td>\n",
              "      <td>9744</td>\n",
              "      <td>1220</td>\n",
              "      <td>70</td>\n",
              "    </tr>\n",
              "    <tr>\n",
              "      <th>2681854</th>\n",
              "      <td>2020-07-01</td>\n",
              "      <td>23:59:58</td>\n",
              "      <td>GET</td>\n",
              "      <td>/EKAP/Default.aspx</td>\n",
              "      <td>-</td>\n",
              "      <td>-</td>\n",
              "      <td>10.110.11.32</td>\n",
              "      <td>Mozilla/4.0+(compatible;+MSIE+6.0;+Windows+NT+...</td>\n",
              "      <td>-</td>\n",
              "      <td>-</td>\n",
              "      <td>200</td>\n",
              "      <td>101190</td>\n",
              "      <td>143</td>\n",
              "      <td>28</td>\n",
              "    </tr>\n",
              "    <tr>\n",
              "      <th>2681855</th>\n",
              "      <td>2020-07-01</td>\n",
              "      <td>23:59:59</td>\n",
              "      <td>GET</td>\n",
              "      <td>/EKAP/Ortak/BirBakistaIhale.aspx</td>\n",
              "      <td>IdareId=0ce336d8471edf0c33b4454d7bad214557b11d...</td>\n",
              "      <td>-</td>\n",
              "      <td>161.9.144.37</td>\n",
              "      <td>Mozilla/5.0+(Windows+NT+6.1;+Win64;+x64)+Apple...</td>\n",
              "      <td>BIGipServerGS-EKAP-WEB=rd2o0000000000000000000...</td>\n",
              "      <td>https://ekap.kik.gov.tr/EKAP/Ortak/BirBakistaI...</td>\n",
              "      <td>200</td>\n",
              "      <td>8121</td>\n",
              "      <td>1032</td>\n",
              "      <td>578</td>\n",
              "    </tr>\n",
              "    <tr>\n",
              "      <th>2681856</th>\n",
              "      <td>2020-07-01</td>\n",
              "      <td>23:59:59</td>\n",
              "      <td>GET</td>\n",
              "      <td>/EKAP/Ortak/VatandasIlanGoruntuleme.aspx</td>\n",
              "      <td>aramaDownload=true&amp;ihaleId=41ab061bb4a971ffb53...</td>\n",
              "      <td>-</td>\n",
              "      <td>102.143.202.183</td>\n",
              "      <td>Mozilla/5.0+(Windows+NT+10.0;+Win64;+x64)+Appl...</td>\n",
              "      <td>BIGipServerGS-EKAP-WEB=rd2o0000000000000000000...</td>\n",
              "      <td>https://ekap.kik.gov.tr/EKAP/Ortak/IhaleArama/...</td>\n",
              "      <td>302</td>\n",
              "      <td>619</td>\n",
              "      <td>886</td>\n",
              "      <td>45</td>\n",
              "    </tr>\n",
              "  </tbody>\n",
              "</table>\n",
              "<p>2681857 rows × 14 columns</p>\n",
              "</div>"
            ],
            "text/plain": [
              "               date      time cs-method  ... sc-bytes cs-bytes time-taken\n",
              "0        2020-07-01  00:00:00       GET  ...      387      317          7\n",
              "1        2020-07-01  00:00:00       GET  ...    42331      470        595\n",
              "2        2020-07-01  00:00:01       GET  ...      387      317          4\n",
              "3        2020-07-01  00:00:01       GET  ...      424      471        526\n",
              "4        2020-07-01  00:00:01       GET  ...      387      317          6\n",
              "...             ...       ...       ...  ...      ...      ...        ...\n",
              "2681852  2020-07-01  23:59:58       GET  ...     8206     1032        489\n",
              "2681853  2020-07-01  23:59:58       GET  ...     9744     1220         70\n",
              "2681854  2020-07-01  23:59:58       GET  ...   101190      143         28\n",
              "2681855  2020-07-01  23:59:59       GET  ...     8121     1032        578\n",
              "2681856  2020-07-01  23:59:59       GET  ...      619      886         45\n",
              "\n",
              "[2681857 rows x 14 columns]"
            ]
          },
          "metadata": {
            "tags": []
          },
          "execution_count": 7
        }
      ]
    },
    {
      "cell_type": "markdown",
      "metadata": {
        "id": "5YW-lIA_4-ac"
      },
      "source": [
        "# **ONLY SELECTING THE ROW CONTAIN \".aspx\"**\n"
      ]
    },
    {
      "cell_type": "code",
      "metadata": {
        "id": "VUvVZS6waFkL"
      },
      "source": [
        "dataASPX = data[data[\"cs-uri-stem\"].str.contains(\".aspx\")]"
      ],
      "execution_count": null,
      "outputs": []
    },
    {
      "cell_type": "code",
      "metadata": {
        "id": "G4Dc7bfuhADg",
        "colab": {
          "base_uri": "https://localhost:8080/",
          "height": 590
        },
        "outputId": "5cfa23a6-b4bc-49a4-af95-2c6a724ad8d1"
      },
      "source": [
        "dataASPX"
      ],
      "execution_count": null,
      "outputs": [
        {
          "output_type": "execute_result",
          "data": {
            "text/html": [
              "<div>\n",
              "<style scoped>\n",
              "    .dataframe tbody tr th:only-of-type {\n",
              "        vertical-align: middle;\n",
              "    }\n",
              "\n",
              "    .dataframe tbody tr th {\n",
              "        vertical-align: top;\n",
              "    }\n",
              "\n",
              "    .dataframe thead th {\n",
              "        text-align: right;\n",
              "    }\n",
              "</style>\n",
              "<table border=\"1\" class=\"dataframe\">\n",
              "  <thead>\n",
              "    <tr style=\"text-align: right;\">\n",
              "      <th></th>\n",
              "      <th>date</th>\n",
              "      <th>time</th>\n",
              "      <th>cs-method</th>\n",
              "      <th>cs-uri-stem</th>\n",
              "      <th>cs-uri-query</th>\n",
              "      <th>cs-username</th>\n",
              "      <th>c-ip</th>\n",
              "      <th>cs(User-Agent)</th>\n",
              "      <th>cs(Cookie)</th>\n",
              "      <th>cs(Referer)</th>\n",
              "      <th>sc-status</th>\n",
              "      <th>sc-bytes</th>\n",
              "      <th>cs-bytes</th>\n",
              "      <th>time-taken</th>\n",
              "    </tr>\n",
              "  </thead>\n",
              "  <tbody>\n",
              "    <tr>\n",
              "      <th>5</th>\n",
              "      <td>2020-07-01</td>\n",
              "      <td>00:00:01</td>\n",
              "      <td>GET</td>\n",
              "      <td>/EKAP/Ortak/BirBakistaIhale.aspx</td>\n",
              "      <td>IdareId=97b19497907e190b6569d3a318d5d368f66c86...</td>\n",
              "      <td>17302892776</td>\n",
              "      <td>88.252.13.173</td>\n",
              "      <td>Mozilla/5.0+(Windows+NT+10.0;+Win64;+x64)+Appl...</td>\n",
              "      <td>linkYardimPortal2=1;+_ga=GA1.3.1764455409.1583...</td>\n",
              "      <td>https://ekap.kik.gov.tr/EKAP/Ortak/BirBakistaI...</td>\n",
              "      <td>200</td>\n",
              "      <td>9788</td>\n",
              "      <td>1443</td>\n",
              "      <td>122</td>\n",
              "    </tr>\n",
              "    <tr>\n",
              "      <th>6</th>\n",
              "      <td>2020-07-01</td>\n",
              "      <td>00:00:02</td>\n",
              "      <td>GET</td>\n",
              "      <td>/EKAP/Ortak/BirBakistaIhale.aspx</td>\n",
              "      <td>IdareId=508d698f7f693d94de819da435e28da455d46a...</td>\n",
              "      <td>-</td>\n",
              "      <td>46.154.132.188</td>\n",
              "      <td>Mozilla/5.0+(Linux;+Android+8.0.0;+SAMSUNG+SM-...</td>\n",
              "      <td>linkYardimPortal2=1;+ASP.NET_SessionId=uq1z0yd...</td>\n",
              "      <td>https://ekap.kik.gov.tr/EKAP/Ortak/IhaleArama/...</td>\n",
              "      <td>200</td>\n",
              "      <td>9656</td>\n",
              "      <td>862</td>\n",
              "      <td>152</td>\n",
              "    </tr>\n",
              "    <tr>\n",
              "      <th>9</th>\n",
              "      <td>2020-07-01</td>\n",
              "      <td>00:00:04</td>\n",
              "      <td>POST</td>\n",
              "      <td>/EKAP/Istekli/KatilimYeterlik.aspx</td>\n",
              "      <td>ikn=2020%2f311296</td>\n",
              "      <td>36199271570</td>\n",
              "      <td>88.231.141.199</td>\n",
              "      <td>Mozilla/5.0+(Windows+NT+6.1;+Win64;+x64)+Apple...</td>\n",
              "      <td>linkYardimPortal2=1;+BIGipServerGS-EKAP-WEB=rd...</td>\n",
              "      <td>https://ekap.kik.gov.tr/EKAP/Istekli/KatilimYe...</td>\n",
              "      <td>200</td>\n",
              "      <td>23835</td>\n",
              "      <td>16096</td>\n",
              "      <td>194</td>\n",
              "    </tr>\n",
              "    <tr>\n",
              "      <th>12</th>\n",
              "      <td>2020-07-01</td>\n",
              "      <td>00:00:05</td>\n",
              "      <td>GET</td>\n",
              "      <td>/EKAP/Ortak/BirBakistaIhale.aspx</td>\n",
              "      <td>IdareId=bb79e8d2db6cae8a88c30c11c84c360554420c...</td>\n",
              "      <td>17302892776</td>\n",
              "      <td>88.252.13.173</td>\n",
              "      <td>Mozilla/5.0+(Windows+NT+10.0;+Win64;+x64)+Appl...</td>\n",
              "      <td>linkYardimPortal2=1;+_ga=GA1.3.1764455409.1583...</td>\n",
              "      <td>https://ekap.kik.gov.tr/EKAP/Ortak/BirBakistaI...</td>\n",
              "      <td>200</td>\n",
              "      <td>9508</td>\n",
              "      <td>1443</td>\n",
              "      <td>107</td>\n",
              "    </tr>\n",
              "    <tr>\n",
              "      <th>15</th>\n",
              "      <td>2020-07-01</td>\n",
              "      <td>00:00:05</td>\n",
              "      <td>GET</td>\n",
              "      <td>/EKAP/Ortak/Feeds/EkapFeedRss.aspx</td>\n",
              "      <td>param=f29f0035e2ce136e0b7a747f7fdf6c209e5b5b1c...</td>\n",
              "      <td>-</td>\n",
              "      <td>185.68.222.5</td>\n",
              "      <td>Microsoft+Office/12.0+(Windows+NT+6.2;+Microso...</td>\n",
              "      <td>BIGipServerGS-EKAP-WEB=rd2o0000000000000000000...</td>\n",
              "      <td>-</td>\n",
              "      <td>200</td>\n",
              "      <td>11627</td>\n",
              "      <td>524</td>\n",
              "      <td>21088</td>\n",
              "    </tr>\n",
              "    <tr>\n",
              "      <th>...</th>\n",
              "      <td>...</td>\n",
              "      <td>...</td>\n",
              "      <td>...</td>\n",
              "      <td>...</td>\n",
              "      <td>...</td>\n",
              "      <td>...</td>\n",
              "      <td>...</td>\n",
              "      <td>...</td>\n",
              "      <td>...</td>\n",
              "      <td>...</td>\n",
              "      <td>...</td>\n",
              "      <td>...</td>\n",
              "      <td>...</td>\n",
              "      <td>...</td>\n",
              "    </tr>\n",
              "    <tr>\n",
              "      <th>2681852</th>\n",
              "      <td>2020-07-01</td>\n",
              "      <td>23:59:58</td>\n",
              "      <td>GET</td>\n",
              "      <td>/EKAP/Ortak/BirBakistaIhale.aspx</td>\n",
              "      <td>IdareId=07aba124ac6f130c39fb59c55707f0a1b1ae52...</td>\n",
              "      <td>-</td>\n",
              "      <td>161.9.144.37</td>\n",
              "      <td>Mozilla/5.0+(Windows+NT+6.1;+Win64;+x64)+Apple...</td>\n",
              "      <td>BIGipServerGS-EKAP-WEB=rd2o0000000000000000000...</td>\n",
              "      <td>https://ekap.kik.gov.tr/EKAP/Ortak/BirBakistaI...</td>\n",
              "      <td>200</td>\n",
              "      <td>8206</td>\n",
              "      <td>1032</td>\n",
              "      <td>489</td>\n",
              "    </tr>\n",
              "    <tr>\n",
              "      <th>2681853</th>\n",
              "      <td>2020-07-01</td>\n",
              "      <td>23:59:58</td>\n",
              "      <td>GET</td>\n",
              "      <td>/EKAP/Ortak/BirBakistaIhale.aspx</td>\n",
              "      <td>IdareId=ae0e6b6b0f33c5c5213bca13fa1d636843451e...</td>\n",
              "      <td>-</td>\n",
              "      <td>88.255.228.26</td>\n",
              "      <td>Mozilla/5.0+(Windows+NT+10.0;+Win64;+x64)+Appl...</td>\n",
              "      <td>linkYardimPortal2=1;+lbtnDuzenle201409=1;+css=...</td>\n",
              "      <td>https://ekap.kik.gov.tr/EKAP/Ortak/BirBakistaI...</td>\n",
              "      <td>200</td>\n",
              "      <td>9744</td>\n",
              "      <td>1220</td>\n",
              "      <td>70</td>\n",
              "    </tr>\n",
              "    <tr>\n",
              "      <th>2681854</th>\n",
              "      <td>2020-07-01</td>\n",
              "      <td>23:59:58</td>\n",
              "      <td>GET</td>\n",
              "      <td>/EKAP/Default.aspx</td>\n",
              "      <td>-</td>\n",
              "      <td>-</td>\n",
              "      <td>10.110.11.32</td>\n",
              "      <td>Mozilla/4.0+(compatible;+MSIE+6.0;+Windows+NT+...</td>\n",
              "      <td>-</td>\n",
              "      <td>-</td>\n",
              "      <td>200</td>\n",
              "      <td>101190</td>\n",
              "      <td>143</td>\n",
              "      <td>28</td>\n",
              "    </tr>\n",
              "    <tr>\n",
              "      <th>2681855</th>\n",
              "      <td>2020-07-01</td>\n",
              "      <td>23:59:59</td>\n",
              "      <td>GET</td>\n",
              "      <td>/EKAP/Ortak/BirBakistaIhale.aspx</td>\n",
              "      <td>IdareId=0ce336d8471edf0c33b4454d7bad214557b11d...</td>\n",
              "      <td>-</td>\n",
              "      <td>161.9.144.37</td>\n",
              "      <td>Mozilla/5.0+(Windows+NT+6.1;+Win64;+x64)+Apple...</td>\n",
              "      <td>BIGipServerGS-EKAP-WEB=rd2o0000000000000000000...</td>\n",
              "      <td>https://ekap.kik.gov.tr/EKAP/Ortak/BirBakistaI...</td>\n",
              "      <td>200</td>\n",
              "      <td>8121</td>\n",
              "      <td>1032</td>\n",
              "      <td>578</td>\n",
              "    </tr>\n",
              "    <tr>\n",
              "      <th>2681856</th>\n",
              "      <td>2020-07-01</td>\n",
              "      <td>23:59:59</td>\n",
              "      <td>GET</td>\n",
              "      <td>/EKAP/Ortak/VatandasIlanGoruntuleme.aspx</td>\n",
              "      <td>aramaDownload=true&amp;ihaleId=41ab061bb4a971ffb53...</td>\n",
              "      <td>-</td>\n",
              "      <td>102.143.202.183</td>\n",
              "      <td>Mozilla/5.0+(Windows+NT+10.0;+Win64;+x64)+Appl...</td>\n",
              "      <td>BIGipServerGS-EKAP-WEB=rd2o0000000000000000000...</td>\n",
              "      <td>https://ekap.kik.gov.tr/EKAP/Ortak/IhaleArama/...</td>\n",
              "      <td>302</td>\n",
              "      <td>619</td>\n",
              "      <td>886</td>\n",
              "      <td>45</td>\n",
              "    </tr>\n",
              "  </tbody>\n",
              "</table>\n",
              "<p>876963 rows × 14 columns</p>\n",
              "</div>"
            ],
            "text/plain": [
              "               date      time cs-method  ... sc-bytes cs-bytes time-taken\n",
              "5        2020-07-01  00:00:01       GET  ...     9788     1443        122\n",
              "6        2020-07-01  00:00:02       GET  ...     9656      862        152\n",
              "9        2020-07-01  00:00:04      POST  ...    23835    16096        194\n",
              "12       2020-07-01  00:00:05       GET  ...     9508     1443        107\n",
              "15       2020-07-01  00:00:05       GET  ...    11627      524      21088\n",
              "...             ...       ...       ...  ...      ...      ...        ...\n",
              "2681852  2020-07-01  23:59:58       GET  ...     8206     1032        489\n",
              "2681853  2020-07-01  23:59:58       GET  ...     9744     1220         70\n",
              "2681854  2020-07-01  23:59:58       GET  ...   101190      143         28\n",
              "2681855  2020-07-01  23:59:59       GET  ...     8121     1032        578\n",
              "2681856  2020-07-01  23:59:59       GET  ...      619      886         45\n",
              "\n",
              "[876963 rows x 14 columns]"
            ]
          },
          "metadata": {
            "tags": []
          },
          "execution_count": 9
        }
      ]
    },
    {
      "cell_type": "code",
      "metadata": {
        "id": "5M64U7TZhBjq",
        "colab": {
          "base_uri": "https://localhost:8080/",
          "height": 214
        },
        "outputId": "6f71e0b7-e9cb-4cac-9e8b-94c41f520b27"
      },
      "source": [
        "dataASPX[\"cs-uri-stem\"].value_counts()"
      ],
      "execution_count": null,
      "outputs": [
        {
          "output_type": "execute_result",
          "data": {
            "text/plain": [
              "/EKAP/Default.aspx                                                            85105\n",
              "/EKAP/Ortak/BirBakistaIhale.aspx                                              81116\n",
              "/EKAP/Teklif/IhaleDokumanDownloadEImzaliNet.aspx/CheckDokumanIndirmeStatus    50242\n",
              "/EKAP/SystemLogin.aspx                                                        50002\n",
              "/EKAP/Idare/Sihirbaz/DokumanHazirlama.aspx                                    47412\n",
              "                                                                              ...  \n",
              "/common/admin/Jobs2/Telerik.Web.UI.DialogHandler.aspx                             1\n",
              "/DesktopModules/Admin/RadEditorProvider/DialogHandler.aspx                        1\n",
              "/EKAP/Ortak/IhaleArama.aspx                                                       1\n",
              "/EKAP/common/admin/Jobs2/Telerik.Web.UI.DialogHandler.aspx                        1\n",
              "/EKAP/Yasaklilik/YasakliSorgu.aspx)+adresinden                                    1\n",
              "Name: cs-uri-stem, Length: 458, dtype: int64"
            ]
          },
          "metadata": {
            "tags": []
          },
          "execution_count": 10
        }
      ]
    },
    {
      "cell_type": "markdown",
      "metadata": {
        "id": "3f8rt4gB5UmT"
      },
      "source": [
        "# **SELECTING \"/EKAP/Ortak/BirBakistaIhale.aspx\"**"
      ]
    },
    {
      "cell_type": "code",
      "metadata": {
        "id": "-JZi95iCbJ3E"
      },
      "source": [
        "dataBirBakistaIhale = dataASPX[dataASPX[\"cs-uri-stem\"]==\"/EKAP/Ortak/BirBakistaIhale.aspx\"]\n",
        "dataBirBakistaIhale = dataBirBakistaIhale.reset_index(drop=True)"
      ],
      "execution_count": null,
      "outputs": []
    },
    {
      "cell_type": "code",
      "metadata": {
        "id": "yF0lPqxshLW2",
        "colab": {
          "base_uri": "https://localhost:8080/",
          "height": 590
        },
        "outputId": "f454cf7f-e13a-47b7-8fda-ce44bc0d81b6"
      },
      "source": [
        "dataBirBakistaIhale"
      ],
      "execution_count": null,
      "outputs": [
        {
          "output_type": "execute_result",
          "data": {
            "text/html": [
              "<div>\n",
              "<style scoped>\n",
              "    .dataframe tbody tr th:only-of-type {\n",
              "        vertical-align: middle;\n",
              "    }\n",
              "\n",
              "    .dataframe tbody tr th {\n",
              "        vertical-align: top;\n",
              "    }\n",
              "\n",
              "    .dataframe thead th {\n",
              "        text-align: right;\n",
              "    }\n",
              "</style>\n",
              "<table border=\"1\" class=\"dataframe\">\n",
              "  <thead>\n",
              "    <tr style=\"text-align: right;\">\n",
              "      <th></th>\n",
              "      <th>date</th>\n",
              "      <th>time</th>\n",
              "      <th>cs-method</th>\n",
              "      <th>cs-uri-stem</th>\n",
              "      <th>cs-uri-query</th>\n",
              "      <th>cs-username</th>\n",
              "      <th>c-ip</th>\n",
              "      <th>cs(User-Agent)</th>\n",
              "      <th>cs(Cookie)</th>\n",
              "      <th>cs(Referer)</th>\n",
              "      <th>sc-status</th>\n",
              "      <th>sc-bytes</th>\n",
              "      <th>cs-bytes</th>\n",
              "      <th>time-taken</th>\n",
              "    </tr>\n",
              "  </thead>\n",
              "  <tbody>\n",
              "    <tr>\n",
              "      <th>0</th>\n",
              "      <td>2020-07-01</td>\n",
              "      <td>00:00:01</td>\n",
              "      <td>GET</td>\n",
              "      <td>/EKAP/Ortak/BirBakistaIhale.aspx</td>\n",
              "      <td>IdareId=97b19497907e190b6569d3a318d5d368f66c86...</td>\n",
              "      <td>17302892776</td>\n",
              "      <td>88.252.13.173</td>\n",
              "      <td>Mozilla/5.0+(Windows+NT+10.0;+Win64;+x64)+Appl...</td>\n",
              "      <td>linkYardimPortal2=1;+_ga=GA1.3.1764455409.1583...</td>\n",
              "      <td>https://ekap.kik.gov.tr/EKAP/Ortak/BirBakistaI...</td>\n",
              "      <td>200</td>\n",
              "      <td>9788</td>\n",
              "      <td>1443</td>\n",
              "      <td>122</td>\n",
              "    </tr>\n",
              "    <tr>\n",
              "      <th>1</th>\n",
              "      <td>2020-07-01</td>\n",
              "      <td>00:00:02</td>\n",
              "      <td>GET</td>\n",
              "      <td>/EKAP/Ortak/BirBakistaIhale.aspx</td>\n",
              "      <td>IdareId=508d698f7f693d94de819da435e28da455d46a...</td>\n",
              "      <td>-</td>\n",
              "      <td>46.154.132.188</td>\n",
              "      <td>Mozilla/5.0+(Linux;+Android+8.0.0;+SAMSUNG+SM-...</td>\n",
              "      <td>linkYardimPortal2=1;+ASP.NET_SessionId=uq1z0yd...</td>\n",
              "      <td>https://ekap.kik.gov.tr/EKAP/Ortak/IhaleArama/...</td>\n",
              "      <td>200</td>\n",
              "      <td>9656</td>\n",
              "      <td>862</td>\n",
              "      <td>152</td>\n",
              "    </tr>\n",
              "    <tr>\n",
              "      <th>2</th>\n",
              "      <td>2020-07-01</td>\n",
              "      <td>00:00:05</td>\n",
              "      <td>GET</td>\n",
              "      <td>/EKAP/Ortak/BirBakistaIhale.aspx</td>\n",
              "      <td>IdareId=bb79e8d2db6cae8a88c30c11c84c360554420c...</td>\n",
              "      <td>17302892776</td>\n",
              "      <td>88.252.13.173</td>\n",
              "      <td>Mozilla/5.0+(Windows+NT+10.0;+Win64;+x64)+Appl...</td>\n",
              "      <td>linkYardimPortal2=1;+_ga=GA1.3.1764455409.1583...</td>\n",
              "      <td>https://ekap.kik.gov.tr/EKAP/Ortak/BirBakistaI...</td>\n",
              "      <td>200</td>\n",
              "      <td>9508</td>\n",
              "      <td>1443</td>\n",
              "      <td>107</td>\n",
              "    </tr>\n",
              "    <tr>\n",
              "      <th>3</th>\n",
              "      <td>2020-07-01</td>\n",
              "      <td>00:00:11</td>\n",
              "      <td>GET</td>\n",
              "      <td>/EKAP/Ortak/BirBakistaIhale.aspx</td>\n",
              "      <td>IdareId=9d38b0f795738d4397f5400440bbff259045fb...</td>\n",
              "      <td>-</td>\n",
              "      <td>46.154.132.188</td>\n",
              "      <td>Mozilla/5.0+(Linux;+Android+8.0.0;+SAMSUNG+SM-...</td>\n",
              "      <td>linkYardimPortal2=1;+ASP.NET_SessionId=uq1z0yd...</td>\n",
              "      <td>https://ekap.kik.gov.tr/EKAP/Ortak/BirBakistaI...</td>\n",
              "      <td>200</td>\n",
              "      <td>10115</td>\n",
              "      <td>1033</td>\n",
              "      <td>97</td>\n",
              "    </tr>\n",
              "    <tr>\n",
              "      <th>4</th>\n",
              "      <td>2020-07-01</td>\n",
              "      <td>00:00:13</td>\n",
              "      <td>GET</td>\n",
              "      <td>/EKAP/Ortak/BirBakistaIhale.aspx</td>\n",
              "      <td>IdareId=0409bf8284375665b1289d57f40e72906d1788...</td>\n",
              "      <td>-</td>\n",
              "      <td>46.154.132.188</td>\n",
              "      <td>Mozilla/5.0+(Linux;+Android+8.0.0;+SAMSUNG+SM-...</td>\n",
              "      <td>linkYardimPortal2=1;+ASP.NET_SessionId=uq1z0yd...</td>\n",
              "      <td>https://ekap.kik.gov.tr/EKAP/Ortak/IhaleArama/...</td>\n",
              "      <td>200</td>\n",
              "      <td>9544</td>\n",
              "      <td>862</td>\n",
              "      <td>156</td>\n",
              "    </tr>\n",
              "    <tr>\n",
              "      <th>...</th>\n",
              "      <td>...</td>\n",
              "      <td>...</td>\n",
              "      <td>...</td>\n",
              "      <td>...</td>\n",
              "      <td>...</td>\n",
              "      <td>...</td>\n",
              "      <td>...</td>\n",
              "      <td>...</td>\n",
              "      <td>...</td>\n",
              "      <td>...</td>\n",
              "      <td>...</td>\n",
              "      <td>...</td>\n",
              "      <td>...</td>\n",
              "      <td>...</td>\n",
              "    </tr>\n",
              "    <tr>\n",
              "      <th>81111</th>\n",
              "      <td>2020-07-01</td>\n",
              "      <td>23:59:58</td>\n",
              "      <td>GET</td>\n",
              "      <td>/EKAP/Ortak/BirBakistaIhale.aspx</td>\n",
              "      <td>IdareId=1bd020d59d6c2b0ef14eeb7edb963cf9d851c5...</td>\n",
              "      <td>26458708572</td>\n",
              "      <td>176.42.110.141</td>\n",
              "      <td>Mozilla/5.0+(Windows+NT+6.1)+AppleWebKit/537.3...</td>\n",
              "      <td>linkYardimPortal2=1;+css=%2FEKAP%2FApp_Themes%...</td>\n",
              "      <td>https://ekap.kik.gov.tr/EKAP/Ortak/BirBakistaI...</td>\n",
              "      <td>200</td>\n",
              "      <td>9678</td>\n",
              "      <td>1426</td>\n",
              "      <td>131</td>\n",
              "    </tr>\n",
              "    <tr>\n",
              "      <th>81112</th>\n",
              "      <td>2020-07-01</td>\n",
              "      <td>23:59:58</td>\n",
              "      <td>GET</td>\n",
              "      <td>/EKAP/Ortak/BirBakistaIhale.aspx</td>\n",
              "      <td>IdareId=aecbdbf57790a8dfd5d0caebdc7e4a3e25213b...</td>\n",
              "      <td>-</td>\n",
              "      <td>46.155.245.35</td>\n",
              "      <td>Mozilla/5.0+(iPhone;+CPU+iPhone+OS+13_5_1+like...</td>\n",
              "      <td>browserDetection=browserDetection;+linkYardimP...</td>\n",
              "      <td>https://ekap.kik.gov.tr/EKAP/Ortak/IhaleArama/...</td>\n",
              "      <td>200</td>\n",
              "      <td>9615</td>\n",
              "      <td>767</td>\n",
              "      <td>176</td>\n",
              "    </tr>\n",
              "    <tr>\n",
              "      <th>81113</th>\n",
              "      <td>2020-07-01</td>\n",
              "      <td>23:59:58</td>\n",
              "      <td>GET</td>\n",
              "      <td>/EKAP/Ortak/BirBakistaIhale.aspx</td>\n",
              "      <td>IdareId=07aba124ac6f130c39fb59c55707f0a1b1ae52...</td>\n",
              "      <td>-</td>\n",
              "      <td>161.9.144.37</td>\n",
              "      <td>Mozilla/5.0+(Windows+NT+6.1;+Win64;+x64)+Apple...</td>\n",
              "      <td>BIGipServerGS-EKAP-WEB=rd2o0000000000000000000...</td>\n",
              "      <td>https://ekap.kik.gov.tr/EKAP/Ortak/BirBakistaI...</td>\n",
              "      <td>200</td>\n",
              "      <td>8206</td>\n",
              "      <td>1032</td>\n",
              "      <td>489</td>\n",
              "    </tr>\n",
              "    <tr>\n",
              "      <th>81114</th>\n",
              "      <td>2020-07-01</td>\n",
              "      <td>23:59:58</td>\n",
              "      <td>GET</td>\n",
              "      <td>/EKAP/Ortak/BirBakistaIhale.aspx</td>\n",
              "      <td>IdareId=ae0e6b6b0f33c5c5213bca13fa1d636843451e...</td>\n",
              "      <td>-</td>\n",
              "      <td>88.255.228.26</td>\n",
              "      <td>Mozilla/5.0+(Windows+NT+10.0;+Win64;+x64)+Appl...</td>\n",
              "      <td>linkYardimPortal2=1;+lbtnDuzenle201409=1;+css=...</td>\n",
              "      <td>https://ekap.kik.gov.tr/EKAP/Ortak/BirBakistaI...</td>\n",
              "      <td>200</td>\n",
              "      <td>9744</td>\n",
              "      <td>1220</td>\n",
              "      <td>70</td>\n",
              "    </tr>\n",
              "    <tr>\n",
              "      <th>81115</th>\n",
              "      <td>2020-07-01</td>\n",
              "      <td>23:59:59</td>\n",
              "      <td>GET</td>\n",
              "      <td>/EKAP/Ortak/BirBakistaIhale.aspx</td>\n",
              "      <td>IdareId=0ce336d8471edf0c33b4454d7bad214557b11d...</td>\n",
              "      <td>-</td>\n",
              "      <td>161.9.144.37</td>\n",
              "      <td>Mozilla/5.0+(Windows+NT+6.1;+Win64;+x64)+Apple...</td>\n",
              "      <td>BIGipServerGS-EKAP-WEB=rd2o0000000000000000000...</td>\n",
              "      <td>https://ekap.kik.gov.tr/EKAP/Ortak/BirBakistaI...</td>\n",
              "      <td>200</td>\n",
              "      <td>8121</td>\n",
              "      <td>1032</td>\n",
              "      <td>578</td>\n",
              "    </tr>\n",
              "  </tbody>\n",
              "</table>\n",
              "<p>81116 rows × 14 columns</p>\n",
              "</div>"
            ],
            "text/plain": [
              "             date      time cs-method  ... sc-bytes cs-bytes time-taken\n",
              "0      2020-07-01  00:00:01       GET  ...     9788     1443        122\n",
              "1      2020-07-01  00:00:02       GET  ...     9656      862        152\n",
              "2      2020-07-01  00:00:05       GET  ...     9508     1443        107\n",
              "3      2020-07-01  00:00:11       GET  ...    10115     1033         97\n",
              "4      2020-07-01  00:00:13       GET  ...     9544      862        156\n",
              "...           ...       ...       ...  ...      ...      ...        ...\n",
              "81111  2020-07-01  23:59:58       GET  ...     9678     1426        131\n",
              "81112  2020-07-01  23:59:58       GET  ...     9615      767        176\n",
              "81113  2020-07-01  23:59:58       GET  ...     8206     1032        489\n",
              "81114  2020-07-01  23:59:58       GET  ...     9744     1220         70\n",
              "81115  2020-07-01  23:59:59       GET  ...     8121     1032        578\n",
              "\n",
              "[81116 rows x 14 columns]"
            ]
          },
          "metadata": {
            "tags": []
          },
          "execution_count": 12
        }
      ]
    },
    {
      "cell_type": "markdown",
      "metadata": {
        "id": "KBPFRU-A8ZOC"
      },
      "source": [
        "# **SELECTING \"/EKAP/Default.aspx\"**"
      ]
    },
    {
      "cell_type": "code",
      "metadata": {
        "id": "zBjE5KHyM3Sm",
        "colab": {
          "base_uri": "https://localhost:8080/",
          "height": 1000
        },
        "outputId": "e017a0a5-ea59-4cd0-e86e-38f7827b3672"
      },
      "source": [
        "dataASPX[dataASPX['cs-uri-stem']=='/ekap/Default.aspx']"
      ],
      "execution_count": null,
      "outputs": [
        {
          "output_type": "execute_result",
          "data": {
            "text/html": [
              "<div>\n",
              "<style scoped>\n",
              "    .dataframe tbody tr th:only-of-type {\n",
              "        vertical-align: middle;\n",
              "    }\n",
              "\n",
              "    .dataframe tbody tr th {\n",
              "        vertical-align: top;\n",
              "    }\n",
              "\n",
              "    .dataframe thead th {\n",
              "        text-align: right;\n",
              "    }\n",
              "</style>\n",
              "<table border=\"1\" class=\"dataframe\">\n",
              "  <thead>\n",
              "    <tr style=\"text-align: right;\">\n",
              "      <th></th>\n",
              "      <th>date</th>\n",
              "      <th>time</th>\n",
              "      <th>cs-method</th>\n",
              "      <th>cs-uri-stem</th>\n",
              "      <th>cs-uri-query</th>\n",
              "      <th>cs-username</th>\n",
              "      <th>c-ip</th>\n",
              "      <th>cs(User-Agent)</th>\n",
              "      <th>cs(Cookie)</th>\n",
              "      <th>cs(Referer)</th>\n",
              "      <th>sc-status</th>\n",
              "      <th>sc-bytes</th>\n",
              "      <th>cs-bytes</th>\n",
              "      <th>time-taken</th>\n",
              "    </tr>\n",
              "  </thead>\n",
              "  <tbody>\n",
              "    <tr>\n",
              "      <th>15894</th>\n",
              "      <td>2020-07-01</td>\n",
              "      <td>01:57:26</td>\n",
              "      <td>GET</td>\n",
              "      <td>/ekap/Default.aspx</td>\n",
              "      <td>-</td>\n",
              "      <td>-</td>\n",
              "      <td>157.55.39.70</td>\n",
              "      <td>Mozilla/5.0+(compatible;+bingbot/2.0;++http://...</td>\n",
              "      <td>-</td>\n",
              "      <td>-</td>\n",
              "      <td>200</td>\n",
              "      <td>26599</td>\n",
              "      <td>287</td>\n",
              "      <td>43</td>\n",
              "    </tr>\n",
              "    <tr>\n",
              "      <th>18183</th>\n",
              "      <td>2020-07-01</td>\n",
              "      <td>02:28:00</td>\n",
              "      <td>GET</td>\n",
              "      <td>/ekap/Default.aspx</td>\n",
              "      <td>-</td>\n",
              "      <td>-</td>\n",
              "      <td>157.55.39.70</td>\n",
              "      <td>Mozilla/5.0+(compatible;+bingbot/2.0;++http://...</td>\n",
              "      <td>-</td>\n",
              "      <td>-</td>\n",
              "      <td>200</td>\n",
              "      <td>26608</td>\n",
              "      <td>287</td>\n",
              "      <td>48</td>\n",
              "    </tr>\n",
              "    <tr>\n",
              "      <th>21710</th>\n",
              "      <td>2020-07-01</td>\n",
              "      <td>03:09:51</td>\n",
              "      <td>GET</td>\n",
              "      <td>/ekap/Default.aspx</td>\n",
              "      <td>-</td>\n",
              "      <td>-</td>\n",
              "      <td>157.55.39.70</td>\n",
              "      <td>Mozilla/5.0+(compatible;+bingbot/2.0;++http://...</td>\n",
              "      <td>-</td>\n",
              "      <td>-</td>\n",
              "      <td>200</td>\n",
              "      <td>26625</td>\n",
              "      <td>287</td>\n",
              "      <td>32</td>\n",
              "    </tr>\n",
              "    <tr>\n",
              "      <th>23120</th>\n",
              "      <td>2020-07-01</td>\n",
              "      <td>03:28:35</td>\n",
              "      <td>GET</td>\n",
              "      <td>/ekap/Default.aspx</td>\n",
              "      <td>-</td>\n",
              "      <td>-</td>\n",
              "      <td>157.55.39.70</td>\n",
              "      <td>Mozilla/5.0+(compatible;+bingbot/2.0;++http://...</td>\n",
              "      <td>-</td>\n",
              "      <td>-</td>\n",
              "      <td>200</td>\n",
              "      <td>26611</td>\n",
              "      <td>287</td>\n",
              "      <td>45</td>\n",
              "    </tr>\n",
              "    <tr>\n",
              "      <th>24278</th>\n",
              "      <td>2020-07-01</td>\n",
              "      <td>03:39:15</td>\n",
              "      <td>GET</td>\n",
              "      <td>/ekap/Default.aspx</td>\n",
              "      <td>-</td>\n",
              "      <td>-</td>\n",
              "      <td>157.55.39.70</td>\n",
              "      <td>Mozilla/5.0+(compatible;+bingbot/2.0;++http://...</td>\n",
              "      <td>-</td>\n",
              "      <td>-</td>\n",
              "      <td>200</td>\n",
              "      <td>26618</td>\n",
              "      <td>287</td>\n",
              "      <td>45</td>\n",
              "    </tr>\n",
              "    <tr>\n",
              "      <th>54140</th>\n",
              "      <td>2020-07-01</td>\n",
              "      <td>05:07:21</td>\n",
              "      <td>GET</td>\n",
              "      <td>/ekap/Default.aspx</td>\n",
              "      <td>-</td>\n",
              "      <td>-</td>\n",
              "      <td>157.55.39.70</td>\n",
              "      <td>Mozilla/5.0+(compatible;+bingbot/2.0;++http://...</td>\n",
              "      <td>-</td>\n",
              "      <td>-</td>\n",
              "      <td>200</td>\n",
              "      <td>26613</td>\n",
              "      <td>287</td>\n",
              "      <td>43</td>\n",
              "    </tr>\n",
              "    <tr>\n",
              "      <th>69621</th>\n",
              "      <td>2020-07-01</td>\n",
              "      <td>05:19:29</td>\n",
              "      <td>GET</td>\n",
              "      <td>/ekap/Default.aspx</td>\n",
              "      <td>-</td>\n",
              "      <td>-</td>\n",
              "      <td>46.2.209.69</td>\n",
              "      <td>Mozilla/5.0+(Windows+NT+10.0;+Win64;+x64)+Appl...</td>\n",
              "      <td>-</td>\n",
              "      <td>-</td>\n",
              "      <td>200</td>\n",
              "      <td>26607</td>\n",
              "      <td>388</td>\n",
              "      <td>58</td>\n",
              "    </tr>\n",
              "    <tr>\n",
              "      <th>70064</th>\n",
              "      <td>2020-07-01</td>\n",
              "      <td>05:19:39</td>\n",
              "      <td>POST</td>\n",
              "      <td>/ekap/Default.aspx</td>\n",
              "      <td>-</td>\n",
              "      <td>-</td>\n",
              "      <td>46.2.209.69</td>\n",
              "      <td>Mozilla/5.0+(Windows+NT+10.0;+Win64;+x64)+Appl...</td>\n",
              "      <td>ASP.NET_SessionId=zt33ydu4rjvfasb04nx3z0ry;+BI...</td>\n",
              "      <td>https://ekap.kik.gov.tr/ekap/Default.aspx</td>\n",
              "      <td>302</td>\n",
              "      <td>847</td>\n",
              "      <td>1965</td>\n",
              "      <td>104</td>\n",
              "    </tr>\n",
              "    <tr>\n",
              "      <th>81997</th>\n",
              "      <td>2020-07-01</td>\n",
              "      <td>05:27:08</td>\n",
              "      <td>GET</td>\n",
              "      <td>/ekap/Default.aspx</td>\n",
              "      <td>-</td>\n",
              "      <td>-</td>\n",
              "      <td>31.223.33.222</td>\n",
              "      <td>Mozilla/5.0+(Windows+NT+6.1;+)+AppleWebKit/537...</td>\n",
              "      <td>linkYardimPortal2=1;+css=%2FEKAP%2FApp_Themes%...</td>\n",
              "      <td>-</td>\n",
              "      <td>200</td>\n",
              "      <td>26616</td>\n",
              "      <td>683</td>\n",
              "      <td>31</td>\n",
              "    </tr>\n",
              "    <tr>\n",
              "      <th>82051</th>\n",
              "      <td>2020-07-01</td>\n",
              "      <td>05:27:10</td>\n",
              "      <td>POST</td>\n",
              "      <td>/ekap/Default.aspx</td>\n",
              "      <td>-</td>\n",
              "      <td>-</td>\n",
              "      <td>31.223.33.222</td>\n",
              "      <td>Mozilla/5.0+(Windows+NT+6.1;+)+AppleWebKit/537...</td>\n",
              "      <td>linkYardimPortal2=1;+css=%2FEKAP%2FApp_Themes%...</td>\n",
              "      <td>https://ekap.kik.gov.tr/ekap/Default.aspx</td>\n",
              "      <td>302</td>\n",
              "      <td>847</td>\n",
              "      <td>2266</td>\n",
              "      <td>112</td>\n",
              "    </tr>\n",
              "    <tr>\n",
              "      <th>82265</th>\n",
              "      <td>2020-07-01</td>\n",
              "      <td>05:27:16</td>\n",
              "      <td>GET</td>\n",
              "      <td>/ekap/Default.aspx</td>\n",
              "      <td>-</td>\n",
              "      <td>-</td>\n",
              "      <td>157.55.39.70</td>\n",
              "      <td>Mozilla/5.0+(compatible;+bingbot/2.0;++http://...</td>\n",
              "      <td>-</td>\n",
              "      <td>-</td>\n",
              "      <td>200</td>\n",
              "      <td>26609</td>\n",
              "      <td>287</td>\n",
              "      <td>30</td>\n",
              "    </tr>\n",
              "    <tr>\n",
              "      <th>426773</th>\n",
              "      <td>2020-07-01</td>\n",
              "      <td>06:59:18</td>\n",
              "      <td>GET</td>\n",
              "      <td>/ekap/Default.aspx</td>\n",
              "      <td>-</td>\n",
              "      <td>-</td>\n",
              "      <td>157.55.39.70</td>\n",
              "      <td>Mozilla/5.0+(compatible;+bingbot/2.0;++http://...</td>\n",
              "      <td>-</td>\n",
              "      <td>-</td>\n",
              "      <td>200</td>\n",
              "      <td>26608</td>\n",
              "      <td>287</td>\n",
              "      <td>31</td>\n",
              "    </tr>\n",
              "    <tr>\n",
              "      <th>610881</th>\n",
              "      <td>2020-07-01</td>\n",
              "      <td>07:34:07</td>\n",
              "      <td>GET</td>\n",
              "      <td>/ekap/Default.aspx</td>\n",
              "      <td>-</td>\n",
              "      <td>-</td>\n",
              "      <td>62.248.66.152</td>\n",
              "      <td>Mozilla/5.0+(Windows+NT+10.0;+Win64;+x64)+Appl...</td>\n",
              "      <td>linkYardimPortal2=1</td>\n",
              "      <td>-</td>\n",
              "      <td>200</td>\n",
              "      <td>26596</td>\n",
              "      <td>588</td>\n",
              "      <td>31</td>\n",
              "    </tr>\n",
              "    <tr>\n",
              "      <th>616870</th>\n",
              "      <td>2020-07-01</td>\n",
              "      <td>07:35:20</td>\n",
              "      <td>POST</td>\n",
              "      <td>/ekap/Default.aspx</td>\n",
              "      <td>-</td>\n",
              "      <td>-</td>\n",
              "      <td>62.248.66.152</td>\n",
              "      <td>Mozilla/5.0+(Windows+NT+10.0;+Win64;+x64)+Appl...</td>\n",
              "      <td>linkYardimPortal2=1;+ASP.NET_SessionId=bvzx5hs...</td>\n",
              "      <td>https://ekap.kik.gov.tr/ekap/Default.aspx</td>\n",
              "      <td>302</td>\n",
              "      <td>847</td>\n",
              "      <td>2200</td>\n",
              "      <td>190</td>\n",
              "    </tr>\n",
              "    <tr>\n",
              "      <th>1181241</th>\n",
              "      <td>2020-07-01</td>\n",
              "      <td>09:50:47</td>\n",
              "      <td>GET</td>\n",
              "      <td>/ekap/Default.aspx</td>\n",
              "      <td>-</td>\n",
              "      <td>-</td>\n",
              "      <td>176.88.22.164</td>\n",
              "      <td>Mozilla/5.0+(Windows+NT+6.1;+)+AppleWebKit/537...</td>\n",
              "      <td>linkYardimPortal2=1;+_ga=GA1.3.1768150699.1583...</td>\n",
              "      <td>https://ekap.kik.gov.tr/ekap/systemlogin.aspx</td>\n",
              "      <td>200</td>\n",
              "      <td>26563</td>\n",
              "      <td>781</td>\n",
              "      <td>58</td>\n",
              "    </tr>\n",
              "    <tr>\n",
              "      <th>1181473</th>\n",
              "      <td>2020-07-01</td>\n",
              "      <td>09:50:53</td>\n",
              "      <td>POST</td>\n",
              "      <td>/ekap/Default.aspx</td>\n",
              "      <td>-</td>\n",
              "      <td>-</td>\n",
              "      <td>176.88.22.164</td>\n",
              "      <td>Mozilla/5.0+(Windows+NT+6.1;+)+AppleWebKit/537...</td>\n",
              "      <td>linkYardimPortal2=1;+_ga=GA1.3.1768150699.1583...</td>\n",
              "      <td>https://ekap.kik.gov.tr/ekap/Default.aspx</td>\n",
              "      <td>302</td>\n",
              "      <td>799</td>\n",
              "      <td>2206</td>\n",
              "      <td>245</td>\n",
              "    </tr>\n",
              "    <tr>\n",
              "      <th>1579866</th>\n",
              "      <td>2020-07-01</td>\n",
              "      <td>11:33:05</td>\n",
              "      <td>GET</td>\n",
              "      <td>/ekap/Default.aspx</td>\n",
              "      <td>-</td>\n",
              "      <td>-</td>\n",
              "      <td>193.140.182.33</td>\n",
              "      <td>Mozilla/5.0+(Windows+NT+10.0;+Win64;+x64)+Appl...</td>\n",
              "      <td>linkYardimPortal2=1;+lbtnDuzenle201409=1;+_ga=...</td>\n",
              "      <td>https://ekap.kik.gov.tr/ekap/SystemLogin.aspx</td>\n",
              "      <td>200</td>\n",
              "      <td>26645</td>\n",
              "      <td>812</td>\n",
              "      <td>29</td>\n",
              "    </tr>\n",
              "    <tr>\n",
              "      <th>1579995</th>\n",
              "      <td>2020-07-01</td>\n",
              "      <td>11:33:06</td>\n",
              "      <td>POST</td>\n",
              "      <td>/ekap/Default.aspx</td>\n",
              "      <td>-</td>\n",
              "      <td>-</td>\n",
              "      <td>193.140.182.33</td>\n",
              "      <td>Mozilla/5.0+(Windows+NT+10.0;+Win64;+x64)+Appl...</td>\n",
              "      <td>linkYardimPortal2=1;+lbtnDuzenle201409=1;+_ga=...</td>\n",
              "      <td>https://ekap.kik.gov.tr/ekap/Default.aspx</td>\n",
              "      <td>302</td>\n",
              "      <td>847</td>\n",
              "      <td>2242</td>\n",
              "      <td>103</td>\n",
              "    </tr>\n",
              "    <tr>\n",
              "      <th>2000980</th>\n",
              "      <td>2020-07-01</td>\n",
              "      <td>13:04:52</td>\n",
              "      <td>GET</td>\n",
              "      <td>/ekap/Default.aspx</td>\n",
              "      <td>-</td>\n",
              "      <td>-</td>\n",
              "      <td>195.142.127.130</td>\n",
              "      <td>Mozilla/5.0+(Windows+NT+6.1;+Win64;+x64;+Tride...</td>\n",
              "      <td>linkYardimPortal2=1</td>\n",
              "      <td>-</td>\n",
              "      <td>200</td>\n",
              "      <td>26729</td>\n",
              "      <td>316</td>\n",
              "      <td>77</td>\n",
              "    </tr>\n",
              "    <tr>\n",
              "      <th>2001259</th>\n",
              "      <td>2020-07-01</td>\n",
              "      <td>13:04:56</td>\n",
              "      <td>POST</td>\n",
              "      <td>/ekap/Default.aspx</td>\n",
              "      <td>-</td>\n",
              "      <td>-</td>\n",
              "      <td>195.142.127.130</td>\n",
              "      <td>Mozilla/5.0+(Windows+NT+6.1;+Win64;+x64;+Tride...</td>\n",
              "      <td>linkYardimPortal2=1;+ASP.NET_SessionId=h4mxfwq...</td>\n",
              "      <td>https://ekap.kik.gov.tr/ekap/Default.aspx</td>\n",
              "      <td>302</td>\n",
              "      <td>799</td>\n",
              "      <td>1864</td>\n",
              "      <td>1687</td>\n",
              "    </tr>\n",
              "    <tr>\n",
              "      <th>2417252</th>\n",
              "      <td>2020-07-01</td>\n",
              "      <td>16:11:18</td>\n",
              "      <td>GET</td>\n",
              "      <td>/ekap/Default.aspx</td>\n",
              "      <td>-</td>\n",
              "      <td>-</td>\n",
              "      <td>157.55.39.70</td>\n",
              "      <td>Mozilla/5.0+(compatible;+bingbot/2.0;++http://...</td>\n",
              "      <td>-</td>\n",
              "      <td>-</td>\n",
              "      <td>200</td>\n",
              "      <td>26713</td>\n",
              "      <td>287</td>\n",
              "      <td>31</td>\n",
              "    </tr>\n",
              "    <tr>\n",
              "      <th>2471230</th>\n",
              "      <td>2020-07-01</td>\n",
              "      <td>17:28:06</td>\n",
              "      <td>GET</td>\n",
              "      <td>/ekap/Default.aspx</td>\n",
              "      <td>-</td>\n",
              "      <td>-</td>\n",
              "      <td>157.55.39.70</td>\n",
              "      <td>Mozilla/5.0+(compatible;+bingbot/2.0;++http://...</td>\n",
              "      <td>-</td>\n",
              "      <td>-</td>\n",
              "      <td>200</td>\n",
              "      <td>26711</td>\n",
              "      <td>287</td>\n",
              "      <td>32</td>\n",
              "    </tr>\n",
              "    <tr>\n",
              "      <th>2475577</th>\n",
              "      <td>2020-07-01</td>\n",
              "      <td>17:33:49</td>\n",
              "      <td>GET</td>\n",
              "      <td>/ekap/Default.aspx</td>\n",
              "      <td>-</td>\n",
              "      <td>-</td>\n",
              "      <td>157.55.39.70</td>\n",
              "      <td>Mozilla/5.0+(compatible;+bingbot/2.0;++http://...</td>\n",
              "      <td>-</td>\n",
              "      <td>-</td>\n",
              "      <td>200</td>\n",
              "      <td>26732</td>\n",
              "      <td>287</td>\n",
              "      <td>31</td>\n",
              "    </tr>\n",
              "    <tr>\n",
              "      <th>2492123</th>\n",
              "      <td>2020-07-01</td>\n",
              "      <td>17:59:42</td>\n",
              "      <td>GET</td>\n",
              "      <td>/ekap/Default.aspx</td>\n",
              "      <td>-</td>\n",
              "      <td>-</td>\n",
              "      <td>157.55.39.70</td>\n",
              "      <td>Mozilla/5.0+(compatible;+bingbot/2.0;++http://...</td>\n",
              "      <td>-</td>\n",
              "      <td>-</td>\n",
              "      <td>200</td>\n",
              "      <td>26717</td>\n",
              "      <td>287</td>\n",
              "      <td>31</td>\n",
              "    </tr>\n",
              "    <tr>\n",
              "      <th>2495023</th>\n",
              "      <td>2020-07-01</td>\n",
              "      <td>18:03:46</td>\n",
              "      <td>GET</td>\n",
              "      <td>/ekap/Default.aspx</td>\n",
              "      <td>-</td>\n",
              "      <td>-</td>\n",
              "      <td>157.55.39.70</td>\n",
              "      <td>Mozilla/5.0+(compatible;+bingbot/2.0;++http://...</td>\n",
              "      <td>-</td>\n",
              "      <td>-</td>\n",
              "      <td>200</td>\n",
              "      <td>26730</td>\n",
              "      <td>287</td>\n",
              "      <td>39</td>\n",
              "    </tr>\n",
              "    <tr>\n",
              "      <th>2514938</th>\n",
              "      <td>2020-07-01</td>\n",
              "      <td>18:33:39</td>\n",
              "      <td>GET</td>\n",
              "      <td>/ekap/Default.aspx</td>\n",
              "      <td>-</td>\n",
              "      <td>-</td>\n",
              "      <td>157.55.39.70</td>\n",
              "      <td>Mozilla/5.0+(compatible;+bingbot/2.0;++http://...</td>\n",
              "      <td>-</td>\n",
              "      <td>-</td>\n",
              "      <td>200</td>\n",
              "      <td>26725</td>\n",
              "      <td>287</td>\n",
              "      <td>58</td>\n",
              "    </tr>\n",
              "    <tr>\n",
              "      <th>2554259</th>\n",
              "      <td>2020-07-01</td>\n",
              "      <td>19:35:38</td>\n",
              "      <td>GET</td>\n",
              "      <td>/ekap/Default.aspx</td>\n",
              "      <td>-</td>\n",
              "      <td>-</td>\n",
              "      <td>157.55.39.70</td>\n",
              "      <td>Mozilla/5.0+(compatible;+bingbot/2.0;++http://...</td>\n",
              "      <td>-</td>\n",
              "      <td>-</td>\n",
              "      <td>200</td>\n",
              "      <td>26735</td>\n",
              "      <td>287</td>\n",
              "      <td>44</td>\n",
              "    </tr>\n",
              "    <tr>\n",
              "      <th>2631063</th>\n",
              "      <td>2020-07-01</td>\n",
              "      <td>21:34:30</td>\n",
              "      <td>GET</td>\n",
              "      <td>/ekap/Default.aspx</td>\n",
              "      <td>-</td>\n",
              "      <td>-</td>\n",
              "      <td>207.46.13.132</td>\n",
              "      <td>Mozilla/5.0+(compatible;+bingbot/2.0;++http://...</td>\n",
              "      <td>-</td>\n",
              "      <td>-</td>\n",
              "      <td>200</td>\n",
              "      <td>26716</td>\n",
              "      <td>287</td>\n",
              "      <td>59</td>\n",
              "    </tr>\n",
              "  </tbody>\n",
              "</table>\n",
              "</div>"
            ],
            "text/plain": [
              "               date      time cs-method  ... sc-bytes cs-bytes time-taken\n",
              "15894    2020-07-01  01:57:26       GET  ...    26599      287         43\n",
              "18183    2020-07-01  02:28:00       GET  ...    26608      287         48\n",
              "21710    2020-07-01  03:09:51       GET  ...    26625      287         32\n",
              "23120    2020-07-01  03:28:35       GET  ...    26611      287         45\n",
              "24278    2020-07-01  03:39:15       GET  ...    26618      287         45\n",
              "54140    2020-07-01  05:07:21       GET  ...    26613      287         43\n",
              "69621    2020-07-01  05:19:29       GET  ...    26607      388         58\n",
              "70064    2020-07-01  05:19:39      POST  ...      847     1965        104\n",
              "81997    2020-07-01  05:27:08       GET  ...    26616      683         31\n",
              "82051    2020-07-01  05:27:10      POST  ...      847     2266        112\n",
              "82265    2020-07-01  05:27:16       GET  ...    26609      287         30\n",
              "426773   2020-07-01  06:59:18       GET  ...    26608      287         31\n",
              "610881   2020-07-01  07:34:07       GET  ...    26596      588         31\n",
              "616870   2020-07-01  07:35:20      POST  ...      847     2200        190\n",
              "1181241  2020-07-01  09:50:47       GET  ...    26563      781         58\n",
              "1181473  2020-07-01  09:50:53      POST  ...      799     2206        245\n",
              "1579866  2020-07-01  11:33:05       GET  ...    26645      812         29\n",
              "1579995  2020-07-01  11:33:06      POST  ...      847     2242        103\n",
              "2000980  2020-07-01  13:04:52       GET  ...    26729      316         77\n",
              "2001259  2020-07-01  13:04:56      POST  ...      799     1864       1687\n",
              "2417252  2020-07-01  16:11:18       GET  ...    26713      287         31\n",
              "2471230  2020-07-01  17:28:06       GET  ...    26711      287         32\n",
              "2475577  2020-07-01  17:33:49       GET  ...    26732      287         31\n",
              "2492123  2020-07-01  17:59:42       GET  ...    26717      287         31\n",
              "2495023  2020-07-01  18:03:46       GET  ...    26730      287         39\n",
              "2514938  2020-07-01  18:33:39       GET  ...    26725      287         58\n",
              "2554259  2020-07-01  19:35:38       GET  ...    26735      287         44\n",
              "2631063  2020-07-01  21:34:30       GET  ...    26716      287         59\n",
              "\n",
              "[28 rows x 14 columns]"
            ]
          },
          "metadata": {
            "tags": []
          },
          "execution_count": 134
        }
      ]
    },
    {
      "cell_type": "code",
      "metadata": {
        "id": "ozSEJ8gg8r8D"
      },
      "source": [
        "dataDefault = dataASPX[dataASPX[\"cs-uri-stem\"]==\"/EKAP/Default.aspx\"]\n",
        "dataDefault = dataDefault.reset_index(drop=True)"
      ],
      "execution_count": null,
      "outputs": []
    },
    {
      "cell_type": "code",
      "metadata": {
        "id": "lNYOAkqh82IX",
        "colab": {
          "base_uri": "https://localhost:8080/",
          "height": 590
        },
        "outputId": "861808ef-4bc8-424c-bfab-dabf6d5dd725"
      },
      "source": [
        "dataDefault"
      ],
      "execution_count": null,
      "outputs": [
        {
          "output_type": "execute_result",
          "data": {
            "text/html": [
              "<div>\n",
              "<style scoped>\n",
              "    .dataframe tbody tr th:only-of-type {\n",
              "        vertical-align: middle;\n",
              "    }\n",
              "\n",
              "    .dataframe tbody tr th {\n",
              "        vertical-align: top;\n",
              "    }\n",
              "\n",
              "    .dataframe thead th {\n",
              "        text-align: right;\n",
              "    }\n",
              "</style>\n",
              "<table border=\"1\" class=\"dataframe\">\n",
              "  <thead>\n",
              "    <tr style=\"text-align: right;\">\n",
              "      <th></th>\n",
              "      <th>date</th>\n",
              "      <th>time</th>\n",
              "      <th>cs-method</th>\n",
              "      <th>cs-uri-stem</th>\n",
              "      <th>cs-uri-query</th>\n",
              "      <th>cs-username</th>\n",
              "      <th>c-ip</th>\n",
              "      <th>cs(User-Agent)</th>\n",
              "      <th>cs(Cookie)</th>\n",
              "      <th>cs(Referer)</th>\n",
              "      <th>sc-status</th>\n",
              "      <th>sc-bytes</th>\n",
              "      <th>cs-bytes</th>\n",
              "      <th>time-taken</th>\n",
              "    </tr>\n",
              "  </thead>\n",
              "  <tbody>\n",
              "    <tr>\n",
              "      <th>0</th>\n",
              "      <td>2020-07-01</td>\n",
              "      <td>00:00:44</td>\n",
              "      <td>GET</td>\n",
              "      <td>/EKAP/Default.aspx</td>\n",
              "      <td>-</td>\n",
              "      <td>36199271570</td>\n",
              "      <td>88.231.141.199</td>\n",
              "      <td>Mozilla/5.0+(Windows+NT+6.1;+Win64;+x64)+Apple...</td>\n",
              "      <td>linkYardimPortal2=1;+BIGipServerGS-EKAP-WEB=rd...</td>\n",
              "      <td>https://ekap.kik.gov.tr/EKAP/Istekli/KatilimYe...</td>\n",
              "      <td>200</td>\n",
              "      <td>35920</td>\n",
              "      <td>1085</td>\n",
              "      <td>111</td>\n",
              "    </tr>\n",
              "    <tr>\n",
              "      <th>1</th>\n",
              "      <td>2020-07-01</td>\n",
              "      <td>00:00:59</td>\n",
              "      <td>GET</td>\n",
              "      <td>/EKAP/Default.aspx</td>\n",
              "      <td>-</td>\n",
              "      <td>-</td>\n",
              "      <td>10.110.11.31</td>\n",
              "      <td>Mozilla/4.0+(compatible;+MSIE+6.0;+Windows+NT+...</td>\n",
              "      <td>-</td>\n",
              "      <td>-</td>\n",
              "      <td>200</td>\n",
              "      <td>99801</td>\n",
              "      <td>143</td>\n",
              "      <td>29</td>\n",
              "    </tr>\n",
              "    <tr>\n",
              "      <th>2</th>\n",
              "      <td>2020-07-01</td>\n",
              "      <td>00:01:01</td>\n",
              "      <td>GET</td>\n",
              "      <td>/EKAP/Default.aspx</td>\n",
              "      <td>ReturnUrl=%2fEKAP%2fwplogin%2f</td>\n",
              "      <td>-</td>\n",
              "      <td>185.67.33.210</td>\n",
              "      <td>Mozilla/5.0+(X11;+Linux+x86_64;+rv:75.0)+Gecko...</td>\n",
              "      <td>BIGipServerGS-EKAP-WEB=rd2o0000000000000000000...</td>\n",
              "      <td>-</td>\n",
              "      <td>200</td>\n",
              "      <td>26641</td>\n",
              "      <td>312</td>\n",
              "      <td>33</td>\n",
              "    </tr>\n",
              "    <tr>\n",
              "      <th>3</th>\n",
              "      <td>2020-07-01</td>\n",
              "      <td>00:01:07</td>\n",
              "      <td>GET</td>\n",
              "      <td>/EKAP/Default.aspx</td>\n",
              "      <td>-</td>\n",
              "      <td>-</td>\n",
              "      <td>10.120.45.222</td>\n",
              "      <td>Mozilla/4.0+(compatible;+MSIE+6.0;+Windows+NT+...</td>\n",
              "      <td>-</td>\n",
              "      <td>-</td>\n",
              "      <td>200</td>\n",
              "      <td>99801</td>\n",
              "      <td>146</td>\n",
              "      <td>27</td>\n",
              "    </tr>\n",
              "    <tr>\n",
              "      <th>4</th>\n",
              "      <td>2020-07-01</td>\n",
              "      <td>00:01:07</td>\n",
              "      <td>GET</td>\n",
              "      <td>/EKAP/Default.aspx</td>\n",
              "      <td>-</td>\n",
              "      <td>11744523502</td>\n",
              "      <td>31.155.242.69</td>\n",
              "      <td>Mozilla/5.0+(Windows+NT+10.0;+Win64;+x64)+Appl...</td>\n",
              "      <td>linkYardimPortal2=1;+css=%2FEKAP%2FApp_Themes%...</td>\n",
              "      <td>https://ekap.kik.gov.tr/EKAP/SystemLogin.aspx</td>\n",
              "      <td>200</td>\n",
              "      <td>35596</td>\n",
              "      <td>1116</td>\n",
              "      <td>209</td>\n",
              "    </tr>\n",
              "    <tr>\n",
              "      <th>...</th>\n",
              "      <td>...</td>\n",
              "      <td>...</td>\n",
              "      <td>...</td>\n",
              "      <td>...</td>\n",
              "      <td>...</td>\n",
              "      <td>...</td>\n",
              "      <td>...</td>\n",
              "      <td>...</td>\n",
              "      <td>...</td>\n",
              "      <td>...</td>\n",
              "      <td>...</td>\n",
              "      <td>...</td>\n",
              "      <td>...</td>\n",
              "      <td>...</td>\n",
              "    </tr>\n",
              "    <tr>\n",
              "      <th>85100</th>\n",
              "      <td>2020-07-01</td>\n",
              "      <td>23:58:16</td>\n",
              "      <td>GET</td>\n",
              "      <td>/EKAP/Default.aspx</td>\n",
              "      <td>ReturnUrl=%2fEKAP%2fIsDeneyim2%2fIsDeneyimBasv...</td>\n",
              "      <td>-</td>\n",
              "      <td>188.3.238.19</td>\n",
              "      <td>Mozilla/5.0+(iPhone;+CPU+iPhone+OS+13_5_1+like...</td>\n",
              "      <td>BIGipServerGS-EKAP-WEB=rd2o0000000000000000000...</td>\n",
              "      <td>https://ekap.kik.gov.tr/EKAP/IsDeneyim2/IsDene...</td>\n",
              "      <td>200</td>\n",
              "      <td>26759</td>\n",
              "      <td>626</td>\n",
              "      <td>33</td>\n",
              "    </tr>\n",
              "    <tr>\n",
              "      <th>85101</th>\n",
              "      <td>2020-07-01</td>\n",
              "      <td>23:58:31</td>\n",
              "      <td>GET</td>\n",
              "      <td>/EKAP/Default.aspx</td>\n",
              "      <td>ReturnUrl=%2fEKAP%2f/</td>\n",
              "      <td>-</td>\n",
              "      <td>185.67.33.247</td>\n",
              "      <td>Mozilla/5.0+(Windows+NT+10.0;+Win64;+x64)+Appl...</td>\n",
              "      <td>-</td>\n",
              "      <td>https://www.google.com/</td>\n",
              "      <td>200</td>\n",
              "      <td>26735</td>\n",
              "      <td>434</td>\n",
              "      <td>33</td>\n",
              "    </tr>\n",
              "    <tr>\n",
              "      <th>85102</th>\n",
              "      <td>2020-07-01</td>\n",
              "      <td>23:58:59</td>\n",
              "      <td>GET</td>\n",
              "      <td>/EKAP/Default.aspx</td>\n",
              "      <td>-</td>\n",
              "      <td>-</td>\n",
              "      <td>10.110.11.31</td>\n",
              "      <td>Mozilla/4.0+(compatible;+MSIE+6.0;+Windows+NT+...</td>\n",
              "      <td>-</td>\n",
              "      <td>-</td>\n",
              "      <td>200</td>\n",
              "      <td>101190</td>\n",
              "      <td>143</td>\n",
              "      <td>75</td>\n",
              "    </tr>\n",
              "    <tr>\n",
              "      <th>85103</th>\n",
              "      <td>2020-07-01</td>\n",
              "      <td>23:59:07</td>\n",
              "      <td>GET</td>\n",
              "      <td>/EKAP/Default.aspx</td>\n",
              "      <td>-</td>\n",
              "      <td>-</td>\n",
              "      <td>10.120.45.222</td>\n",
              "      <td>Mozilla/4.0+(compatible;+MSIE+6.0;+Windows+NT+...</td>\n",
              "      <td>-</td>\n",
              "      <td>-</td>\n",
              "      <td>200</td>\n",
              "      <td>101190</td>\n",
              "      <td>146</td>\n",
              "      <td>29</td>\n",
              "    </tr>\n",
              "    <tr>\n",
              "      <th>85104</th>\n",
              "      <td>2020-07-01</td>\n",
              "      <td>23:59:58</td>\n",
              "      <td>GET</td>\n",
              "      <td>/EKAP/Default.aspx</td>\n",
              "      <td>-</td>\n",
              "      <td>-</td>\n",
              "      <td>10.110.11.32</td>\n",
              "      <td>Mozilla/4.0+(compatible;+MSIE+6.0;+Windows+NT+...</td>\n",
              "      <td>-</td>\n",
              "      <td>-</td>\n",
              "      <td>200</td>\n",
              "      <td>101190</td>\n",
              "      <td>143</td>\n",
              "      <td>28</td>\n",
              "    </tr>\n",
              "  </tbody>\n",
              "</table>\n",
              "<p>85105 rows × 14 columns</p>\n",
              "</div>"
            ],
            "text/plain": [
              "             date      time cs-method  ... sc-bytes cs-bytes time-taken\n",
              "0      2020-07-01  00:00:44       GET  ...    35920     1085        111\n",
              "1      2020-07-01  00:00:59       GET  ...    99801      143         29\n",
              "2      2020-07-01  00:01:01       GET  ...    26641      312         33\n",
              "3      2020-07-01  00:01:07       GET  ...    99801      146         27\n",
              "4      2020-07-01  00:01:07       GET  ...    35596     1116        209\n",
              "...           ...       ...       ...  ...      ...      ...        ...\n",
              "85100  2020-07-01  23:58:16       GET  ...    26759      626         33\n",
              "85101  2020-07-01  23:58:31       GET  ...    26735      434         33\n",
              "85102  2020-07-01  23:58:59       GET  ...   101190      143         75\n",
              "85103  2020-07-01  23:59:07       GET  ...   101190      146         29\n",
              "85104  2020-07-01  23:59:58       GET  ...   101190      143         28\n",
              "\n",
              "[85105 rows x 14 columns]"
            ]
          },
          "metadata": {
            "tags": []
          },
          "execution_count": 14
        }
      ]
    },
    {
      "cell_type": "markdown",
      "metadata": {
        "id": "SKX-uiIW5wer"
      },
      "source": [
        "# **SELECTING SEVERAL FEATURES**\n"
      ]
    },
    {
      "cell_type": "code",
      "metadata": {
        "id": "lqLDLAJxcpf_"
      },
      "source": [
        "columns = [\"cs-method\",\"sc-status\",\"sc-bytes\",\"cs-bytes\",\"time-taken\",\"cs-username\"]"
      ],
      "execution_count": null,
      "outputs": []
    },
    {
      "cell_type": "code",
      "metadata": {
        "id": "jyXUeGiccc5-"
      },
      "source": [
        "dataBirBakistaIhaleSelected = dataBirBakistaIhale[columns]\n",
        "dataDefaultSelected = dataDefault[columns]"
      ],
      "execution_count": null,
      "outputs": []
    },
    {
      "cell_type": "code",
      "metadata": {
        "id": "qafE0ul8iNTn",
        "colab": {
          "base_uri": "https://localhost:8080/",
          "height": 388
        },
        "outputId": "552439c9-d960-4c15-9901-e8cffe0b7327"
      },
      "source": [
        "dataBirBakistaIhaleSelected"
      ],
      "execution_count": null,
      "outputs": [
        {
          "output_type": "execute_result",
          "data": {
            "text/html": [
              "<div>\n",
              "<style scoped>\n",
              "    .dataframe tbody tr th:only-of-type {\n",
              "        vertical-align: middle;\n",
              "    }\n",
              "\n",
              "    .dataframe tbody tr th {\n",
              "        vertical-align: top;\n",
              "    }\n",
              "\n",
              "    .dataframe thead th {\n",
              "        text-align: right;\n",
              "    }\n",
              "</style>\n",
              "<table border=\"1\" class=\"dataframe\">\n",
              "  <thead>\n",
              "    <tr style=\"text-align: right;\">\n",
              "      <th></th>\n",
              "      <th>cs-method</th>\n",
              "      <th>sc-status</th>\n",
              "      <th>sc-bytes</th>\n",
              "      <th>cs-bytes</th>\n",
              "      <th>time-taken</th>\n",
              "      <th>cs-username</th>\n",
              "    </tr>\n",
              "  </thead>\n",
              "  <tbody>\n",
              "    <tr>\n",
              "      <th>0</th>\n",
              "      <td>GET</td>\n",
              "      <td>200</td>\n",
              "      <td>9788</td>\n",
              "      <td>1443</td>\n",
              "      <td>122</td>\n",
              "      <td>17302892776</td>\n",
              "    </tr>\n",
              "    <tr>\n",
              "      <th>1</th>\n",
              "      <td>GET</td>\n",
              "      <td>200</td>\n",
              "      <td>9656</td>\n",
              "      <td>862</td>\n",
              "      <td>152</td>\n",
              "      <td>-</td>\n",
              "    </tr>\n",
              "    <tr>\n",
              "      <th>2</th>\n",
              "      <td>GET</td>\n",
              "      <td>200</td>\n",
              "      <td>9508</td>\n",
              "      <td>1443</td>\n",
              "      <td>107</td>\n",
              "      <td>17302892776</td>\n",
              "    </tr>\n",
              "    <tr>\n",
              "      <th>3</th>\n",
              "      <td>GET</td>\n",
              "      <td>200</td>\n",
              "      <td>10115</td>\n",
              "      <td>1033</td>\n",
              "      <td>97</td>\n",
              "      <td>-</td>\n",
              "    </tr>\n",
              "    <tr>\n",
              "      <th>4</th>\n",
              "      <td>GET</td>\n",
              "      <td>200</td>\n",
              "      <td>9544</td>\n",
              "      <td>862</td>\n",
              "      <td>156</td>\n",
              "      <td>-</td>\n",
              "    </tr>\n",
              "    <tr>\n",
              "      <th>...</th>\n",
              "      <td>...</td>\n",
              "      <td>...</td>\n",
              "      <td>...</td>\n",
              "      <td>...</td>\n",
              "      <td>...</td>\n",
              "      <td>...</td>\n",
              "    </tr>\n",
              "    <tr>\n",
              "      <th>81111</th>\n",
              "      <td>GET</td>\n",
              "      <td>200</td>\n",
              "      <td>9678</td>\n",
              "      <td>1426</td>\n",
              "      <td>131</td>\n",
              "      <td>26458708572</td>\n",
              "    </tr>\n",
              "    <tr>\n",
              "      <th>81112</th>\n",
              "      <td>GET</td>\n",
              "      <td>200</td>\n",
              "      <td>9615</td>\n",
              "      <td>767</td>\n",
              "      <td>176</td>\n",
              "      <td>-</td>\n",
              "    </tr>\n",
              "    <tr>\n",
              "      <th>81113</th>\n",
              "      <td>GET</td>\n",
              "      <td>200</td>\n",
              "      <td>8206</td>\n",
              "      <td>1032</td>\n",
              "      <td>489</td>\n",
              "      <td>-</td>\n",
              "    </tr>\n",
              "    <tr>\n",
              "      <th>81114</th>\n",
              "      <td>GET</td>\n",
              "      <td>200</td>\n",
              "      <td>9744</td>\n",
              "      <td>1220</td>\n",
              "      <td>70</td>\n",
              "      <td>-</td>\n",
              "    </tr>\n",
              "    <tr>\n",
              "      <th>81115</th>\n",
              "      <td>GET</td>\n",
              "      <td>200</td>\n",
              "      <td>8121</td>\n",
              "      <td>1032</td>\n",
              "      <td>578</td>\n",
              "      <td>-</td>\n",
              "    </tr>\n",
              "  </tbody>\n",
              "</table>\n",
              "<p>81116 rows × 6 columns</p>\n",
              "</div>"
            ],
            "text/plain": [
              "      cs-method sc-status sc-bytes cs-bytes time-taken  cs-username\n",
              "0           GET       200     9788     1443        122  17302892776\n",
              "1           GET       200     9656      862        152            -\n",
              "2           GET       200     9508     1443        107  17302892776\n",
              "3           GET       200    10115     1033         97            -\n",
              "4           GET       200     9544      862        156            -\n",
              "...         ...       ...      ...      ...        ...          ...\n",
              "81111       GET       200     9678     1426        131  26458708572\n",
              "81112       GET       200     9615      767        176            -\n",
              "81113       GET       200     8206     1032        489            -\n",
              "81114       GET       200     9744     1220         70            -\n",
              "81115       GET       200     8121     1032        578            -\n",
              "\n",
              "[81116 rows x 6 columns]"
            ]
          },
          "metadata": {
            "tags": []
          },
          "execution_count": 18
        }
      ]
    },
    {
      "cell_type": "code",
      "metadata": {
        "id": "6t9-drdw9jPm",
        "colab": {
          "base_uri": "https://localhost:8080/",
          "height": 388
        },
        "outputId": "460f6a50-b28a-4e76-fae0-84dd4bf0d1fa"
      },
      "source": [
        "dataDefaultSelected"
      ],
      "execution_count": null,
      "outputs": [
        {
          "output_type": "execute_result",
          "data": {
            "text/html": [
              "<div>\n",
              "<style scoped>\n",
              "    .dataframe tbody tr th:only-of-type {\n",
              "        vertical-align: middle;\n",
              "    }\n",
              "\n",
              "    .dataframe tbody tr th {\n",
              "        vertical-align: top;\n",
              "    }\n",
              "\n",
              "    .dataframe thead th {\n",
              "        text-align: right;\n",
              "    }\n",
              "</style>\n",
              "<table border=\"1\" class=\"dataframe\">\n",
              "  <thead>\n",
              "    <tr style=\"text-align: right;\">\n",
              "      <th></th>\n",
              "      <th>cs-method</th>\n",
              "      <th>sc-status</th>\n",
              "      <th>sc-bytes</th>\n",
              "      <th>cs-bytes</th>\n",
              "      <th>time-taken</th>\n",
              "      <th>cs-username</th>\n",
              "    </tr>\n",
              "  </thead>\n",
              "  <tbody>\n",
              "    <tr>\n",
              "      <th>0</th>\n",
              "      <td>GET</td>\n",
              "      <td>200</td>\n",
              "      <td>35920</td>\n",
              "      <td>1085</td>\n",
              "      <td>111</td>\n",
              "      <td>36199271570</td>\n",
              "    </tr>\n",
              "    <tr>\n",
              "      <th>1</th>\n",
              "      <td>GET</td>\n",
              "      <td>200</td>\n",
              "      <td>99801</td>\n",
              "      <td>143</td>\n",
              "      <td>29</td>\n",
              "      <td>-</td>\n",
              "    </tr>\n",
              "    <tr>\n",
              "      <th>2</th>\n",
              "      <td>GET</td>\n",
              "      <td>200</td>\n",
              "      <td>26641</td>\n",
              "      <td>312</td>\n",
              "      <td>33</td>\n",
              "      <td>-</td>\n",
              "    </tr>\n",
              "    <tr>\n",
              "      <th>3</th>\n",
              "      <td>GET</td>\n",
              "      <td>200</td>\n",
              "      <td>99801</td>\n",
              "      <td>146</td>\n",
              "      <td>27</td>\n",
              "      <td>-</td>\n",
              "    </tr>\n",
              "    <tr>\n",
              "      <th>4</th>\n",
              "      <td>GET</td>\n",
              "      <td>200</td>\n",
              "      <td>35596</td>\n",
              "      <td>1116</td>\n",
              "      <td>209</td>\n",
              "      <td>11744523502</td>\n",
              "    </tr>\n",
              "    <tr>\n",
              "      <th>...</th>\n",
              "      <td>...</td>\n",
              "      <td>...</td>\n",
              "      <td>...</td>\n",
              "      <td>...</td>\n",
              "      <td>...</td>\n",
              "      <td>...</td>\n",
              "    </tr>\n",
              "    <tr>\n",
              "      <th>85100</th>\n",
              "      <td>GET</td>\n",
              "      <td>200</td>\n",
              "      <td>26759</td>\n",
              "      <td>626</td>\n",
              "      <td>33</td>\n",
              "      <td>-</td>\n",
              "    </tr>\n",
              "    <tr>\n",
              "      <th>85101</th>\n",
              "      <td>GET</td>\n",
              "      <td>200</td>\n",
              "      <td>26735</td>\n",
              "      <td>434</td>\n",
              "      <td>33</td>\n",
              "      <td>-</td>\n",
              "    </tr>\n",
              "    <tr>\n",
              "      <th>85102</th>\n",
              "      <td>GET</td>\n",
              "      <td>200</td>\n",
              "      <td>101190</td>\n",
              "      <td>143</td>\n",
              "      <td>75</td>\n",
              "      <td>-</td>\n",
              "    </tr>\n",
              "    <tr>\n",
              "      <th>85103</th>\n",
              "      <td>GET</td>\n",
              "      <td>200</td>\n",
              "      <td>101190</td>\n",
              "      <td>146</td>\n",
              "      <td>29</td>\n",
              "      <td>-</td>\n",
              "    </tr>\n",
              "    <tr>\n",
              "      <th>85104</th>\n",
              "      <td>GET</td>\n",
              "      <td>200</td>\n",
              "      <td>101190</td>\n",
              "      <td>143</td>\n",
              "      <td>28</td>\n",
              "      <td>-</td>\n",
              "    </tr>\n",
              "  </tbody>\n",
              "</table>\n",
              "<p>85105 rows × 6 columns</p>\n",
              "</div>"
            ],
            "text/plain": [
              "      cs-method sc-status sc-bytes cs-bytes time-taken  cs-username\n",
              "0           GET       200    35920     1085        111  36199271570\n",
              "1           GET       200    99801      143         29            -\n",
              "2           GET       200    26641      312         33            -\n",
              "3           GET       200    99801      146         27            -\n",
              "4           GET       200    35596     1116        209  11744523502\n",
              "...         ...       ...      ...      ...        ...          ...\n",
              "85100       GET       200    26759      626         33            -\n",
              "85101       GET       200    26735      434         33            -\n",
              "85102       GET       200   101190      143         75            -\n",
              "85103       GET       200   101190      146         29            -\n",
              "85104       GET       200   101190      143         28            -\n",
              "\n",
              "[85105 rows x 6 columns]"
            ]
          },
          "metadata": {
            "tags": []
          },
          "execution_count": 19
        }
      ]
    },
    {
      "cell_type": "markdown",
      "metadata": {
        "id": "q3NXVY3257yz"
      },
      "source": [
        "# **CONVERTING TO SUITABLE DATA TYPE**"
      ]
    },
    {
      "cell_type": "code",
      "metadata": {
        "id": "emjwxvN09saz",
        "colab": {
          "base_uri": "https://localhost:8080/",
          "height": 214
        },
        "outputId": "5cbf83f4-6beb-4f2c-d12e-33074a9ade7a"
      },
      "source": [
        "dataDefaultSelected[\"cs-username\"].value_counts()"
      ],
      "execution_count": null,
      "outputs": [
        {
          "output_type": "execute_result",
          "data": {
            "text/plain": [
              "-              48616\n",
              "11060353166      351\n",
              "13349277972      285\n",
              "20065984138      170\n",
              "24041022128      127\n",
              "               ...  \n",
              "32188984384        1\n",
              "11977217308        1\n",
              "11843354076        1\n",
              "30037912410        1\n",
              "19135627846        1\n",
              "Name: cs-username, Length: 10569, dtype: int64"
            ]
          },
          "metadata": {
            "tags": []
          },
          "execution_count": 20
        }
      ]
    },
    {
      "cell_type": "code",
      "metadata": {
        "id": "qJGHSBfSjWB0",
        "colab": {
          "base_uri": "https://localhost:8080/",
          "height": 214
        },
        "outputId": "07b23330-3d6d-4157-bec0-cef3bc9296aa"
      },
      "source": [
        "dataBirBakistaIhaleSelected[\"cs-username\"].value_counts()"
      ],
      "execution_count": null,
      "outputs": [
        {
          "output_type": "execute_result",
          "data": {
            "text/plain": [
              "-              67402\n",
              "26458708572     2446\n",
              "16883908340      368\n",
              "36925552096      327\n",
              "31438587290      208\n",
              "               ...  \n",
              "30710038888        1\n",
              "11873082550        1\n",
              "66901098560        1\n",
              "47677234482        1\n",
              "10282176850        1\n",
              "Name: cs-username, Length: 1104, dtype: int64"
            ]
          },
          "metadata": {
            "tags": []
          },
          "execution_count": 21
        }
      ]
    },
    {
      "cell_type": "code",
      "metadata": {
        "id": "X0e94ZJojCp_",
        "colab": {
          "base_uri": "https://localhost:8080/",
          "height": 363
        },
        "outputId": "f4ff0739-148e-4148-e8f3-64ddc8078bf7"
      },
      "source": [
        "dataBirBakistaIhaleSelected.loc[dataBirBakistaIhaleSelected['cs-username'] == \"-\", 'cs-username'] = \"1\" # User name anonymous\n",
        "dataDefaultSelected.loc[dataDefaultSelected['cs-username'] == \"-\", 'cs-username'] = \"1\" # User name anonymous"
      ],
      "execution_count": null,
      "outputs": [
        {
          "output_type": "stream",
          "text": [
            "/usr/local/lib/python3.6/dist-packages/pandas/core/indexing.py:671: SettingWithCopyWarning:\n",
            "\n",
            "\n",
            "A value is trying to be set on a copy of a slice from a DataFrame\n",
            "\n",
            "See the caveats in the documentation: https://pandas.pydata.org/pandas-docs/stable/user_guide/indexing.html#returning-a-view-versus-a-copy\n",
            "\n",
            "/usr/local/lib/python3.6/dist-packages/ipykernel_launcher.py:1: SettingWithCopyWarning:\n",
            "\n",
            "\n",
            "A value is trying to be set on a copy of a slice from a DataFrame\n",
            "\n",
            "See the caveats in the documentation: https://pandas.pydata.org/pandas-docs/stable/user_guide/indexing.html#returning-a-view-versus-a-copy\n",
            "\n",
            "/usr/local/lib/python3.6/dist-packages/ipykernel_launcher.py:2: SettingWithCopyWarning:\n",
            "\n",
            "\n",
            "A value is trying to be set on a copy of a slice from a DataFrame\n",
            "\n",
            "See the caveats in the documentation: https://pandas.pydata.org/pandas-docs/stable/user_guide/indexing.html#returning-a-view-versus-a-copy\n",
            "\n"
          ],
          "name": "stderr"
        }
      ]
    },
    {
      "cell_type": "code",
      "metadata": {
        "id": "HUhLt9AhjiZa",
        "colab": {
          "base_uri": "https://localhost:8080/",
          "height": 214
        },
        "outputId": "ad373c00-caa1-4109-9495-3bf1e748d412"
      },
      "source": [
        "dataBirBakistaIhaleSelected[\"cs-username\"].value_counts()"
      ],
      "execution_count": null,
      "outputs": [
        {
          "output_type": "execute_result",
          "data": {
            "text/plain": [
              "1              67402\n",
              "26458708572     2446\n",
              "16883908340      368\n",
              "36925552096      327\n",
              "31438587290      208\n",
              "               ...  \n",
              "30710038888        1\n",
              "11873082550        1\n",
              "66901098560        1\n",
              "47677234482        1\n",
              "10282176850        1\n",
              "Name: cs-username, Length: 1104, dtype: int64"
            ]
          },
          "metadata": {
            "tags": []
          },
          "execution_count": 23
        }
      ]
    },
    {
      "cell_type": "code",
      "metadata": {
        "id": "FXngAb2z96Bz",
        "colab": {
          "base_uri": "https://localhost:8080/",
          "height": 214
        },
        "outputId": "215016ab-af3c-4978-ef25-4e5c32128378"
      },
      "source": [
        "dataDefaultSelected[\"cs-username\"].value_counts()"
      ],
      "execution_count": null,
      "outputs": [
        {
          "output_type": "execute_result",
          "data": {
            "text/plain": [
              "1              48616\n",
              "11060353166      351\n",
              "13349277972      285\n",
              "20065984138      170\n",
              "24041022128      127\n",
              "               ...  \n",
              "31207732814        1\n",
              "59992193726        1\n",
              "12638573948        1\n",
              "40129871372        1\n",
              "19135627846        1\n",
              "Name: cs-username, Length: 10569, dtype: int64"
            ]
          },
          "metadata": {
            "tags": []
          },
          "execution_count": 24
        }
      ]
    },
    {
      "cell_type": "code",
      "metadata": {
        "id": "QWQ2e3k9eHb0",
        "colab": {
          "base_uri": "https://localhost:8080/",
          "height": 280
        },
        "outputId": "497873f6-210a-480c-fcdf-42e3caed94a2"
      },
      "source": [
        "integerColumns = [\"sc-status\",\"sc-bytes\",\"cs-bytes\",\"time-taken\",\"cs-username\"]\n",
        "for column in integerColumns:\n",
        "  dataBirBakistaIhaleSelected[column] = dataBirBakistaIhaleSelected[column].astype(int)\n",
        "dataBirBakistaIhaleSelected['cs-method'] = (dataBirBakistaIhaleSelected['cs-method'] == 'GET').astype(int)"
      ],
      "execution_count": null,
      "outputs": [
        {
          "output_type": "stream",
          "text": [
            "/usr/local/lib/python3.6/dist-packages/ipykernel_launcher.py:3: SettingWithCopyWarning:\n",
            "\n",
            "\n",
            "A value is trying to be set on a copy of a slice from a DataFrame.\n",
            "Try using .loc[row_indexer,col_indexer] = value instead\n",
            "\n",
            "See the caveats in the documentation: https://pandas.pydata.org/pandas-docs/stable/user_guide/indexing.html#returning-a-view-versus-a-copy\n",
            "\n",
            "/usr/local/lib/python3.6/dist-packages/ipykernel_launcher.py:4: SettingWithCopyWarning:\n",
            "\n",
            "\n",
            "A value is trying to be set on a copy of a slice from a DataFrame.\n",
            "Try using .loc[row_indexer,col_indexer] = value instead\n",
            "\n",
            "See the caveats in the documentation: https://pandas.pydata.org/pandas-docs/stable/user_guide/indexing.html#returning-a-view-versus-a-copy\n",
            "\n"
          ],
          "name": "stderr"
        }
      ]
    },
    {
      "cell_type": "code",
      "metadata": {
        "id": "iUMUvBXT-CNC",
        "colab": {
          "base_uri": "https://localhost:8080/",
          "height": 280
        },
        "outputId": "cf23d8e5-ec5e-4ed6-fa67-6294cda71ce0"
      },
      "source": [
        "for column in integerColumns:\n",
        "  dataDefaultSelected[column] = dataDefaultSelected[column].astype(int)\n",
        "dataDefaultSelected['cs-method'] = (dataDefaultSelected['cs-method'] == 'GET').astype(int)"
      ],
      "execution_count": null,
      "outputs": [
        {
          "output_type": "stream",
          "text": [
            "/usr/local/lib/python3.6/dist-packages/ipykernel_launcher.py:2: SettingWithCopyWarning:\n",
            "\n",
            "\n",
            "A value is trying to be set on a copy of a slice from a DataFrame.\n",
            "Try using .loc[row_indexer,col_indexer] = value instead\n",
            "\n",
            "See the caveats in the documentation: https://pandas.pydata.org/pandas-docs/stable/user_guide/indexing.html#returning-a-view-versus-a-copy\n",
            "\n",
            "/usr/local/lib/python3.6/dist-packages/ipykernel_launcher.py:3: SettingWithCopyWarning:\n",
            "\n",
            "\n",
            "A value is trying to be set on a copy of a slice from a DataFrame.\n",
            "Try using .loc[row_indexer,col_indexer] = value instead\n",
            "\n",
            "See the caveats in the documentation: https://pandas.pydata.org/pandas-docs/stable/user_guide/indexing.html#returning-a-view-versus-a-copy\n",
            "\n"
          ],
          "name": "stderr"
        }
      ]
    },
    {
      "cell_type": "code",
      "metadata": {
        "id": "93RzFNZAnrWZ",
        "colab": {
          "base_uri": "https://localhost:8080/",
          "height": 412
        },
        "outputId": "79eb7ae9-08d6-4319-f8ab-56c0d79894e9"
      },
      "source": [
        "dataBirBakistaIhaleSelected.loc[dataBirBakistaIhaleSelected['sc-status'] == 200, 'sc-statusBinary'] = 1 # status = 200\n",
        "dataBirBakistaIhaleSelected.loc[dataBirBakistaIhaleSelected['sc-status'] != 200, 'sc-statusBinary'] = 0 #status = 302\n",
        "dataBirBakistaIhaleSelected['sc-statusBinary'] = dataBirBakistaIhaleSelected['sc-statusBinary'].astype(int) #converting to integer from float"
      ],
      "execution_count": null,
      "outputs": [
        {
          "output_type": "stream",
          "text": [
            "/usr/local/lib/python3.6/dist-packages/pandas/core/indexing.py:845: SettingWithCopyWarning:\n",
            "\n",
            "\n",
            "A value is trying to be set on a copy of a slice from a DataFrame.\n",
            "Try using .loc[row_indexer,col_indexer] = value instead\n",
            "\n",
            "See the caveats in the documentation: https://pandas.pydata.org/pandas-docs/stable/user_guide/indexing.html#returning-a-view-versus-a-copy\n",
            "\n",
            "/usr/local/lib/python3.6/dist-packages/pandas/core/indexing.py:966: SettingWithCopyWarning:\n",
            "\n",
            "\n",
            "A value is trying to be set on a copy of a slice from a DataFrame.\n",
            "Try using .loc[row_indexer,col_indexer] = value instead\n",
            "\n",
            "See the caveats in the documentation: https://pandas.pydata.org/pandas-docs/stable/user_guide/indexing.html#returning-a-view-versus-a-copy\n",
            "\n",
            "/usr/local/lib/python3.6/dist-packages/ipykernel_launcher.py:3: SettingWithCopyWarning:\n",
            "\n",
            "\n",
            "A value is trying to be set on a copy of a slice from a DataFrame.\n",
            "Try using .loc[row_indexer,col_indexer] = value instead\n",
            "\n",
            "See the caveats in the documentation: https://pandas.pydata.org/pandas-docs/stable/user_guide/indexing.html#returning-a-view-versus-a-copy\n",
            "\n"
          ],
          "name": "stderr"
        }
      ]
    },
    {
      "cell_type": "code",
      "metadata": {
        "id": "9ka0qY4E-MgR",
        "colab": {
          "base_uri": "https://localhost:8080/",
          "height": 412
        },
        "outputId": "9c59caa9-d8b6-47a9-e8a8-830e60434b83"
      },
      "source": [
        "dataDefaultSelected.loc[dataDefaultSelected['sc-status'] == 200, 'sc-statusBinary'] = 1 # status = 200\n",
        "dataDefaultSelected.loc[dataDefaultSelected['sc-status'] != 200, 'sc-statusBinary'] = 0 #status = 302\n",
        "dataDefaultSelected['sc-statusBinary'] = dataDefaultSelected['sc-statusBinary'].astype(int) #converting to integer from float"
      ],
      "execution_count": null,
      "outputs": [
        {
          "output_type": "stream",
          "text": [
            "/usr/local/lib/python3.6/dist-packages/pandas/core/indexing.py:845: SettingWithCopyWarning:\n",
            "\n",
            "\n",
            "A value is trying to be set on a copy of a slice from a DataFrame.\n",
            "Try using .loc[row_indexer,col_indexer] = value instead\n",
            "\n",
            "See the caveats in the documentation: https://pandas.pydata.org/pandas-docs/stable/user_guide/indexing.html#returning-a-view-versus-a-copy\n",
            "\n",
            "/usr/local/lib/python3.6/dist-packages/pandas/core/indexing.py:966: SettingWithCopyWarning:\n",
            "\n",
            "\n",
            "A value is trying to be set on a copy of a slice from a DataFrame.\n",
            "Try using .loc[row_indexer,col_indexer] = value instead\n",
            "\n",
            "See the caveats in the documentation: https://pandas.pydata.org/pandas-docs/stable/user_guide/indexing.html#returning-a-view-versus-a-copy\n",
            "\n",
            "/usr/local/lib/python3.6/dist-packages/ipykernel_launcher.py:3: SettingWithCopyWarning:\n",
            "\n",
            "\n",
            "A value is trying to be set on a copy of a slice from a DataFrame.\n",
            "Try using .loc[row_indexer,col_indexer] = value instead\n",
            "\n",
            "See the caveats in the documentation: https://pandas.pydata.org/pandas-docs/stable/user_guide/indexing.html#returning-a-view-versus-a-copy\n",
            "\n"
          ],
          "name": "stderr"
        }
      ]
    },
    {
      "cell_type": "code",
      "metadata": {
        "id": "UfDXyvqYoALf",
        "colab": {
          "base_uri": "https://localhost:8080/",
          "height": 132
        },
        "outputId": "25b73174-0ff4-4154-c1bc-31acb4831392"
      },
      "source": [
        "dataBirBakistaIhaleSelected.drop([\"sc-status\"],axis = 1,inplace = True)#dropping the sc-status row which contains 200 and 302"
      ],
      "execution_count": null,
      "outputs": [
        {
          "output_type": "stream",
          "text": [
            "/usr/local/lib/python3.6/dist-packages/pandas/core/frame.py:3997: SettingWithCopyWarning:\n",
            "\n",
            "\n",
            "A value is trying to be set on a copy of a slice from a DataFrame\n",
            "\n",
            "See the caveats in the documentation: https://pandas.pydata.org/pandas-docs/stable/user_guide/indexing.html#returning-a-view-versus-a-copy\n",
            "\n"
          ],
          "name": "stderr"
        }
      ]
    },
    {
      "cell_type": "code",
      "metadata": {
        "id": "fFq4a54c-VAk",
        "colab": {
          "base_uri": "https://localhost:8080/",
          "height": 132
        },
        "outputId": "d360f156-c13b-48ba-f4cc-38d2ba3aedf0"
      },
      "source": [
        "dataDefaultSelected.drop([\"sc-status\"],axis = 1,inplace = True)#dropping the sc-status row which contains 200 and 302"
      ],
      "execution_count": null,
      "outputs": [
        {
          "output_type": "stream",
          "text": [
            "/usr/local/lib/python3.6/dist-packages/pandas/core/frame.py:3997: SettingWithCopyWarning:\n",
            "\n",
            "\n",
            "A value is trying to be set on a copy of a slice from a DataFrame\n",
            "\n",
            "See the caveats in the documentation: https://pandas.pydata.org/pandas-docs/stable/user_guide/indexing.html#returning-a-view-versus-a-copy\n",
            "\n"
          ],
          "name": "stderr"
        }
      ]
    },
    {
      "cell_type": "code",
      "metadata": {
        "id": "IjGt13PDlN3B",
        "colab": {
          "base_uri": "https://localhost:8080/",
          "height": 247
        },
        "outputId": "ceba3d24-6f19-4cc5-d881-e4116b7cc049"
      },
      "source": [
        "dataBirBakistaIhaleSelected.loc[dataBirBakistaIhaleSelected['cs-username'] !=1 , 'cs-username'] = 0 # Registered User"
      ],
      "execution_count": null,
      "outputs": [
        {
          "output_type": "stream",
          "text": [
            "/usr/local/lib/python3.6/dist-packages/pandas/core/indexing.py:671: SettingWithCopyWarning:\n",
            "\n",
            "\n",
            "A value is trying to be set on a copy of a slice from a DataFrame\n",
            "\n",
            "See the caveats in the documentation: https://pandas.pydata.org/pandas-docs/stable/user_guide/indexing.html#returning-a-view-versus-a-copy\n",
            "\n",
            "/usr/local/lib/python3.6/dist-packages/ipykernel_launcher.py:1: SettingWithCopyWarning:\n",
            "\n",
            "\n",
            "A value is trying to be set on a copy of a slice from a DataFrame\n",
            "\n",
            "See the caveats in the documentation: https://pandas.pydata.org/pandas-docs/stable/user_guide/indexing.html#returning-a-view-versus-a-copy\n",
            "\n"
          ],
          "name": "stderr"
        }
      ]
    },
    {
      "cell_type": "code",
      "metadata": {
        "id": "Em2HbwkN-gkZ",
        "colab": {
          "base_uri": "https://localhost:8080/",
          "height": 247
        },
        "outputId": "9f891fb5-3d57-478c-9965-0defdbae41a9"
      },
      "source": [
        "dataDefaultSelected.loc[dataDefaultSelected['cs-username'] !=1 , 'cs-username'] = 0 # Registered User"
      ],
      "execution_count": null,
      "outputs": [
        {
          "output_type": "stream",
          "text": [
            "/usr/local/lib/python3.6/dist-packages/pandas/core/indexing.py:671: SettingWithCopyWarning:\n",
            "\n",
            "\n",
            "A value is trying to be set on a copy of a slice from a DataFrame\n",
            "\n",
            "See the caveats in the documentation: https://pandas.pydata.org/pandas-docs/stable/user_guide/indexing.html#returning-a-view-versus-a-copy\n",
            "\n",
            "/usr/local/lib/python3.6/dist-packages/ipykernel_launcher.py:1: SettingWithCopyWarning:\n",
            "\n",
            "\n",
            "A value is trying to be set on a copy of a slice from a DataFrame\n",
            "\n",
            "See the caveats in the documentation: https://pandas.pydata.org/pandas-docs/stable/user_guide/indexing.html#returning-a-view-versus-a-copy\n",
            "\n"
          ],
          "name": "stderr"
        }
      ]
    },
    {
      "cell_type": "code",
      "metadata": {
        "id": "MmkD8YW-kLTs",
        "colab": {
          "base_uri": "https://localhost:8080/",
          "height": 388
        },
        "outputId": "37943bed-90aa-4530-dcaa-c735ca15852a"
      },
      "source": [
        "dataBirBakistaIhaleSelected #final data"
      ],
      "execution_count": null,
      "outputs": [
        {
          "output_type": "execute_result",
          "data": {
            "text/html": [
              "<div>\n",
              "<style scoped>\n",
              "    .dataframe tbody tr th:only-of-type {\n",
              "        vertical-align: middle;\n",
              "    }\n",
              "\n",
              "    .dataframe tbody tr th {\n",
              "        vertical-align: top;\n",
              "    }\n",
              "\n",
              "    .dataframe thead th {\n",
              "        text-align: right;\n",
              "    }\n",
              "</style>\n",
              "<table border=\"1\" class=\"dataframe\">\n",
              "  <thead>\n",
              "    <tr style=\"text-align: right;\">\n",
              "      <th></th>\n",
              "      <th>cs-method</th>\n",
              "      <th>sc-bytes</th>\n",
              "      <th>cs-bytes</th>\n",
              "      <th>time-taken</th>\n",
              "      <th>cs-username</th>\n",
              "      <th>sc-statusBinary</th>\n",
              "    </tr>\n",
              "  </thead>\n",
              "  <tbody>\n",
              "    <tr>\n",
              "      <th>0</th>\n",
              "      <td>1</td>\n",
              "      <td>9788</td>\n",
              "      <td>1443</td>\n",
              "      <td>122</td>\n",
              "      <td>0</td>\n",
              "      <td>1</td>\n",
              "    </tr>\n",
              "    <tr>\n",
              "      <th>1</th>\n",
              "      <td>1</td>\n",
              "      <td>9656</td>\n",
              "      <td>862</td>\n",
              "      <td>152</td>\n",
              "      <td>1</td>\n",
              "      <td>1</td>\n",
              "    </tr>\n",
              "    <tr>\n",
              "      <th>2</th>\n",
              "      <td>1</td>\n",
              "      <td>9508</td>\n",
              "      <td>1443</td>\n",
              "      <td>107</td>\n",
              "      <td>0</td>\n",
              "      <td>1</td>\n",
              "    </tr>\n",
              "    <tr>\n",
              "      <th>3</th>\n",
              "      <td>1</td>\n",
              "      <td>10115</td>\n",
              "      <td>1033</td>\n",
              "      <td>97</td>\n",
              "      <td>1</td>\n",
              "      <td>1</td>\n",
              "    </tr>\n",
              "    <tr>\n",
              "      <th>4</th>\n",
              "      <td>1</td>\n",
              "      <td>9544</td>\n",
              "      <td>862</td>\n",
              "      <td>156</td>\n",
              "      <td>1</td>\n",
              "      <td>1</td>\n",
              "    </tr>\n",
              "    <tr>\n",
              "      <th>...</th>\n",
              "      <td>...</td>\n",
              "      <td>...</td>\n",
              "      <td>...</td>\n",
              "      <td>...</td>\n",
              "      <td>...</td>\n",
              "      <td>...</td>\n",
              "    </tr>\n",
              "    <tr>\n",
              "      <th>81111</th>\n",
              "      <td>1</td>\n",
              "      <td>9678</td>\n",
              "      <td>1426</td>\n",
              "      <td>131</td>\n",
              "      <td>0</td>\n",
              "      <td>1</td>\n",
              "    </tr>\n",
              "    <tr>\n",
              "      <th>81112</th>\n",
              "      <td>1</td>\n",
              "      <td>9615</td>\n",
              "      <td>767</td>\n",
              "      <td>176</td>\n",
              "      <td>1</td>\n",
              "      <td>1</td>\n",
              "    </tr>\n",
              "    <tr>\n",
              "      <th>81113</th>\n",
              "      <td>1</td>\n",
              "      <td>8206</td>\n",
              "      <td>1032</td>\n",
              "      <td>489</td>\n",
              "      <td>1</td>\n",
              "      <td>1</td>\n",
              "    </tr>\n",
              "    <tr>\n",
              "      <th>81114</th>\n",
              "      <td>1</td>\n",
              "      <td>9744</td>\n",
              "      <td>1220</td>\n",
              "      <td>70</td>\n",
              "      <td>1</td>\n",
              "      <td>1</td>\n",
              "    </tr>\n",
              "    <tr>\n",
              "      <th>81115</th>\n",
              "      <td>1</td>\n",
              "      <td>8121</td>\n",
              "      <td>1032</td>\n",
              "      <td>578</td>\n",
              "      <td>1</td>\n",
              "      <td>1</td>\n",
              "    </tr>\n",
              "  </tbody>\n",
              "</table>\n",
              "<p>81116 rows × 6 columns</p>\n",
              "</div>"
            ],
            "text/plain": [
              "       cs-method  sc-bytes  cs-bytes  time-taken  cs-username  sc-statusBinary\n",
              "0              1      9788      1443         122            0                1\n",
              "1              1      9656       862         152            1                1\n",
              "2              1      9508      1443         107            0                1\n",
              "3              1     10115      1033          97            1                1\n",
              "4              1      9544       862         156            1                1\n",
              "...          ...       ...       ...         ...          ...              ...\n",
              "81111          1      9678      1426         131            0                1\n",
              "81112          1      9615       767         176            1                1\n",
              "81113          1      8206      1032         489            1                1\n",
              "81114          1      9744      1220          70            1                1\n",
              "81115          1      8121      1032         578            1                1\n",
              "\n",
              "[81116 rows x 6 columns]"
            ]
          },
          "metadata": {
            "tags": []
          },
          "execution_count": 33
        }
      ]
    },
    {
      "cell_type": "code",
      "metadata": {
        "id": "1hI6ODEp-oy0",
        "colab": {
          "base_uri": "https://localhost:8080/",
          "height": 388
        },
        "outputId": "2495fa38-bf01-4ce0-fdd2-f3c53bbbe6d3"
      },
      "source": [
        "dataDefaultSelected"
      ],
      "execution_count": null,
      "outputs": [
        {
          "output_type": "execute_result",
          "data": {
            "text/html": [
              "<div>\n",
              "<style scoped>\n",
              "    .dataframe tbody tr th:only-of-type {\n",
              "        vertical-align: middle;\n",
              "    }\n",
              "\n",
              "    .dataframe tbody tr th {\n",
              "        vertical-align: top;\n",
              "    }\n",
              "\n",
              "    .dataframe thead th {\n",
              "        text-align: right;\n",
              "    }\n",
              "</style>\n",
              "<table border=\"1\" class=\"dataframe\">\n",
              "  <thead>\n",
              "    <tr style=\"text-align: right;\">\n",
              "      <th></th>\n",
              "      <th>cs-method</th>\n",
              "      <th>sc-bytes</th>\n",
              "      <th>cs-bytes</th>\n",
              "      <th>time-taken</th>\n",
              "      <th>cs-username</th>\n",
              "      <th>sc-statusBinary</th>\n",
              "    </tr>\n",
              "  </thead>\n",
              "  <tbody>\n",
              "    <tr>\n",
              "      <th>0</th>\n",
              "      <td>1</td>\n",
              "      <td>35920</td>\n",
              "      <td>1085</td>\n",
              "      <td>111</td>\n",
              "      <td>0</td>\n",
              "      <td>1</td>\n",
              "    </tr>\n",
              "    <tr>\n",
              "      <th>1</th>\n",
              "      <td>1</td>\n",
              "      <td>99801</td>\n",
              "      <td>143</td>\n",
              "      <td>29</td>\n",
              "      <td>1</td>\n",
              "      <td>1</td>\n",
              "    </tr>\n",
              "    <tr>\n",
              "      <th>2</th>\n",
              "      <td>1</td>\n",
              "      <td>26641</td>\n",
              "      <td>312</td>\n",
              "      <td>33</td>\n",
              "      <td>1</td>\n",
              "      <td>1</td>\n",
              "    </tr>\n",
              "    <tr>\n",
              "      <th>3</th>\n",
              "      <td>1</td>\n",
              "      <td>99801</td>\n",
              "      <td>146</td>\n",
              "      <td>27</td>\n",
              "      <td>1</td>\n",
              "      <td>1</td>\n",
              "    </tr>\n",
              "    <tr>\n",
              "      <th>4</th>\n",
              "      <td>1</td>\n",
              "      <td>35596</td>\n",
              "      <td>1116</td>\n",
              "      <td>209</td>\n",
              "      <td>0</td>\n",
              "      <td>1</td>\n",
              "    </tr>\n",
              "    <tr>\n",
              "      <th>...</th>\n",
              "      <td>...</td>\n",
              "      <td>...</td>\n",
              "      <td>...</td>\n",
              "      <td>...</td>\n",
              "      <td>...</td>\n",
              "      <td>...</td>\n",
              "    </tr>\n",
              "    <tr>\n",
              "      <th>85100</th>\n",
              "      <td>1</td>\n",
              "      <td>26759</td>\n",
              "      <td>626</td>\n",
              "      <td>33</td>\n",
              "      <td>1</td>\n",
              "      <td>1</td>\n",
              "    </tr>\n",
              "    <tr>\n",
              "      <th>85101</th>\n",
              "      <td>1</td>\n",
              "      <td>26735</td>\n",
              "      <td>434</td>\n",
              "      <td>33</td>\n",
              "      <td>1</td>\n",
              "      <td>1</td>\n",
              "    </tr>\n",
              "    <tr>\n",
              "      <th>85102</th>\n",
              "      <td>1</td>\n",
              "      <td>101190</td>\n",
              "      <td>143</td>\n",
              "      <td>75</td>\n",
              "      <td>1</td>\n",
              "      <td>1</td>\n",
              "    </tr>\n",
              "    <tr>\n",
              "      <th>85103</th>\n",
              "      <td>1</td>\n",
              "      <td>101190</td>\n",
              "      <td>146</td>\n",
              "      <td>29</td>\n",
              "      <td>1</td>\n",
              "      <td>1</td>\n",
              "    </tr>\n",
              "    <tr>\n",
              "      <th>85104</th>\n",
              "      <td>1</td>\n",
              "      <td>101190</td>\n",
              "      <td>143</td>\n",
              "      <td>28</td>\n",
              "      <td>1</td>\n",
              "      <td>1</td>\n",
              "    </tr>\n",
              "  </tbody>\n",
              "</table>\n",
              "<p>85105 rows × 6 columns</p>\n",
              "</div>"
            ],
            "text/plain": [
              "       cs-method  sc-bytes  cs-bytes  time-taken  cs-username  sc-statusBinary\n",
              "0              1     35920      1085         111            0                1\n",
              "1              1     99801       143          29            1                1\n",
              "2              1     26641       312          33            1                1\n",
              "3              1     99801       146          27            1                1\n",
              "4              1     35596      1116         209            0                1\n",
              "...          ...       ...       ...         ...          ...              ...\n",
              "85100          1     26759       626          33            1                1\n",
              "85101          1     26735       434          33            1                1\n",
              "85102          1    101190       143          75            1                1\n",
              "85103          1    101190       146          29            1                1\n",
              "85104          1    101190       143          28            1                1\n",
              "\n",
              "[85105 rows x 6 columns]"
            ]
          },
          "metadata": {
            "tags": []
          },
          "execution_count": 34
        }
      ]
    },
    {
      "cell_type": "markdown",
      "metadata": {
        "id": "0OVXrKvK6-LM"
      },
      "source": [
        "# **PCA and K-Means For BirBakistaIhale.aspx**\n",
        "\n"
      ]
    },
    {
      "cell_type": "code",
      "metadata": {
        "id": "7zCEwJFplDbD"
      },
      "source": [
        "scaler = StandardScaler()#Scaling\n",
        "dataBirBakistaIhaleSelected_std = scaler.fit_transform(dataBirBakistaIhaleSelected)"
      ],
      "execution_count": null,
      "outputs": []
    },
    {
      "cell_type": "code",
      "metadata": {
        "id": "PwVTaTYtk3GP",
        "colab": {
          "base_uri": "https://localhost:8080/",
          "height": 231
        },
        "outputId": "e624c639-838f-4cda-f099-7464e669ae39"
      },
      "source": [
        "dataBirBakistaIhaleSelected_std"
      ],
      "execution_count": null,
      "outputs": [
        {
          "output_type": "execute_result",
          "data": {
            "text/plain": [
              "array([[ 0.24017761,  0.0265737 ,  0.09722988, -0.10492471, -2.21694194,\n",
              "         0.02674952],\n",
              "       [ 0.24017761,  0.01529251, -0.27701481, -0.09006566,  0.4510718 ,\n",
              "         0.02674952],\n",
              "       [ 0.24017761,  0.0026439 ,  0.09722988, -0.11235424, -2.21694194,\n",
              "         0.02674952],\n",
              "       ...,\n",
              "       [ 0.24017761, -0.10862966, -0.1675112 ,  0.07685108,  0.4510718 ,\n",
              "         0.02674952],\n",
              "       [ 0.24017761,  0.0228133 , -0.04641309, -0.13068041,  0.4510718 ,\n",
              "         0.02674952],\n",
              "       [ 0.24017761, -0.11589406, -0.1675112 ,  0.12093295,  0.4510718 ,\n",
              "         0.02674952]])"
            ]
          },
          "metadata": {
            "tags": []
          },
          "execution_count": 36
        }
      ]
    },
    {
      "cell_type": "code",
      "metadata": {
        "id": "wYOG4Ks8qFA-",
        "colab": {
          "base_uri": "https://localhost:8080/",
          "height": 49
        },
        "outputId": "f386a601-1453-4b8b-ddbf-e32fdcd13827"
      },
      "source": [
        "pca_bbis = PCA()\n",
        "pca_bbis.fit(dataBirBakistaIhaleSelected_std)"
      ],
      "execution_count": null,
      "outputs": [
        {
          "output_type": "execute_result",
          "data": {
            "text/plain": [
              "PCA(copy=True, iterated_power='auto', n_components=None, random_state=None,\n",
              "    svd_solver='auto', tol=0.0, whiten=False)"
            ]
          },
          "metadata": {
            "tags": []
          },
          "execution_count": 37
        }
      ]
    },
    {
      "cell_type": "code",
      "metadata": {
        "id": "RVOR9F-hqb46",
        "colab": {
          "base_uri": "https://localhost:8080/",
          "height": 49
        },
        "outputId": "f7d5c484-7e09-426f-b439-2db15083f7fe"
      },
      "source": [
        "pca_bbis.explained_variance_ratio_"
      ],
      "execution_count": null,
      "outputs": [
        {
          "output_type": "execute_result",
          "data": {
            "text/plain": [
              "array([0.34706528, 0.16934048, 0.16706085, 0.16555149, 0.13800906,\n",
              "       0.01297285])"
            ]
          },
          "metadata": {
            "tags": []
          },
          "execution_count": 38
        }
      ]
    },
    {
      "cell_type": "code",
      "metadata": {
        "id": "F_OvmEC-qqu5",
        "colab": {
          "base_uri": "https://localhost:8080/",
          "height": 513
        },
        "outputId": "7de30bbb-0584-4a25-e554-b18a527deef3"
      },
      "source": [
        "plt.figure(figsize=(10,8))\n",
        "plt.plot(range(1,7),pca_bbis.explained_variance_ratio_.cumsum(),marker =\"o\",linestyle =\"--\")\n",
        "plt.xlabel(\"Number of Compenents\")\n",
        "plt.ylabel(\"Cumulative Explained Variance\")"
      ],
      "execution_count": null,
      "outputs": [
        {
          "output_type": "execute_result",
          "data": {
            "text/plain": [
              "Text(0, 0.5, 'Cumulative Explained Variance')"
            ]
          },
          "metadata": {
            "tags": []
          },
          "execution_count": 39
        },
        {
          "output_type": "display_data",
          "data": {
            "image/png": "[encoded data removed]",
            "text/plain": [
              "<Figure size 720x576 with 1 Axes>"
            ]
          },
          "metadata": {
            "tags": [],
            "needs_background": "light"
          }
        }
      ]
    },
    {
      "cell_type": "code",
      "metadata": {
        "id": "n7TIh5DKrkPw",
        "colab": {
          "base_uri": "https://localhost:8080/",
          "height": 49
        },
        "outputId": "41a14570-c1a4-4e01-ccf3-762556c8b3f9"
      },
      "source": [
        "pca_bbis =PCA(n_components=4) #number of PCA compenent = 4 because we must preserve %80 of variance\n",
        "pca_bbis.fit(dataBirBakistaIhaleSelected_std)"
      ],
      "execution_count": null,
      "outputs": [
        {
          "output_type": "execute_result",
          "data": {
            "text/plain": [
              "PCA(copy=True, iterated_power='auto', n_components=4, random_state=None,\n",
              "    svd_solver='auto', tol=0.0, whiten=False)"
            ]
          },
          "metadata": {
            "tags": []
          },
          "execution_count": 40
        }
      ]
    },
    {
      "cell_type": "code",
      "metadata": {
        "id": "nV_0WBanry87"
      },
      "source": [
        "scores_pca_bbis = pca_bbis.transform(dataBirBakistaIhaleSelected_std)"
      ],
      "execution_count": null,
      "outputs": []
    },
    {
      "cell_type": "code",
      "metadata": {
        "id": "vgaoz4gOr28I"
      },
      "source": [
        "wcss_bbis=[]\n",
        "for i in range(1,25):\n",
        "  kmeans_pca_bbis = KMeans(n_clusters=i, init ='k-means++', max_iter=300, n_init=10,random_state=42)\n",
        "  kmeans_pca_bbis.fit(scores_pca_bbis)\n",
        "  wcss_bbis.append(kmeans_pca_bbis.inertia_)"
      ],
      "execution_count": null,
      "outputs": []
    },
    {
      "cell_type": "code",
      "metadata": {
        "id": "U19EiR59siWw",
        "colab": {
          "base_uri": "https://localhost:8080/",
          "height": 513
        },
        "outputId": "1bb5e533-6955-4d74-c65b-b1ef9aafdeac"
      },
      "source": [
        "plt.figure(figsize=(10,8))\n",
        "plt.plot(range(1,25),wcss_bbis,marker =\"o\",linestyle =\"--\")\n",
        "plt.xlabel(\"Number of Clusters\")\n",
        "plt.ylabel(\"WCSS\") #number of cluster = 5"
      ],
      "execution_count": null,
      "outputs": [
        {
          "output_type": "execute_result",
          "data": {
            "text/plain": [
              "Text(0, 0.5, 'WCSS')"
            ]
          },
          "metadata": {
            "tags": []
          },
          "execution_count": 43
        },
        {
          "output_type": "display_data",
          "data": {
            "image/png": "[encoded data removed]",
            "text/plain": [
              "<Figure size 720x576 with 1 Axes>"
            ]
          },
          "metadata": {
            "tags": [],
            "needs_background": "light"
          }
        }
      ]
    },
    {
      "cell_type": "code",
      "metadata": {
        "id": "BEFa1ZOjtoh4"
      },
      "source": [
        "kmeans_pca_bbis = KMeans(n_clusters=6, init ='k-means++', max_iter=300, n_init=10,random_state=42)"
      ],
      "execution_count": null,
      "outputs": []
    },
    {
      "cell_type": "code",
      "metadata": {
        "id": "F5BEz0aet2p5",
        "colab": {
          "base_uri": "https://localhost:8080/",
          "height": 66
        },
        "outputId": "d69ae433-eaa6-4274-d6a0-81e755b55bcb"
      },
      "source": [
        "kmeans_pca_bbis.fit(scores_pca_bbis)"
      ],
      "execution_count": null,
      "outputs": [
        {
          "output_type": "execute_result",
          "data": {
            "text/plain": [
              "KMeans(algorithm='auto', copy_x=True, init='k-means++', max_iter=300,\n",
              "       n_clusters=6, n_init=10, n_jobs=None, precompute_distances='auto',\n",
              "       random_state=42, tol=0.0001, verbose=0)"
            ]
          },
          "metadata": {
            "tags": []
          },
          "execution_count": 45
        }
      ]
    },
    {
      "cell_type": "code",
      "metadata": {
        "id": "LdDO9pBhE4Um"
      },
      "source": [
        "df_segm_pcakmeans_bbis = pd.concat([dataBirBakistaIhaleSelected.reset_index(drop=True),pd.DataFrame(scores_pca_bbis)],axis = 1)\n",
        "df_segm_pcakmeans_bbis.columns.values[-4:] = [\"component1\",\"component2\",\"component3\",\"component4\"]\n",
        "df_segm_pcakmeans_bbis[\"label_KMeans_PCA\"] = kmeans_pca_bbis.labels_"
      ],
      "execution_count": null,
      "outputs": []
    },
    {
      "cell_type": "code",
      "metadata": {
        "id": "Nqngq5rSFXu1",
        "colab": {
          "base_uri": "https://localhost:8080/",
          "height": 388
        },
        "outputId": "1e4865f3-fea8-4599-e9d5-28e3e77cb021"
      },
      "source": [
        "df_segm_pcakmeans_bbis"
      ],
      "execution_count": null,
      "outputs": [
        {
          "output_type": "execute_result",
          "data": {
            "text/html": [
              "<div>\n",
              "<style scoped>\n",
              "    .dataframe tbody tr th:only-of-type {\n",
              "        vertical-align: middle;\n",
              "    }\n",
              "\n",
              "    .dataframe tbody tr th {\n",
              "        vertical-align: top;\n",
              "    }\n",
              "\n",
              "    .dataframe thead th {\n",
              "        text-align: right;\n",
              "    }\n",
              "</style>\n",
              "<table border=\"1\" class=\"dataframe\">\n",
              "  <thead>\n",
              "    <tr style=\"text-align: right;\">\n",
              "      <th></th>\n",
              "      <th>cs-method</th>\n",
              "      <th>sc-bytes</th>\n",
              "      <th>cs-bytes</th>\n",
              "      <th>time-taken</th>\n",
              "      <th>cs-username</th>\n",
              "      <th>sc-statusBinary</th>\n",
              "      <th>component1</th>\n",
              "      <th>component2</th>\n",
              "      <th>component3</th>\n",
              "      <th>component4</th>\n",
              "      <th>label_KMeans_PCA</th>\n",
              "    </tr>\n",
              "  </thead>\n",
              "  <tbody>\n",
              "    <tr>\n",
              "      <th>0</th>\n",
              "      <td>1</td>\n",
              "      <td>9788</td>\n",
              "      <td>1443</td>\n",
              "      <td>122</td>\n",
              "      <td>0</td>\n",
              "      <td>1</td>\n",
              "      <td>0.100661</td>\n",
              "      <td>-1.888470</td>\n",
              "      <td>-0.092770</td>\n",
              "      <td>0.892141</td>\n",
              "      <td>3</td>\n",
              "    </tr>\n",
              "    <tr>\n",
              "      <th>1</th>\n",
              "      <td>1</td>\n",
              "      <td>9656</td>\n",
              "      <td>862</td>\n",
              "      <td>152</td>\n",
              "      <td>1</td>\n",
              "      <td>1</td>\n",
              "      <td>-0.324213</td>\n",
              "      <td>0.362967</td>\n",
              "      <td>-0.052212</td>\n",
              "      <td>-0.311915</td>\n",
              "      <td>0</td>\n",
              "    </tr>\n",
              "    <tr>\n",
              "      <th>2</th>\n",
              "      <td>1</td>\n",
              "      <td>9508</td>\n",
              "      <td>1443</td>\n",
              "      <td>107</td>\n",
              "      <td>0</td>\n",
              "      <td>1</td>\n",
              "      <td>0.087786</td>\n",
              "      <td>-1.894896</td>\n",
              "      <td>-0.098223</td>\n",
              "      <td>0.892055</td>\n",
              "      <td>3</td>\n",
              "    </tr>\n",
              "    <tr>\n",
              "      <th>3</th>\n",
              "      <td>1</td>\n",
              "      <td>10115</td>\n",
              "      <td>1033</td>\n",
              "      <td>97</td>\n",
              "      <td>1</td>\n",
              "      <td>1</td>\n",
              "      <td>-0.228012</td>\n",
              "      <td>0.364187</td>\n",
              "      <td>-0.074547</td>\n",
              "      <td>-0.331839</td>\n",
              "      <td>0</td>\n",
              "    </tr>\n",
              "    <tr>\n",
              "      <th>4</th>\n",
              "      <td>1</td>\n",
              "      <td>9544</td>\n",
              "      <td>862</td>\n",
              "      <td>156</td>\n",
              "      <td>1</td>\n",
              "      <td>1</td>\n",
              "      <td>-0.329417</td>\n",
              "      <td>0.361890</td>\n",
              "      <td>-0.050500</td>\n",
              "      <td>-0.309307</td>\n",
              "      <td>0</td>\n",
              "    </tr>\n",
              "    <tr>\n",
              "      <th>...</th>\n",
              "      <td>...</td>\n",
              "      <td>...</td>\n",
              "      <td>...</td>\n",
              "      <td>...</td>\n",
              "      <td>...</td>\n",
              "      <td>...</td>\n",
              "      <td>...</td>\n",
              "      <td>...</td>\n",
              "      <td>...</td>\n",
              "      <td>...</td>\n",
              "      <td>...</td>\n",
              "    </tr>\n",
              "    <tr>\n",
              "      <th>81111</th>\n",
              "      <td>1</td>\n",
              "      <td>9678</td>\n",
              "      <td>1426</td>\n",
              "      <td>131</td>\n",
              "      <td>0</td>\n",
              "      <td>1</td>\n",
              "      <td>0.088100</td>\n",
              "      <td>-1.889026</td>\n",
              "      <td>-0.089085</td>\n",
              "      <td>0.895947</td>\n",
              "      <td>3</td>\n",
              "    </tr>\n",
              "    <tr>\n",
              "      <th>81112</th>\n",
              "      <td>1</td>\n",
              "      <td>9615</td>\n",
              "      <td>767</td>\n",
              "      <td>176</td>\n",
              "      <td>1</td>\n",
              "      <td>1</td>\n",
              "      <td>-0.367721</td>\n",
              "      <td>0.364510</td>\n",
              "      <td>-0.042650</td>\n",
              "      <td>-0.305543</td>\n",
              "      <td>0</td>\n",
              "    </tr>\n",
              "    <tr>\n",
              "      <th>81113</th>\n",
              "      <td>1</td>\n",
              "      <td>8206</td>\n",
              "      <td>1032</td>\n",
              "      <td>489</td>\n",
              "      <td>1</td>\n",
              "      <td>1</td>\n",
              "      <td>-0.318889</td>\n",
              "      <td>0.394160</td>\n",
              "      <td>0.080697</td>\n",
              "      <td>-0.201807</td>\n",
              "      <td>0</td>\n",
              "    </tr>\n",
              "    <tr>\n",
              "      <th>81114</th>\n",
              "      <td>1</td>\n",
              "      <td>9744</td>\n",
              "      <td>1220</td>\n",
              "      <td>70</td>\n",
              "      <td>1</td>\n",
              "      <td>1</td>\n",
              "      <td>-0.163380</td>\n",
              "      <td>0.357417</td>\n",
              "      <td>-0.084864</td>\n",
              "      <td>-0.332775</td>\n",
              "      <td>0</td>\n",
              "    </tr>\n",
              "    <tr>\n",
              "      <th>81115</th>\n",
              "      <td>1</td>\n",
              "      <td>8121</td>\n",
              "      <td>1032</td>\n",
              "      <td>578</td>\n",
              "      <td>1</td>\n",
              "      <td>1</td>\n",
              "      <td>-0.323301</td>\n",
              "      <td>0.406178</td>\n",
              "      <td>0.115463</td>\n",
              "      <td>-0.177110</td>\n",
              "      <td>0</td>\n",
              "    </tr>\n",
              "  </tbody>\n",
              "</table>\n",
              "<p>81116 rows × 11 columns</p>\n",
              "</div>"
            ],
            "text/plain": [
              "       cs-method  sc-bytes  cs-bytes  ...  component3  component4  label_KMeans_PCA\n",
              "0              1      9788      1443  ...   -0.092770    0.892141                 3\n",
              "1              1      9656       862  ...   -0.052212   -0.311915                 0\n",
              "2              1      9508      1443  ...   -0.098223    0.892055                 3\n",
              "3              1     10115      1033  ...   -0.074547   -0.331839                 0\n",
              "4              1      9544       862  ...   -0.050500   -0.309307                 0\n",
              "...          ...       ...       ...  ...         ...         ...               ...\n",
              "81111          1      9678      1426  ...   -0.089085    0.895947                 3\n",
              "81112          1      9615       767  ...   -0.042650   -0.305543                 0\n",
              "81113          1      8206      1032  ...    0.080697   -0.201807                 0\n",
              "81114          1      9744      1220  ...   -0.084864   -0.332775                 0\n",
              "81115          1      8121      1032  ...    0.115463   -0.177110                 0\n",
              "\n",
              "[81116 rows x 11 columns]"
            ]
          },
          "metadata": {
            "tags": []
          },
          "execution_count": 47
        }
      ]
    },
    {
      "cell_type": "code",
      "metadata": {
        "id": "3ZMhRnqoGZYM"
      },
      "source": [
        "bbis_labelledDataKmeans = pd.concat([dataBirBakistaIhaleSelected.reset_index(drop=True),pd.DataFrame(kmeans_pca_bbis.labels_)],axis = 1)\n",
        "bbis_labelledDataKmeans.columns.values[-1:] = [\"label_KMeans_PCA\"]"
      ],
      "execution_count": null,
      "outputs": []
    },
    {
      "cell_type": "code",
      "metadata": {
        "id": "laVD-605G0W7",
        "colab": {
          "base_uri": "https://localhost:8080/",
          "height": 388
        },
        "outputId": "e1f7f18d-2077-4a28-b191-ac10c6424534"
      },
      "source": [
        "bbis_labelledDataKmeans[bbis_labelledDataKmeans['label_KMeans_PCA'] == 5] "
      ],
      "execution_count": null,
      "outputs": [
        {
          "output_type": "execute_result",
          "data": {
            "text/html": [
              "<div>\n",
              "<style scoped>\n",
              "    .dataframe tbody tr th:only-of-type {\n",
              "        vertical-align: middle;\n",
              "    }\n",
              "\n",
              "    .dataframe tbody tr th {\n",
              "        vertical-align: top;\n",
              "    }\n",
              "\n",
              "    .dataframe thead th {\n",
              "        text-align: right;\n",
              "    }\n",
              "</style>\n",
              "<table border=\"1\" class=\"dataframe\">\n",
              "  <thead>\n",
              "    <tr style=\"text-align: right;\">\n",
              "      <th></th>\n",
              "      <th>cs-method</th>\n",
              "      <th>sc-bytes</th>\n",
              "      <th>cs-bytes</th>\n",
              "      <th>time-taken</th>\n",
              "      <th>cs-username</th>\n",
              "      <th>sc-statusBinary</th>\n",
              "      <th>label_KMeans_PCA</th>\n",
              "    </tr>\n",
              "  </thead>\n",
              "  <tbody>\n",
              "    <tr>\n",
              "      <th>10248</th>\n",
              "      <td>0</td>\n",
              "      <td>0</td>\n",
              "      <td>1129</td>\n",
              "      <td>126265</td>\n",
              "      <td>1</td>\n",
              "      <td>1</td>\n",
              "      <td>5</td>\n",
              "    </tr>\n",
              "    <tr>\n",
              "      <th>15330</th>\n",
              "      <td>1</td>\n",
              "      <td>0</td>\n",
              "      <td>1186</td>\n",
              "      <td>81552</td>\n",
              "      <td>0</td>\n",
              "      <td>1</td>\n",
              "      <td>5</td>\n",
              "    </tr>\n",
              "    <tr>\n",
              "      <th>24972</th>\n",
              "      <td>1</td>\n",
              "      <td>0</td>\n",
              "      <td>942</td>\n",
              "      <td>130722</td>\n",
              "      <td>1</td>\n",
              "      <td>1</td>\n",
              "      <td>5</td>\n",
              "    </tr>\n",
              "    <tr>\n",
              "      <th>24973</th>\n",
              "      <td>1</td>\n",
              "      <td>8230</td>\n",
              "      <td>942</td>\n",
              "      <td>85578</td>\n",
              "      <td>1</td>\n",
              "      <td>1</td>\n",
              "      <td>5</td>\n",
              "    </tr>\n",
              "    <tr>\n",
              "      <th>30959</th>\n",
              "      <td>1</td>\n",
              "      <td>8406</td>\n",
              "      <td>1186</td>\n",
              "      <td>93237</td>\n",
              "      <td>0</td>\n",
              "      <td>1</td>\n",
              "      <td>5</td>\n",
              "    </tr>\n",
              "    <tr>\n",
              "      <th>33894</th>\n",
              "      <td>0</td>\n",
              "      <td>1448</td>\n",
              "      <td>3623</td>\n",
              "      <td>150790</td>\n",
              "      <td>0</td>\n",
              "      <td>1</td>\n",
              "      <td>5</td>\n",
              "    </tr>\n",
              "    <tr>\n",
              "      <th>33895</th>\n",
              "      <td>0</td>\n",
              "      <td>1448</td>\n",
              "      <td>3623</td>\n",
              "      <td>148276</td>\n",
              "      <td>0</td>\n",
              "      <td>1</td>\n",
              "      <td>5</td>\n",
              "    </tr>\n",
              "    <tr>\n",
              "      <th>33896</th>\n",
              "      <td>0</td>\n",
              "      <td>1448</td>\n",
              "      <td>3623</td>\n",
              "      <td>150314</td>\n",
              "      <td>0</td>\n",
              "      <td>1</td>\n",
              "      <td>5</td>\n",
              "    </tr>\n",
              "    <tr>\n",
              "      <th>33897</th>\n",
              "      <td>0</td>\n",
              "      <td>1448</td>\n",
              "      <td>3623</td>\n",
              "      <td>151676</td>\n",
              "      <td>0</td>\n",
              "      <td>1</td>\n",
              "      <td>5</td>\n",
              "    </tr>\n",
              "    <tr>\n",
              "      <th>35167</th>\n",
              "      <td>1</td>\n",
              "      <td>0</td>\n",
              "      <td>963</td>\n",
              "      <td>275307</td>\n",
              "      <td>1</td>\n",
              "      <td>1</td>\n",
              "      <td>5</td>\n",
              "    </tr>\n",
              "    <tr>\n",
              "      <th>35183</th>\n",
              "      <td>1</td>\n",
              "      <td>0</td>\n",
              "      <td>963</td>\n",
              "      <td>101089</td>\n",
              "      <td>1</td>\n",
              "      <td>1</td>\n",
              "      <td>5</td>\n",
              "    </tr>\n",
              "    <tr>\n",
              "      <th>59731</th>\n",
              "      <td>1</td>\n",
              "      <td>0</td>\n",
              "      <td>1239</td>\n",
              "      <td>228031</td>\n",
              "      <td>0</td>\n",
              "      <td>1</td>\n",
              "      <td>5</td>\n",
              "    </tr>\n",
              "  </tbody>\n",
              "</table>\n",
              "</div>"
            ],
            "text/plain": [
              "       cs-method  sc-bytes  ...  sc-statusBinary  label_KMeans_PCA\n",
              "10248          0         0  ...                1                 5\n",
              "15330          1         0  ...                1                 5\n",
              "24972          1         0  ...                1                 5\n",
              "24973          1      8230  ...                1                 5\n",
              "30959          1      8406  ...                1                 5\n",
              "33894          0      1448  ...                1                 5\n",
              "33895          0      1448  ...                1                 5\n",
              "33896          0      1448  ...                1                 5\n",
              "33897          0      1448  ...                1                 5\n",
              "35167          1         0  ...                1                 5\n",
              "35183          1         0  ...                1                 5\n",
              "59731          1         0  ...                1                 5\n",
              "\n",
              "[12 rows x 7 columns]"
            ]
          },
          "metadata": {
            "tags": []
          },
          "execution_count": 49
        }
      ]
    },
    {
      "cell_type": "code",
      "metadata": {
        "id": "RbLUdnj-Fpfk",
        "colab": {
          "base_uri": "https://localhost:8080/",
          "height": 897
        },
        "outputId": "86bdcc6a-7110-4331-94d3-e7957afa60da"
      },
      "source": [
        "plt.figure(figsize=(15,15))\n",
        "corr= bbis_labelledDataKmeans.iloc[:,:].corr()\n",
        "sns.heatmap(corr,annot=True,fmt='.0%')"
      ],
      "execution_count": null,
      "outputs": [
        {
          "output_type": "execute_result",
          "data": {
            "text/plain": [
              "<matplotlib.axes._subplots.AxesSubplot at 0x7f3b12901908>"
            ]
          },
          "metadata": {
            "tags": []
          },
          "execution_count": 50
        },
        {
          "output_type": "display_data",
          "data": {
            "image/png": "[encoded data removed]",
            "text/plain": [
              "<Figure size 1080x1080 with 2 Axes>"
            ]
          },
          "metadata": {
            "tags": [],
            "needs_background": "light"
          }
        }
      ]
    },
    {
      "cell_type": "code",
      "metadata": {
        "id": "YLL4orOBl2_J",
        "colab": {
          "base_uri": "https://localhost:8080/",
          "height": 132
        },
        "outputId": "46b9f990-2dbe-4efc-9908-e0382bcf15ce"
      },
      "source": [
        "bbis_labelledDataKmeans['label_KMeans_PCA'].value_counts()"
      ],
      "execution_count": null,
      "outputs": [
        {
          "output_type": "execute_result",
          "data": {
            "text/plain": [
              "0    63991\n",
              "3    12524\n",
              "2     4316\n",
              "4      215\n",
              "1       58\n",
              "5       12\n",
              "Name: label_KMeans_PCA, dtype: int64"
            ]
          },
          "metadata": {
            "tags": []
          },
          "execution_count": 106
        }
      ]
    },
    {
      "cell_type": "code",
      "metadata": {
        "id": "cUgifFxbmUrZ",
        "colab": {
          "base_uri": "https://localhost:8080/",
          "height": 388
        },
        "outputId": "4eaf64d7-e3bb-4707-dd86-c37fb2c3ae4e"
      },
      "source": [
        "bbis_labelledDataKmeans[bbis_labelledDataKmeans['label_KMeans_PCA']==0]"
      ],
      "execution_count": null,
      "outputs": [
        {
          "output_type": "execute_result",
          "data": {
            "text/html": [
              "<div>\n",
              "<style scoped>\n",
              "    .dataframe tbody tr th:only-of-type {\n",
              "        vertical-align: middle;\n",
              "    }\n",
              "\n",
              "    .dataframe tbody tr th {\n",
              "        vertical-align: top;\n",
              "    }\n",
              "\n",
              "    .dataframe thead th {\n",
              "        text-align: right;\n",
              "    }\n",
              "</style>\n",
              "<table border=\"1\" class=\"dataframe\">\n",
              "  <thead>\n",
              "    <tr style=\"text-align: right;\">\n",
              "      <th></th>\n",
              "      <th>cs-method</th>\n",
              "      <th>sc-bytes</th>\n",
              "      <th>cs-bytes</th>\n",
              "      <th>time-taken</th>\n",
              "      <th>cs-username</th>\n",
              "      <th>sc-statusBinary</th>\n",
              "      <th>label_KMeans_PCA</th>\n",
              "    </tr>\n",
              "  </thead>\n",
              "  <tbody>\n",
              "    <tr>\n",
              "      <th>1</th>\n",
              "      <td>1</td>\n",
              "      <td>9656</td>\n",
              "      <td>862</td>\n",
              "      <td>152</td>\n",
              "      <td>1</td>\n",
              "      <td>1</td>\n",
              "      <td>0</td>\n",
              "    </tr>\n",
              "    <tr>\n",
              "      <th>3</th>\n",
              "      <td>1</td>\n",
              "      <td>10115</td>\n",
              "      <td>1033</td>\n",
              "      <td>97</td>\n",
              "      <td>1</td>\n",
              "      <td>1</td>\n",
              "      <td>0</td>\n",
              "    </tr>\n",
              "    <tr>\n",
              "      <th>4</th>\n",
              "      <td>1</td>\n",
              "      <td>9544</td>\n",
              "      <td>862</td>\n",
              "      <td>156</td>\n",
              "      <td>1</td>\n",
              "      <td>1</td>\n",
              "      <td>0</td>\n",
              "    </tr>\n",
              "    <tr>\n",
              "      <th>5</th>\n",
              "      <td>1</td>\n",
              "      <td>8159</td>\n",
              "      <td>1113</td>\n",
              "      <td>62</td>\n",
              "      <td>1</td>\n",
              "      <td>1</td>\n",
              "      <td>0</td>\n",
              "    </tr>\n",
              "    <tr>\n",
              "      <th>6</th>\n",
              "      <td>1</td>\n",
              "      <td>9870</td>\n",
              "      <td>862</td>\n",
              "      <td>186</td>\n",
              "      <td>1</td>\n",
              "      <td>1</td>\n",
              "      <td>0</td>\n",
              "    </tr>\n",
              "    <tr>\n",
              "      <th>...</th>\n",
              "      <td>...</td>\n",
              "      <td>...</td>\n",
              "      <td>...</td>\n",
              "      <td>...</td>\n",
              "      <td>...</td>\n",
              "      <td>...</td>\n",
              "      <td>...</td>\n",
              "    </tr>\n",
              "    <tr>\n",
              "      <th>81110</th>\n",
              "      <td>1</td>\n",
              "      <td>7910</td>\n",
              "      <td>1032</td>\n",
              "      <td>486</td>\n",
              "      <td>1</td>\n",
              "      <td>1</td>\n",
              "      <td>0</td>\n",
              "    </tr>\n",
              "    <tr>\n",
              "      <th>81112</th>\n",
              "      <td>1</td>\n",
              "      <td>9615</td>\n",
              "      <td>767</td>\n",
              "      <td>176</td>\n",
              "      <td>1</td>\n",
              "      <td>1</td>\n",
              "      <td>0</td>\n",
              "    </tr>\n",
              "    <tr>\n",
              "      <th>81113</th>\n",
              "      <td>1</td>\n",
              "      <td>8206</td>\n",
              "      <td>1032</td>\n",
              "      <td>489</td>\n",
              "      <td>1</td>\n",
              "      <td>1</td>\n",
              "      <td>0</td>\n",
              "    </tr>\n",
              "    <tr>\n",
              "      <th>81114</th>\n",
              "      <td>1</td>\n",
              "      <td>9744</td>\n",
              "      <td>1220</td>\n",
              "      <td>70</td>\n",
              "      <td>1</td>\n",
              "      <td>1</td>\n",
              "      <td>0</td>\n",
              "    </tr>\n",
              "    <tr>\n",
              "      <th>81115</th>\n",
              "      <td>1</td>\n",
              "      <td>8121</td>\n",
              "      <td>1032</td>\n",
              "      <td>578</td>\n",
              "      <td>1</td>\n",
              "      <td>1</td>\n",
              "      <td>0</td>\n",
              "    </tr>\n",
              "  </tbody>\n",
              "</table>\n",
              "<p>63991 rows × 7 columns</p>\n",
              "</div>"
            ],
            "text/plain": [
              "       cs-method  sc-bytes  ...  sc-statusBinary  label_KMeans_PCA\n",
              "1              1      9656  ...                1                 0\n",
              "3              1     10115  ...                1                 0\n",
              "4              1      9544  ...                1                 0\n",
              "5              1      8159  ...                1                 0\n",
              "6              1      9870  ...                1                 0\n",
              "...          ...       ...  ...              ...               ...\n",
              "81110          1      7910  ...                1                 0\n",
              "81112          1      9615  ...                1                 0\n",
              "81113          1      8206  ...                1                 0\n",
              "81114          1      9744  ...                1                 0\n",
              "81115          1      8121  ...                1                 0\n",
              "\n",
              "[63991 rows x 7 columns]"
            ]
          },
          "metadata": {
            "tags": []
          },
          "execution_count": 111
        }
      ]
    },
    {
      "cell_type": "code",
      "metadata": {
        "id": "IkMyX7PHlvTL"
      },
      "source": [
        "bbis_labelledDataKmeans[bbis_labelledDataKmeans['label_KMeans_PCA']==1] #only sc-statusBinary == 0"
      ],
      "execution_count": null,
      "outputs": []
    },
    {
      "cell_type": "code",
      "metadata": {
        "id": "8jBuAgjDmoNF",
        "colab": {
          "base_uri": "https://localhost:8080/",
          "height": 388
        },
        "outputId": "c64fc210-ad75-432a-e531-dfa24d52f886"
      },
      "source": [
        "bbis_labelledDataKmeans[bbis_labelledDataKmeans['label_KMeans_PCA']==2]"
      ],
      "execution_count": null,
      "outputs": [
        {
          "output_type": "execute_result",
          "data": {
            "text/html": [
              "<div>\n",
              "<style scoped>\n",
              "    .dataframe tbody tr th:only-of-type {\n",
              "        vertical-align: middle;\n",
              "    }\n",
              "\n",
              "    .dataframe tbody tr th {\n",
              "        vertical-align: top;\n",
              "    }\n",
              "\n",
              "    .dataframe thead th {\n",
              "        text-align: right;\n",
              "    }\n",
              "</style>\n",
              "<table border=\"1\" class=\"dataframe\">\n",
              "  <thead>\n",
              "    <tr style=\"text-align: right;\">\n",
              "      <th></th>\n",
              "      <th>cs-method</th>\n",
              "      <th>sc-bytes</th>\n",
              "      <th>cs-bytes</th>\n",
              "      <th>time-taken</th>\n",
              "      <th>cs-username</th>\n",
              "      <th>sc-statusBinary</th>\n",
              "      <th>label_KMeans_PCA</th>\n",
              "    </tr>\n",
              "  </thead>\n",
              "  <tbody>\n",
              "    <tr>\n",
              "      <th>72</th>\n",
              "      <td>0</td>\n",
              "      <td>2411</td>\n",
              "      <td>3204</td>\n",
              "      <td>46</td>\n",
              "      <td>1</td>\n",
              "      <td>1</td>\n",
              "      <td>2</td>\n",
              "    </tr>\n",
              "    <tr>\n",
              "      <th>319</th>\n",
              "      <td>0</td>\n",
              "      <td>4006</td>\n",
              "      <td>4220</td>\n",
              "      <td>86</td>\n",
              "      <td>1</td>\n",
              "      <td>1</td>\n",
              "      <td>2</td>\n",
              "    </tr>\n",
              "    <tr>\n",
              "      <th>348</th>\n",
              "      <td>0</td>\n",
              "      <td>4005</td>\n",
              "      <td>4196</td>\n",
              "      <td>86</td>\n",
              "      <td>1</td>\n",
              "      <td>1</td>\n",
              "      <td>2</td>\n",
              "    </tr>\n",
              "    <tr>\n",
              "      <th>370</th>\n",
              "      <td>0</td>\n",
              "      <td>4060</td>\n",
              "      <td>4251</td>\n",
              "      <td>86</td>\n",
              "      <td>1</td>\n",
              "      <td>1</td>\n",
              "      <td>2</td>\n",
              "    </tr>\n",
              "    <tr>\n",
              "      <th>379</th>\n",
              "      <td>0</td>\n",
              "      <td>4066</td>\n",
              "      <td>4438</td>\n",
              "      <td>87</td>\n",
              "      <td>1</td>\n",
              "      <td>1</td>\n",
              "      <td>2</td>\n",
              "    </tr>\n",
              "    <tr>\n",
              "      <th>...</th>\n",
              "      <td>...</td>\n",
              "      <td>...</td>\n",
              "      <td>...</td>\n",
              "      <td>...</td>\n",
              "      <td>...</td>\n",
              "      <td>...</td>\n",
              "      <td>...</td>\n",
              "    </tr>\n",
              "    <tr>\n",
              "      <th>79692</th>\n",
              "      <td>1</td>\n",
              "      <td>69577</td>\n",
              "      <td>1414</td>\n",
              "      <td>186</td>\n",
              "      <td>0</td>\n",
              "      <td>1</td>\n",
              "      <td>2</td>\n",
              "    </tr>\n",
              "    <tr>\n",
              "      <th>79991</th>\n",
              "      <td>0</td>\n",
              "      <td>2443</td>\n",
              "      <td>3334</td>\n",
              "      <td>45</td>\n",
              "      <td>1</td>\n",
              "      <td>1</td>\n",
              "      <td>2</td>\n",
              "    </tr>\n",
              "    <tr>\n",
              "      <th>80393</th>\n",
              "      <td>1</td>\n",
              "      <td>69837</td>\n",
              "      <td>1414</td>\n",
              "      <td>193</td>\n",
              "      <td>0</td>\n",
              "      <td>1</td>\n",
              "      <td>2</td>\n",
              "    </tr>\n",
              "    <tr>\n",
              "      <th>81018</th>\n",
              "      <td>1</td>\n",
              "      <td>69577</td>\n",
              "      <td>1414</td>\n",
              "      <td>230</td>\n",
              "      <td>0</td>\n",
              "      <td>1</td>\n",
              "      <td>2</td>\n",
              "    </tr>\n",
              "    <tr>\n",
              "      <th>81049</th>\n",
              "      <td>0</td>\n",
              "      <td>2507</td>\n",
              "      <td>3445</td>\n",
              "      <td>45</td>\n",
              "      <td>1</td>\n",
              "      <td>1</td>\n",
              "      <td>2</td>\n",
              "    </tr>\n",
              "  </tbody>\n",
              "</table>\n",
              "<p>4316 rows × 7 columns</p>\n",
              "</div>"
            ],
            "text/plain": [
              "       cs-method  sc-bytes  ...  sc-statusBinary  label_KMeans_PCA\n",
              "72             0      2411  ...                1                 2\n",
              "319            0      4006  ...                1                 2\n",
              "348            0      4005  ...                1                 2\n",
              "370            0      4060  ...                1                 2\n",
              "379            0      4066  ...                1                 2\n",
              "...          ...       ...  ...              ...               ...\n",
              "79692          1     69577  ...                1                 2\n",
              "79991          0      2443  ...                1                 2\n",
              "80393          1     69837  ...                1                 2\n",
              "81018          1     69577  ...                1                 2\n",
              "81049          0      2507  ...                1                 2\n",
              "\n",
              "[4316 rows x 7 columns]"
            ]
          },
          "metadata": {
            "tags": []
          },
          "execution_count": 112
        }
      ]
    },
    {
      "cell_type": "code",
      "metadata": {
        "id": "Y8o5OHvemsQj",
        "colab": {
          "base_uri": "https://localhost:8080/",
          "height": 388
        },
        "outputId": "8bf8f92e-e0fe-453b-cbe4-adabae62693b"
      },
      "source": [
        "bbis_labelledDataKmeans[bbis_labelledDataKmeans['label_KMeans_PCA']==3]"
      ],
      "execution_count": null,
      "outputs": [
        {
          "output_type": "execute_result",
          "data": {
            "text/html": [
              "<div>\n",
              "<style scoped>\n",
              "    .dataframe tbody tr th:only-of-type {\n",
              "        vertical-align: middle;\n",
              "    }\n",
              "\n",
              "    .dataframe tbody tr th {\n",
              "        vertical-align: top;\n",
              "    }\n",
              "\n",
              "    .dataframe thead th {\n",
              "        text-align: right;\n",
              "    }\n",
              "</style>\n",
              "<table border=\"1\" class=\"dataframe\">\n",
              "  <thead>\n",
              "    <tr style=\"text-align: right;\">\n",
              "      <th></th>\n",
              "      <th>cs-method</th>\n",
              "      <th>sc-bytes</th>\n",
              "      <th>cs-bytes</th>\n",
              "      <th>time-taken</th>\n",
              "      <th>cs-username</th>\n",
              "      <th>sc-statusBinary</th>\n",
              "      <th>label_KMeans_PCA</th>\n",
              "    </tr>\n",
              "  </thead>\n",
              "  <tbody>\n",
              "    <tr>\n",
              "      <th>0</th>\n",
              "      <td>1</td>\n",
              "      <td>9788</td>\n",
              "      <td>1443</td>\n",
              "      <td>122</td>\n",
              "      <td>0</td>\n",
              "      <td>1</td>\n",
              "      <td>3</td>\n",
              "    </tr>\n",
              "    <tr>\n",
              "      <th>2</th>\n",
              "      <td>1</td>\n",
              "      <td>9508</td>\n",
              "      <td>1443</td>\n",
              "      <td>107</td>\n",
              "      <td>0</td>\n",
              "      <td>1</td>\n",
              "      <td>3</td>\n",
              "    </tr>\n",
              "    <tr>\n",
              "      <th>8</th>\n",
              "      <td>1</td>\n",
              "      <td>8280</td>\n",
              "      <td>1377</td>\n",
              "      <td>94</td>\n",
              "      <td>0</td>\n",
              "      <td>1</td>\n",
              "      <td>3</td>\n",
              "    </tr>\n",
              "    <tr>\n",
              "      <th>17</th>\n",
              "      <td>1</td>\n",
              "      <td>10981</td>\n",
              "      <td>1411</td>\n",
              "      <td>150</td>\n",
              "      <td>0</td>\n",
              "      <td>1</td>\n",
              "      <td>3</td>\n",
              "    </tr>\n",
              "    <tr>\n",
              "      <th>21</th>\n",
              "      <td>1</td>\n",
              "      <td>8338</td>\n",
              "      <td>1378</td>\n",
              "      <td>103</td>\n",
              "      <td>0</td>\n",
              "      <td>1</td>\n",
              "      <td>3</td>\n",
              "    </tr>\n",
              "    <tr>\n",
              "      <th>...</th>\n",
              "      <td>...</td>\n",
              "      <td>...</td>\n",
              "      <td>...</td>\n",
              "      <td>...</td>\n",
              "      <td>...</td>\n",
              "      <td>...</td>\n",
              "      <td>...</td>\n",
              "    </tr>\n",
              "    <tr>\n",
              "      <th>80830</th>\n",
              "      <td>1</td>\n",
              "      <td>9704</td>\n",
              "      <td>1358</td>\n",
              "      <td>97</td>\n",
              "      <td>0</td>\n",
              "      <td>1</td>\n",
              "      <td>3</td>\n",
              "    </tr>\n",
              "    <tr>\n",
              "      <th>80880</th>\n",
              "      <td>1</td>\n",
              "      <td>8377</td>\n",
              "      <td>1411</td>\n",
              "      <td>114</td>\n",
              "      <td>0</td>\n",
              "      <td>1</td>\n",
              "      <td>3</td>\n",
              "    </tr>\n",
              "    <tr>\n",
              "      <th>81034</th>\n",
              "      <td>1</td>\n",
              "      <td>9461</td>\n",
              "      <td>1442</td>\n",
              "      <td>95</td>\n",
              "      <td>0</td>\n",
              "      <td>1</td>\n",
              "      <td>3</td>\n",
              "    </tr>\n",
              "    <tr>\n",
              "      <th>81109</th>\n",
              "      <td>1</td>\n",
              "      <td>10319</td>\n",
              "      <td>1426</td>\n",
              "      <td>147</td>\n",
              "      <td>0</td>\n",
              "      <td>1</td>\n",
              "      <td>3</td>\n",
              "    </tr>\n",
              "    <tr>\n",
              "      <th>81111</th>\n",
              "      <td>1</td>\n",
              "      <td>9678</td>\n",
              "      <td>1426</td>\n",
              "      <td>131</td>\n",
              "      <td>0</td>\n",
              "      <td>1</td>\n",
              "      <td>3</td>\n",
              "    </tr>\n",
              "  </tbody>\n",
              "</table>\n",
              "<p>12524 rows × 7 columns</p>\n",
              "</div>"
            ],
            "text/plain": [
              "       cs-method  sc-bytes  ...  sc-statusBinary  label_KMeans_PCA\n",
              "0              1      9788  ...                1                 3\n",
              "2              1      9508  ...                1                 3\n",
              "8              1      8280  ...                1                 3\n",
              "17             1     10981  ...                1                 3\n",
              "21             1      8338  ...                1                 3\n",
              "...          ...       ...  ...              ...               ...\n",
              "80830          1      9704  ...                1                 3\n",
              "80880          1      8377  ...                1                 3\n",
              "81034          1      9461  ...                1                 3\n",
              "81109          1     10319  ...                1                 3\n",
              "81111          1      9678  ...                1                 3\n",
              "\n",
              "[12524 rows x 7 columns]"
            ]
          },
          "metadata": {
            "tags": []
          },
          "execution_count": 113
        }
      ]
    },
    {
      "cell_type": "code",
      "metadata": {
        "id": "0WGPR1GfmyN2",
        "colab": {
          "base_uri": "https://localhost:8080/",
          "height": 388
        },
        "outputId": "9e519502-4fc6-4cb0-abac-46d1597535d8"
      },
      "source": [
        "bbis_labelledDataKmeans[bbis_labelledDataKmeans['label_KMeans_PCA']==4]"
      ],
      "execution_count": null,
      "outputs": [
        {
          "output_type": "execute_result",
          "data": {
            "text/html": [
              "<div>\n",
              "<style scoped>\n",
              "    .dataframe tbody tr th:only-of-type {\n",
              "        vertical-align: middle;\n",
              "    }\n",
              "\n",
              "    .dataframe tbody tr th {\n",
              "        vertical-align: top;\n",
              "    }\n",
              "\n",
              "    .dataframe thead th {\n",
              "        text-align: right;\n",
              "    }\n",
              "</style>\n",
              "<table border=\"1\" class=\"dataframe\">\n",
              "  <thead>\n",
              "    <tr style=\"text-align: right;\">\n",
              "      <th></th>\n",
              "      <th>cs-method</th>\n",
              "      <th>sc-bytes</th>\n",
              "      <th>cs-bytes</th>\n",
              "      <th>time-taken</th>\n",
              "      <th>cs-username</th>\n",
              "      <th>sc-statusBinary</th>\n",
              "      <th>label_KMeans_PCA</th>\n",
              "    </tr>\n",
              "  </thead>\n",
              "  <tbody>\n",
              "    <tr>\n",
              "      <th>11199</th>\n",
              "      <td>0</td>\n",
              "      <td>228380</td>\n",
              "      <td>29649</td>\n",
              "      <td>220</td>\n",
              "      <td>1</td>\n",
              "      <td>1</td>\n",
              "      <td>4</td>\n",
              "    </tr>\n",
              "    <tr>\n",
              "      <th>18390</th>\n",
              "      <td>0</td>\n",
              "      <td>19483</td>\n",
              "      <td>27137</td>\n",
              "      <td>440</td>\n",
              "      <td>0</td>\n",
              "      <td>1</td>\n",
              "      <td>4</td>\n",
              "    </tr>\n",
              "    <tr>\n",
              "      <th>19854</th>\n",
              "      <td>0</td>\n",
              "      <td>145561</td>\n",
              "      <td>16047</td>\n",
              "      <td>145</td>\n",
              "      <td>1</td>\n",
              "      <td>1</td>\n",
              "      <td>4</td>\n",
              "    </tr>\n",
              "    <tr>\n",
              "      <th>19864</th>\n",
              "      <td>0</td>\n",
              "      <td>145561</td>\n",
              "      <td>16047</td>\n",
              "      <td>171</td>\n",
              "      <td>1</td>\n",
              "      <td>1</td>\n",
              "      <td>4</td>\n",
              "    </tr>\n",
              "    <tr>\n",
              "      <th>19876</th>\n",
              "      <td>0</td>\n",
              "      <td>145561</td>\n",
              "      <td>16047</td>\n",
              "      <td>129</td>\n",
              "      <td>1</td>\n",
              "      <td>1</td>\n",
              "      <td>4</td>\n",
              "    </tr>\n",
              "    <tr>\n",
              "      <th>...</th>\n",
              "      <td>...</td>\n",
              "      <td>...</td>\n",
              "      <td>...</td>\n",
              "      <td>...</td>\n",
              "      <td>...</td>\n",
              "      <td>...</td>\n",
              "      <td>...</td>\n",
              "    </tr>\n",
              "    <tr>\n",
              "      <th>46523</th>\n",
              "      <td>0</td>\n",
              "      <td>228380</td>\n",
              "      <td>29653</td>\n",
              "      <td>94</td>\n",
              "      <td>1</td>\n",
              "      <td>1</td>\n",
              "      <td>4</td>\n",
              "    </tr>\n",
              "    <tr>\n",
              "      <th>46533</th>\n",
              "      <td>0</td>\n",
              "      <td>228380</td>\n",
              "      <td>29653</td>\n",
              "      <td>153</td>\n",
              "      <td>1</td>\n",
              "      <td>1</td>\n",
              "      <td>4</td>\n",
              "    </tr>\n",
              "    <tr>\n",
              "      <th>46539</th>\n",
              "      <td>0</td>\n",
              "      <td>228380</td>\n",
              "      <td>29653</td>\n",
              "      <td>220</td>\n",
              "      <td>1</td>\n",
              "      <td>1</td>\n",
              "      <td>4</td>\n",
              "    </tr>\n",
              "    <tr>\n",
              "      <th>46546</th>\n",
              "      <td>0</td>\n",
              "      <td>228380</td>\n",
              "      <td>29653</td>\n",
              "      <td>133</td>\n",
              "      <td>1</td>\n",
              "      <td>1</td>\n",
              "      <td>4</td>\n",
              "    </tr>\n",
              "    <tr>\n",
              "      <th>46554</th>\n",
              "      <td>0</td>\n",
              "      <td>228380</td>\n",
              "      <td>29653</td>\n",
              "      <td>93</td>\n",
              "      <td>1</td>\n",
              "      <td>1</td>\n",
              "      <td>4</td>\n",
              "    </tr>\n",
              "  </tbody>\n",
              "</table>\n",
              "<p>215 rows × 7 columns</p>\n",
              "</div>"
            ],
            "text/plain": [
              "       cs-method  sc-bytes  ...  sc-statusBinary  label_KMeans_PCA\n",
              "11199          0    228380  ...                1                 4\n",
              "18390          0     19483  ...                1                 4\n",
              "19854          0    145561  ...                1                 4\n",
              "19864          0    145561  ...                1                 4\n",
              "19876          0    145561  ...                1                 4\n",
              "...          ...       ...  ...              ...               ...\n",
              "46523          0    228380  ...                1                 4\n",
              "46533          0    228380  ...                1                 4\n",
              "46539          0    228380  ...                1                 4\n",
              "46546          0    228380  ...                1                 4\n",
              "46554          0    228380  ...                1                 4\n",
              "\n",
              "[215 rows x 7 columns]"
            ]
          },
          "metadata": {
            "tags": []
          },
          "execution_count": 114
        }
      ]
    },
    {
      "cell_type": "code",
      "metadata": {
        "id": "Py2g05YFm1AX",
        "colab": {
          "base_uri": "https://localhost:8080/",
          "height": 388
        },
        "outputId": "21304a3e-d607-4b72-a727-35549b02eb8d"
      },
      "source": [
        "bbis_labelledDataKmeans[bbis_labelledDataKmeans['label_KMeans_PCA']==5]"
      ],
      "execution_count": null,
      "outputs": [
        {
          "output_type": "execute_result",
          "data": {
            "text/html": [
              "<div>\n",
              "<style scoped>\n",
              "    .dataframe tbody tr th:only-of-type {\n",
              "        vertical-align: middle;\n",
              "    }\n",
              "\n",
              "    .dataframe tbody tr th {\n",
              "        vertical-align: top;\n",
              "    }\n",
              "\n",
              "    .dataframe thead th {\n",
              "        text-align: right;\n",
              "    }\n",
              "</style>\n",
              "<table border=\"1\" class=\"dataframe\">\n",
              "  <thead>\n",
              "    <tr style=\"text-align: right;\">\n",
              "      <th></th>\n",
              "      <th>cs-method</th>\n",
              "      <th>sc-bytes</th>\n",
              "      <th>cs-bytes</th>\n",
              "      <th>time-taken</th>\n",
              "      <th>cs-username</th>\n",
              "      <th>sc-statusBinary</th>\n",
              "      <th>label_KMeans_PCA</th>\n",
              "    </tr>\n",
              "  </thead>\n",
              "  <tbody>\n",
              "    <tr>\n",
              "      <th>10248</th>\n",
              "      <td>0</td>\n",
              "      <td>0</td>\n",
              "      <td>1129</td>\n",
              "      <td>126265</td>\n",
              "      <td>1</td>\n",
              "      <td>1</td>\n",
              "      <td>5</td>\n",
              "    </tr>\n",
              "    <tr>\n",
              "      <th>15330</th>\n",
              "      <td>1</td>\n",
              "      <td>0</td>\n",
              "      <td>1186</td>\n",
              "      <td>81552</td>\n",
              "      <td>0</td>\n",
              "      <td>1</td>\n",
              "      <td>5</td>\n",
              "    </tr>\n",
              "    <tr>\n",
              "      <th>24972</th>\n",
              "      <td>1</td>\n",
              "      <td>0</td>\n",
              "      <td>942</td>\n",
              "      <td>130722</td>\n",
              "      <td>1</td>\n",
              "      <td>1</td>\n",
              "      <td>5</td>\n",
              "    </tr>\n",
              "    <tr>\n",
              "      <th>24973</th>\n",
              "      <td>1</td>\n",
              "      <td>8230</td>\n",
              "      <td>942</td>\n",
              "      <td>85578</td>\n",
              "      <td>1</td>\n",
              "      <td>1</td>\n",
              "      <td>5</td>\n",
              "    </tr>\n",
              "    <tr>\n",
              "      <th>30959</th>\n",
              "      <td>1</td>\n",
              "      <td>8406</td>\n",
              "      <td>1186</td>\n",
              "      <td>93237</td>\n",
              "      <td>0</td>\n",
              "      <td>1</td>\n",
              "      <td>5</td>\n",
              "    </tr>\n",
              "    <tr>\n",
              "      <th>33894</th>\n",
              "      <td>0</td>\n",
              "      <td>1448</td>\n",
              "      <td>3623</td>\n",
              "      <td>150790</td>\n",
              "      <td>0</td>\n",
              "      <td>1</td>\n",
              "      <td>5</td>\n",
              "    </tr>\n",
              "    <tr>\n",
              "      <th>33895</th>\n",
              "      <td>0</td>\n",
              "      <td>1448</td>\n",
              "      <td>3623</td>\n",
              "      <td>148276</td>\n",
              "      <td>0</td>\n",
              "      <td>1</td>\n",
              "      <td>5</td>\n",
              "    </tr>\n",
              "    <tr>\n",
              "      <th>33896</th>\n",
              "      <td>0</td>\n",
              "      <td>1448</td>\n",
              "      <td>3623</td>\n",
              "      <td>150314</td>\n",
              "      <td>0</td>\n",
              "      <td>1</td>\n",
              "      <td>5</td>\n",
              "    </tr>\n",
              "    <tr>\n",
              "      <th>33897</th>\n",
              "      <td>0</td>\n",
              "      <td>1448</td>\n",
              "      <td>3623</td>\n",
              "      <td>151676</td>\n",
              "      <td>0</td>\n",
              "      <td>1</td>\n",
              "      <td>5</td>\n",
              "    </tr>\n",
              "    <tr>\n",
              "      <th>35167</th>\n",
              "      <td>1</td>\n",
              "      <td>0</td>\n",
              "      <td>963</td>\n",
              "      <td>275307</td>\n",
              "      <td>1</td>\n",
              "      <td>1</td>\n",
              "      <td>5</td>\n",
              "    </tr>\n",
              "    <tr>\n",
              "      <th>35183</th>\n",
              "      <td>1</td>\n",
              "      <td>0</td>\n",
              "      <td>963</td>\n",
              "      <td>101089</td>\n",
              "      <td>1</td>\n",
              "      <td>1</td>\n",
              "      <td>5</td>\n",
              "    </tr>\n",
              "    <tr>\n",
              "      <th>59731</th>\n",
              "      <td>1</td>\n",
              "      <td>0</td>\n",
              "      <td>1239</td>\n",
              "      <td>228031</td>\n",
              "      <td>0</td>\n",
              "      <td>1</td>\n",
              "      <td>5</td>\n",
              "    </tr>\n",
              "  </tbody>\n",
              "</table>\n",
              "</div>"
            ],
            "text/plain": [
              "       cs-method  sc-bytes  ...  sc-statusBinary  label_KMeans_PCA\n",
              "10248          0         0  ...                1                 5\n",
              "15330          1         0  ...                1                 5\n",
              "24972          1         0  ...                1                 5\n",
              "24973          1      8230  ...                1                 5\n",
              "30959          1      8406  ...                1                 5\n",
              "33894          0      1448  ...                1                 5\n",
              "33895          0      1448  ...                1                 5\n",
              "33896          0      1448  ...                1                 5\n",
              "33897          0      1448  ...                1                 5\n",
              "35167          1         0  ...                1                 5\n",
              "35183          1         0  ...                1                 5\n",
              "59731          1         0  ...                1                 5\n",
              "\n",
              "[12 rows x 7 columns]"
            ]
          },
          "metadata": {
            "tags": []
          },
          "execution_count": 115
        }
      ]
    },
    {
      "cell_type": "markdown",
      "metadata": {
        "id": "75k0-1sXPbGH"
      },
      "source": [
        "**cs-username&cs-method problem**"
      ]
    },
    {
      "cell_type": "code",
      "metadata": {
        "id": "Eo2lrj7bPnmm"
      },
      "source": [
        "dataBirBakistaIhaleSelected_4C = dataBirBakistaIhaleSelected.drop(columns=['cs-method','cs-username'])"
      ],
      "execution_count": null,
      "outputs": []
    },
    {
      "cell_type": "code",
      "metadata": {
        "id": "oontMP75QFjY",
        "colab": {
          "base_uri": "https://localhost:8080/",
          "height": 132
        },
        "outputId": "4e947e71-4bed-44c1-99f1-72a81e5973c6"
      },
      "source": [
        "scaler = StandardScaler()#Scaling\n",
        "dataBirBakistaIhaleSelected_4C_std = scaler.fit_transform(dataBirBakistaIhaleSelected_4C)\n",
        "dataBirBakistaIhaleSelected_4C_std"
      ],
      "execution_count": null,
      "outputs": [
        {
          "output_type": "execute_result",
          "data": {
            "text/plain": [
              "array([[ 0.0265737 ,  0.09722988, -0.10492471,  0.02674952],\n",
              "       [ 0.01529251, -0.27701481, -0.09006566,  0.02674952],\n",
              "       [ 0.0026439 ,  0.09722988, -0.11235424,  0.02674952],\n",
              "       ...,\n",
              "       [-0.10862966, -0.1675112 ,  0.07685108,  0.02674952],\n",
              "       [ 0.0228133 , -0.04641309, -0.13068041,  0.02674952],\n",
              "       [-0.11589406, -0.1675112 ,  0.12093295,  0.02674952]])"
            ]
          },
          "metadata": {
            "tags": []
          },
          "execution_count": 52
        }
      ]
    },
    {
      "cell_type": "code",
      "metadata": {
        "id": "-U6eeRefQIt2",
        "colab": {
          "base_uri": "https://localhost:8080/",
          "height": 49
        },
        "outputId": "f7499602-8fc4-4c63-df6d-09814dd1c01c"
      },
      "source": [
        "pca_bbis_4C = PCA()\n",
        "pca_bbis_4C.fit(dataBirBakistaIhaleSelected_4C_std)"
      ],
      "execution_count": null,
      "outputs": [
        {
          "output_type": "execute_result",
          "data": {
            "text/plain": [
              "PCA(copy=True, iterated_power='auto', n_components=None, random_state=None,\n",
              "    svd_solver='auto', tol=0.0, whiten=False)"
            ]
          },
          "metadata": {
            "tags": []
          },
          "execution_count": 53
        }
      ]
    },
    {
      "cell_type": "code",
      "metadata": {
        "id": "Zw5Hxc_yQSJx",
        "colab": {
          "base_uri": "https://localhost:8080/",
          "height": 33
        },
        "outputId": "cf5533af-d5d9-42f2-a111-590c1cbce1ae"
      },
      "source": [
        "pca_bbis_4C.explained_variance_ratio_"
      ],
      "execution_count": null,
      "outputs": [
        {
          "output_type": "execute_result",
          "data": {
            "text/plain": [
              "array([0.43762162, 0.25058399, 0.24920163, 0.06259276])"
            ]
          },
          "metadata": {
            "tags": []
          },
          "execution_count": 54
        }
      ]
    },
    {
      "cell_type": "code",
      "metadata": {
        "id": "bkw0vhqnQWm_",
        "colab": {
          "base_uri": "https://localhost:8080/",
          "height": 513
        },
        "outputId": "50d6f367-50a1-458d-fbd3-7b9bec156a1f"
      },
      "source": [
        "plt.figure(figsize=(10,8))\n",
        "plt.plot(range(1,5),pca_bbis_4C.explained_variance_ratio_.cumsum(),marker =\"o\",linestyle =\"--\")\n",
        "plt.xlabel(\"Number of Compenents\")\n",
        "plt.ylabel(\"Cumulative Explained Variance\")"
      ],
      "execution_count": null,
      "outputs": [
        {
          "output_type": "execute_result",
          "data": {
            "text/plain": [
              "Text(0, 0.5, 'Cumulative Explained Variance')"
            ]
          },
          "metadata": {
            "tags": []
          },
          "execution_count": 55
        },
        {
          "output_type": "display_data",
          "data": {
            "image/png": "[encoded data removed]",
            "text/plain": [
              "<Figure size 720x576 with 1 Axes>"
            ]
          },
          "metadata": {
            "tags": [],
            "needs_background": "light"
          }
        }
      ]
    },
    {
      "cell_type": "code",
      "metadata": {
        "id": "PELj68otQijP",
        "colab": {
          "base_uri": "https://localhost:8080/",
          "height": 49
        },
        "outputId": "9b7b2aea-9455-40cb-ddee-31489739bad1"
      },
      "source": [
        "pca_bbis_4C =PCA(n_components=3) \n",
        "pca_bbis_4C.fit(dataBirBakistaIhaleSelected_4C_std)"
      ],
      "execution_count": null,
      "outputs": [
        {
          "output_type": "execute_result",
          "data": {
            "text/plain": [
              "PCA(copy=True, iterated_power='auto', n_components=3, random_state=None,\n",
              "    svd_solver='auto', tol=0.0, whiten=False)"
            ]
          },
          "metadata": {
            "tags": []
          },
          "execution_count": 56
        }
      ]
    },
    {
      "cell_type": "code",
      "metadata": {
        "id": "-S-X_kPsQxgA",
        "colab": {
          "base_uri": "https://localhost:8080/",
          "height": 513
        },
        "outputId": "34732922-604e-4fab-9897-cdb16c3f4678"
      },
      "source": [
        "scores_pca_bbis_4C = pca_bbis_4C.transform(dataBirBakistaIhaleSelected_4C_std)\n",
        "wcss_bbis_4C=[]\n",
        "for i in range(1,25):\n",
        "  kmeans_pca_bbis_4C = KMeans(n_clusters=i, init ='k-means++', max_iter=300, n_init=10,random_state=42)\n",
        "  kmeans_pca_bbis_4C.fit(scores_pca_bbis_4C)\n",
        "  wcss_bbis_4C.append(kmeans_pca_bbis_4C.inertia_)\n",
        "\n",
        "plt.figure(figsize=(10,8))\n",
        "plt.plot(range(1,25),wcss_bbis_4C,marker =\"o\",linestyle =\"--\")\n",
        "plt.xlabel(\"Number of Clusters\")\n",
        "plt.ylabel(\"WCSS\") #number of cluster = 4"
      ],
      "execution_count": null,
      "outputs": [
        {
          "output_type": "execute_result",
          "data": {
            "text/plain": [
              "Text(0, 0.5, 'WCSS')"
            ]
          },
          "metadata": {
            "tags": []
          },
          "execution_count": 57
        },
        {
          "output_type": "display_data",
          "data": {
            "image/png": "[encoded data removed]",
            "text/plain": [
              "<Figure size 720x576 with 1 Axes>"
            ]
          },
          "metadata": {
            "tags": [],
            "needs_background": "light"
          }
        }
      ]
    },
    {
      "cell_type": "code",
      "metadata": {
        "id": "tfaYnqB4RbYM",
        "colab": {
          "base_uri": "https://localhost:8080/",
          "height": 66
        },
        "outputId": "4a38be36-662d-40e9-93bb-8d0e66fb67d5"
      },
      "source": [
        "kmeans_pca_bbis_4C = KMeans(n_clusters=4, init ='k-means++', max_iter=300, n_init=10,random_state=42)\n",
        "kmeans_pca_bbis_4C.fit(scores_pca_bbis_4C)"
      ],
      "execution_count": null,
      "outputs": [
        {
          "output_type": "execute_result",
          "data": {
            "text/plain": [
              "KMeans(algorithm='auto', copy_x=True, init='k-means++', max_iter=300,\n",
              "       n_clusters=4, n_init=10, n_jobs=None, precompute_distances='auto',\n",
              "       random_state=42, tol=0.0001, verbose=0)"
            ]
          },
          "metadata": {
            "tags": []
          },
          "execution_count": 58
        }
      ]
    },
    {
      "cell_type": "code",
      "metadata": {
        "id": "haT12P-tR2t4"
      },
      "source": [
        "df_segm_pcakmeans_bbis_4C = pd.concat([dataBirBakistaIhaleSelected_4C.reset_index(drop=True),pd.DataFrame(scores_pca_bbis_4C)],axis = 1)\n",
        "df_segm_pcakmeans_bbis_4C.columns.values[-3:] = [\"component1\",\"component2\",\"component3\"]\n",
        "df_segm_pcakmeans_bbis_4C[\"label_KMeans_PCA\"] = kmeans_pca_bbis_4C.labels_"
      ],
      "execution_count": null,
      "outputs": []
    },
    {
      "cell_type": "code",
      "metadata": {
        "id": "0BXjPW9ZSSCc",
        "colab": {
          "base_uri": "https://localhost:8080/",
          "height": 99
        },
        "outputId": "7bf53ce7-f7c2-4ae4-82fd-2b079f435c22"
      },
      "source": [
        "df_segm_pcakmeans_bbis_4C[\"label_KMeans_PCA\"].value_counts()"
      ],
      "execution_count": null,
      "outputs": [
        {
          "output_type": "execute_result",
          "data": {
            "text/plain": [
              "0    80822\n",
              "1      224\n",
              "3       58\n",
              "2       12\n",
              "Name: label_KMeans_PCA, dtype: int64"
            ]
          },
          "metadata": {
            "tags": []
          },
          "execution_count": 60
        }
      ]
    },
    {
      "cell_type": "code",
      "metadata": {
        "id": "zNacqXoVUOYH",
        "colab": {
          "base_uri": "https://localhost:8080/",
          "height": 885
        },
        "outputId": "6d86ac73-b2fa-47c0-e824-68771e5ba447"
      },
      "source": [
        "bbis_4C_labelledDataKmeans = pd.concat([dataBirBakistaIhaleSelected_4C.reset_index(drop=True),pd.DataFrame(kmeans_pca_bbis_4C.labels_)],axis = 1)\n",
        "bbis_4C_labelledDataKmeans.columns.values[-1:] = [\"label_KMeans_PCA\"]\n",
        "plt.figure(figsize=(15,15))\n",
        "corr= bbis_4C_labelledDataKmeans.iloc[:,:].corr()\n",
        "sns.heatmap(corr,annot=True,fmt='.0%')"
      ],
      "execution_count": null,
      "outputs": [
        {
          "output_type": "execute_result",
          "data": {
            "text/plain": [
              "<matplotlib.axes._subplots.AxesSubplot at 0x7f3acf4e7278>"
            ]
          },
          "metadata": {
            "tags": []
          },
          "execution_count": 65
        },
        {
          "output_type": "display_data",
          "data": {
            "image/png": "[encoded data removed]",
            "text/plain": [
              "<Figure size 1080x1080 with 2 Axes>"
            ]
          },
          "metadata": {
            "tags": [],
            "needs_background": "light"
          }
        }
      ]
    },
    {
      "cell_type": "code",
      "metadata": {
        "id": "r30K4DsOUuXC"
      },
      "source": [
        "bbis_4C_labelledDataKmeans[bbis_4C_labelledDataKmeans['label_KMeans_PCA'] == 3] #sc-statusBinary ==0"
      ],
      "execution_count": null,
      "outputs": []
    },
    {
      "cell_type": "code",
      "metadata": {
        "id": "yJq30O2djabB",
        "colab": {
          "base_uri": "https://localhost:8080/",
          "height": 388
        },
        "outputId": "3c8f7819-066e-46ce-9dfa-9ed37bbfee72"
      },
      "source": [
        "bbis_4C_labelledDataKmeans[bbis_4C_labelledDataKmeans['label_KMeans_PCA'] == 2]"
      ],
      "execution_count": null,
      "outputs": [
        {
          "output_type": "execute_result",
          "data": {
            "text/html": [
              "<div>\n",
              "<style scoped>\n",
              "    .dataframe tbody tr th:only-of-type {\n",
              "        vertical-align: middle;\n",
              "    }\n",
              "\n",
              "    .dataframe tbody tr th {\n",
              "        vertical-align: top;\n",
              "    }\n",
              "\n",
              "    .dataframe thead th {\n",
              "        text-align: right;\n",
              "    }\n",
              "</style>\n",
              "<table border=\"1\" class=\"dataframe\">\n",
              "  <thead>\n",
              "    <tr style=\"text-align: right;\">\n",
              "      <th></th>\n",
              "      <th>sc-bytes</th>\n",
              "      <th>cs-bytes</th>\n",
              "      <th>time-taken</th>\n",
              "      <th>sc-statusBinary</th>\n",
              "      <th>label_KMeans_PCA</th>\n",
              "    </tr>\n",
              "  </thead>\n",
              "  <tbody>\n",
              "    <tr>\n",
              "      <th>10248</th>\n",
              "      <td>0</td>\n",
              "      <td>1129</td>\n",
              "      <td>126265</td>\n",
              "      <td>1</td>\n",
              "      <td>2</td>\n",
              "    </tr>\n",
              "    <tr>\n",
              "      <th>15330</th>\n",
              "      <td>0</td>\n",
              "      <td>1186</td>\n",
              "      <td>81552</td>\n",
              "      <td>1</td>\n",
              "      <td>2</td>\n",
              "    </tr>\n",
              "    <tr>\n",
              "      <th>24972</th>\n",
              "      <td>0</td>\n",
              "      <td>942</td>\n",
              "      <td>130722</td>\n",
              "      <td>1</td>\n",
              "      <td>2</td>\n",
              "    </tr>\n",
              "    <tr>\n",
              "      <th>24973</th>\n",
              "      <td>8230</td>\n",
              "      <td>942</td>\n",
              "      <td>85578</td>\n",
              "      <td>1</td>\n",
              "      <td>2</td>\n",
              "    </tr>\n",
              "    <tr>\n",
              "      <th>30959</th>\n",
              "      <td>8406</td>\n",
              "      <td>1186</td>\n",
              "      <td>93237</td>\n",
              "      <td>1</td>\n",
              "      <td>2</td>\n",
              "    </tr>\n",
              "    <tr>\n",
              "      <th>33894</th>\n",
              "      <td>1448</td>\n",
              "      <td>3623</td>\n",
              "      <td>150790</td>\n",
              "      <td>1</td>\n",
              "      <td>2</td>\n",
              "    </tr>\n",
              "    <tr>\n",
              "      <th>33895</th>\n",
              "      <td>1448</td>\n",
              "      <td>3623</td>\n",
              "      <td>148276</td>\n",
              "      <td>1</td>\n",
              "      <td>2</td>\n",
              "    </tr>\n",
              "    <tr>\n",
              "      <th>33896</th>\n",
              "      <td>1448</td>\n",
              "      <td>3623</td>\n",
              "      <td>150314</td>\n",
              "      <td>1</td>\n",
              "      <td>2</td>\n",
              "    </tr>\n",
              "    <tr>\n",
              "      <th>33897</th>\n",
              "      <td>1448</td>\n",
              "      <td>3623</td>\n",
              "      <td>151676</td>\n",
              "      <td>1</td>\n",
              "      <td>2</td>\n",
              "    </tr>\n",
              "    <tr>\n",
              "      <th>35167</th>\n",
              "      <td>0</td>\n",
              "      <td>963</td>\n",
              "      <td>275307</td>\n",
              "      <td>1</td>\n",
              "      <td>2</td>\n",
              "    </tr>\n",
              "    <tr>\n",
              "      <th>35183</th>\n",
              "      <td>0</td>\n",
              "      <td>963</td>\n",
              "      <td>101089</td>\n",
              "      <td>1</td>\n",
              "      <td>2</td>\n",
              "    </tr>\n",
              "    <tr>\n",
              "      <th>59731</th>\n",
              "      <td>0</td>\n",
              "      <td>1239</td>\n",
              "      <td>228031</td>\n",
              "      <td>1</td>\n",
              "      <td>2</td>\n",
              "    </tr>\n",
              "  </tbody>\n",
              "</table>\n",
              "</div>"
            ],
            "text/plain": [
              "       sc-bytes  cs-bytes  time-taken  sc-statusBinary  label_KMeans_PCA\n",
              "10248         0      1129      126265                1                 2\n",
              "15330         0      1186       81552                1                 2\n",
              "24972         0       942      130722                1                 2\n",
              "24973      8230       942       85578                1                 2\n",
              "30959      8406      1186       93237                1                 2\n",
              "33894      1448      3623      150790                1                 2\n",
              "33895      1448      3623      148276                1                 2\n",
              "33896      1448      3623      150314                1                 2\n",
              "33897      1448      3623      151676                1                 2\n",
              "35167         0       963      275307                1                 2\n",
              "35183         0       963      101089                1                 2\n",
              "59731         0      1239      228031                1                 2"
            ]
          },
          "metadata": {
            "tags": []
          },
          "execution_count": 69
        }
      ]
    },
    {
      "cell_type": "code",
      "metadata": {
        "id": "uQkN3EyOkDT0",
        "colab": {
          "base_uri": "https://localhost:8080/",
          "height": 388
        },
        "outputId": "62bf6940-f9da-48bc-877a-27cceae5c100"
      },
      "source": [
        "bbis_4C_labelledDataKmeans[bbis_4C_labelledDataKmeans['label_KMeans_PCA'] == 1]"
      ],
      "execution_count": null,
      "outputs": [
        {
          "output_type": "execute_result",
          "data": {
            "text/html": [
              "<div>\n",
              "<style scoped>\n",
              "    .dataframe tbody tr th:only-of-type {\n",
              "        vertical-align: middle;\n",
              "    }\n",
              "\n",
              "    .dataframe tbody tr th {\n",
              "        vertical-align: top;\n",
              "    }\n",
              "\n",
              "    .dataframe thead th {\n",
              "        text-align: right;\n",
              "    }\n",
              "</style>\n",
              "<table border=\"1\" class=\"dataframe\">\n",
              "  <thead>\n",
              "    <tr style=\"text-align: right;\">\n",
              "      <th></th>\n",
              "      <th>sc-bytes</th>\n",
              "      <th>cs-bytes</th>\n",
              "      <th>time-taken</th>\n",
              "      <th>sc-statusBinary</th>\n",
              "      <th>label_KMeans_PCA</th>\n",
              "    </tr>\n",
              "  </thead>\n",
              "  <tbody>\n",
              "    <tr>\n",
              "      <th>11194</th>\n",
              "      <td>249529</td>\n",
              "      <td>340</td>\n",
              "      <td>1523</td>\n",
              "      <td>1</td>\n",
              "      <td>1</td>\n",
              "    </tr>\n",
              "    <tr>\n",
              "      <th>11199</th>\n",
              "      <td>228380</td>\n",
              "      <td>29649</td>\n",
              "      <td>220</td>\n",
              "      <td>1</td>\n",
              "      <td>1</td>\n",
              "    </tr>\n",
              "    <tr>\n",
              "      <th>18390</th>\n",
              "      <td>19483</td>\n",
              "      <td>27137</td>\n",
              "      <td>440</td>\n",
              "      <td>1</td>\n",
              "      <td>1</td>\n",
              "    </tr>\n",
              "    <tr>\n",
              "      <th>19854</th>\n",
              "      <td>145561</td>\n",
              "      <td>16047</td>\n",
              "      <td>145</td>\n",
              "      <td>1</td>\n",
              "      <td>1</td>\n",
              "    </tr>\n",
              "    <tr>\n",
              "      <th>19864</th>\n",
              "      <td>145561</td>\n",
              "      <td>16047</td>\n",
              "      <td>171</td>\n",
              "      <td>1</td>\n",
              "      <td>1</td>\n",
              "    </tr>\n",
              "    <tr>\n",
              "      <th>...</th>\n",
              "      <td>...</td>\n",
              "      <td>...</td>\n",
              "      <td>...</td>\n",
              "      <td>...</td>\n",
              "      <td>...</td>\n",
              "    </tr>\n",
              "    <tr>\n",
              "      <th>46523</th>\n",
              "      <td>228380</td>\n",
              "      <td>29653</td>\n",
              "      <td>94</td>\n",
              "      <td>1</td>\n",
              "      <td>1</td>\n",
              "    </tr>\n",
              "    <tr>\n",
              "      <th>46533</th>\n",
              "      <td>228380</td>\n",
              "      <td>29653</td>\n",
              "      <td>153</td>\n",
              "      <td>1</td>\n",
              "      <td>1</td>\n",
              "    </tr>\n",
              "    <tr>\n",
              "      <th>46539</th>\n",
              "      <td>228380</td>\n",
              "      <td>29653</td>\n",
              "      <td>220</td>\n",
              "      <td>1</td>\n",
              "      <td>1</td>\n",
              "    </tr>\n",
              "    <tr>\n",
              "      <th>46546</th>\n",
              "      <td>228380</td>\n",
              "      <td>29653</td>\n",
              "      <td>133</td>\n",
              "      <td>1</td>\n",
              "      <td>1</td>\n",
              "    </tr>\n",
              "    <tr>\n",
              "      <th>46554</th>\n",
              "      <td>228380</td>\n",
              "      <td>29653</td>\n",
              "      <td>93</td>\n",
              "      <td>1</td>\n",
              "      <td>1</td>\n",
              "    </tr>\n",
              "  </tbody>\n",
              "</table>\n",
              "<p>224 rows × 5 columns</p>\n",
              "</div>"
            ],
            "text/plain": [
              "       sc-bytes  cs-bytes  time-taken  sc-statusBinary  label_KMeans_PCA\n",
              "11194    249529       340        1523                1                 1\n",
              "11199    228380     29649         220                1                 1\n",
              "18390     19483     27137         440                1                 1\n",
              "19854    145561     16047         145                1                 1\n",
              "19864    145561     16047         171                1                 1\n",
              "...         ...       ...         ...              ...               ...\n",
              "46523    228380     29653          94                1                 1\n",
              "46533    228380     29653         153                1                 1\n",
              "46539    228380     29653         220                1                 1\n",
              "46546    228380     29653         133                1                 1\n",
              "46554    228380     29653          93                1                 1\n",
              "\n",
              "[224 rows x 5 columns]"
            ]
          },
          "metadata": {
            "tags": []
          },
          "execution_count": 70
        }
      ]
    },
    {
      "cell_type": "code",
      "metadata": {
        "id": "8p_xzIkdkI-y",
        "colab": {
          "base_uri": "https://localhost:8080/",
          "height": 388
        },
        "outputId": "e1f308b9-194b-4e62-bf0e-21c71398b51d"
      },
      "source": [
        "bbis_4C_labelledDataKmeans[bbis_4C_labelledDataKmeans['label_KMeans_PCA'] == 0]"
      ],
      "execution_count": null,
      "outputs": [
        {
          "output_type": "execute_result",
          "data": {
            "text/html": [
              "<div>\n",
              "<style scoped>\n",
              "    .dataframe tbody tr th:only-of-type {\n",
              "        vertical-align: middle;\n",
              "    }\n",
              "\n",
              "    .dataframe tbody tr th {\n",
              "        vertical-align: top;\n",
              "    }\n",
              "\n",
              "    .dataframe thead th {\n",
              "        text-align: right;\n",
              "    }\n",
              "</style>\n",
              "<table border=\"1\" class=\"dataframe\">\n",
              "  <thead>\n",
              "    <tr style=\"text-align: right;\">\n",
              "      <th></th>\n",
              "      <th>sc-bytes</th>\n",
              "      <th>cs-bytes</th>\n",
              "      <th>time-taken</th>\n",
              "      <th>sc-statusBinary</th>\n",
              "      <th>label_KMeans_PCA</th>\n",
              "    </tr>\n",
              "  </thead>\n",
              "  <tbody>\n",
              "    <tr>\n",
              "      <th>0</th>\n",
              "      <td>9788</td>\n",
              "      <td>1443</td>\n",
              "      <td>122</td>\n",
              "      <td>1</td>\n",
              "      <td>0</td>\n",
              "    </tr>\n",
              "    <tr>\n",
              "      <th>1</th>\n",
              "      <td>9656</td>\n",
              "      <td>862</td>\n",
              "      <td>152</td>\n",
              "      <td>1</td>\n",
              "      <td>0</td>\n",
              "    </tr>\n",
              "    <tr>\n",
              "      <th>2</th>\n",
              "      <td>9508</td>\n",
              "      <td>1443</td>\n",
              "      <td>107</td>\n",
              "      <td>1</td>\n",
              "      <td>0</td>\n",
              "    </tr>\n",
              "    <tr>\n",
              "      <th>3</th>\n",
              "      <td>10115</td>\n",
              "      <td>1033</td>\n",
              "      <td>97</td>\n",
              "      <td>1</td>\n",
              "      <td>0</td>\n",
              "    </tr>\n",
              "    <tr>\n",
              "      <th>4</th>\n",
              "      <td>9544</td>\n",
              "      <td>862</td>\n",
              "      <td>156</td>\n",
              "      <td>1</td>\n",
              "      <td>0</td>\n",
              "    </tr>\n",
              "    <tr>\n",
              "      <th>...</th>\n",
              "      <td>...</td>\n",
              "      <td>...</td>\n",
              "      <td>...</td>\n",
              "      <td>...</td>\n",
              "      <td>...</td>\n",
              "    </tr>\n",
              "    <tr>\n",
              "      <th>81111</th>\n",
              "      <td>9678</td>\n",
              "      <td>1426</td>\n",
              "      <td>131</td>\n",
              "      <td>1</td>\n",
              "      <td>0</td>\n",
              "    </tr>\n",
              "    <tr>\n",
              "      <th>81112</th>\n",
              "      <td>9615</td>\n",
              "      <td>767</td>\n",
              "      <td>176</td>\n",
              "      <td>1</td>\n",
              "      <td>0</td>\n",
              "    </tr>\n",
              "    <tr>\n",
              "      <th>81113</th>\n",
              "      <td>8206</td>\n",
              "      <td>1032</td>\n",
              "      <td>489</td>\n",
              "      <td>1</td>\n",
              "      <td>0</td>\n",
              "    </tr>\n",
              "    <tr>\n",
              "      <th>81114</th>\n",
              "      <td>9744</td>\n",
              "      <td>1220</td>\n",
              "      <td>70</td>\n",
              "      <td>1</td>\n",
              "      <td>0</td>\n",
              "    </tr>\n",
              "    <tr>\n",
              "      <th>81115</th>\n",
              "      <td>8121</td>\n",
              "      <td>1032</td>\n",
              "      <td>578</td>\n",
              "      <td>1</td>\n",
              "      <td>0</td>\n",
              "    </tr>\n",
              "  </tbody>\n",
              "</table>\n",
              "<p>80822 rows × 5 columns</p>\n",
              "</div>"
            ],
            "text/plain": [
              "       sc-bytes  cs-bytes  time-taken  sc-statusBinary  label_KMeans_PCA\n",
              "0          9788      1443         122                1                 0\n",
              "1          9656       862         152                1                 0\n",
              "2          9508      1443         107                1                 0\n",
              "3         10115      1033          97                1                 0\n",
              "4          9544       862         156                1                 0\n",
              "...         ...       ...         ...              ...               ...\n",
              "81111      9678      1426         131                1                 0\n",
              "81112      9615       767         176                1                 0\n",
              "81113      8206      1032         489                1                 0\n",
              "81114      9744      1220          70                1                 0\n",
              "81115      8121      1032         578                1                 0\n",
              "\n",
              "[80822 rows x 5 columns]"
            ]
          },
          "metadata": {
            "tags": []
          },
          "execution_count": 72
        }
      ]
    },
    {
      "cell_type": "code",
      "metadata": {
        "id": "OQuiPJMjUFIl",
        "colab": {
          "base_uri": "https://localhost:8080/",
          "height": 66
        },
        "outputId": "2a037e9e-931b-47d8-956a-677b0f69d245"
      },
      "source": [
        "bbis_4C_labelledDataKmeans[\"sc-statusBinary\"].value_counts()"
      ],
      "execution_count": null,
      "outputs": [
        {
          "output_type": "execute_result",
          "data": {
            "text/plain": [
              "1    81058\n",
              "0       58\n",
              "Name: sc-statusBinary, dtype: int64"
            ]
          },
          "metadata": {
            "tags": []
          },
          "execution_count": 63
        }
      ]
    },
    {
      "cell_type": "markdown",
      "metadata": {
        "id": "rPHM_8fiE7lN"
      },
      "source": [
        "# **PCA and K-Means For Default.aspx**"
      ]
    },
    {
      "cell_type": "code",
      "metadata": {
        "id": "oFR9-M8yAOy3"
      },
      "source": [
        "scaler = StandardScaler()#Scaling\n",
        "dataDefaultSelected_std = scaler.fit_transform(dataDefaultSelected)"
      ],
      "execution_count": null,
      "outputs": []
    },
    {
      "cell_type": "code",
      "metadata": {
        "id": "u25rrpq1AUnq",
        "colab": {
          "base_uri": "https://localhost:8080/",
          "height": 231
        },
        "outputId": "38950227-ad99-4958-b037-473934bf72c3"
      },
      "source": [
        "dataDefaultSelected_std"
      ],
      "execution_count": null,
      "outputs": [
        {
          "output_type": "execute_result",
          "data": {
            "text/plain": [
              "array([[ 0.58025835,  0.03485973, -0.2274532 , -0.07451991, -1.15427325,\n",
              "         0.63160508],\n",
              "       [ 0.58025835,  0.4582307 , -0.33867653, -0.10427847,  0.86634599,\n",
              "         0.63160508],\n",
              "       [ 0.58025835, -0.02663679, -0.31872245, -0.10282683,  0.86634599,\n",
              "         0.63160508],\n",
              "       ...,\n",
              "       [ 0.58025835,  0.46743629, -0.33867653, -0.08758464,  0.86634599,\n",
              "         0.63160508],\n",
              "       [ 0.58025835,  0.46743629, -0.33832232, -0.10427847,  0.86634599,\n",
              "         0.63160508],\n",
              "       [ 0.58025835,  0.46743629, -0.33867653, -0.10464138,  0.86634599,\n",
              "         0.63160508]])"
            ]
          },
          "metadata": {
            "tags": []
          },
          "execution_count": 75
        }
      ]
    },
    {
      "cell_type": "code",
      "metadata": {
        "id": "DuKlL2FHAqu6",
        "colab": {
          "base_uri": "https://localhost:8080/",
          "height": 49
        },
        "outputId": "a8a16a91-7102-4ce8-f901-8c5a50f461ed"
      },
      "source": [
        "pca_default = PCA()\n",
        "pca_default.fit(dataDefaultSelected_std)"
      ],
      "execution_count": null,
      "outputs": [
        {
          "output_type": "execute_result",
          "data": {
            "text/plain": [
              "PCA(copy=True, iterated_power='auto', n_components=None, random_state=None,\n",
              "    svd_solver='auto', tol=0.0, whiten=False)"
            ]
          },
          "metadata": {
            "tags": []
          },
          "execution_count": 76
        }
      ]
    },
    {
      "cell_type": "code",
      "metadata": {
        "id": "cPPF_9MvAyJR",
        "colab": {
          "base_uri": "https://localhost:8080/",
          "height": 49
        },
        "outputId": "3845646a-1e5b-45d0-97c8-c738787e6dec"
      },
      "source": [
        "pca_default.explained_variance_ratio_"
      ],
      "execution_count": null,
      "outputs": [
        {
          "output_type": "execute_result",
          "data": {
            "text/plain": [
              "array([0.36274078, 0.21535475, 0.16440679, 0.15698483, 0.07335998,\n",
              "       0.02715287])"
            ]
          },
          "metadata": {
            "tags": []
          },
          "execution_count": 77
        }
      ]
    },
    {
      "cell_type": "code",
      "metadata": {
        "id": "QFM7PjylA_KQ",
        "colab": {
          "base_uri": "https://localhost:8080/",
          "height": 513
        },
        "outputId": "3f231006-e928-4217-a045-a18d3f2354d3"
      },
      "source": [
        "plt.figure(figsize=(10,8))\n",
        "plt.plot(range(1,7),pca_default.explained_variance_ratio_.cumsum(),marker =\"o\",linestyle =\"--\")\n",
        "plt.xlabel(\"Number of Compenents\")\n",
        "plt.ylabel(\"Cumulative Explained Variance\")"
      ],
      "execution_count": null,
      "outputs": [
        {
          "output_type": "execute_result",
          "data": {
            "text/plain": [
              "Text(0, 0.5, 'Cumulative Explained Variance')"
            ]
          },
          "metadata": {
            "tags": []
          },
          "execution_count": 78
        },
        {
          "output_type": "display_data",
          "data": {
            "image/png": "[encoded data removed]",
            "text/plain": [
              "<Figure size 720x576 with 1 Axes>"
            ]
          },
          "metadata": {
            "tags": [],
            "needs_background": "light"
          }
        }
      ]
    },
    {
      "cell_type": "code",
      "metadata": {
        "id": "uUK8YqfgBRZ2",
        "colab": {
          "base_uri": "https://localhost:8080/",
          "height": 49
        },
        "outputId": "b3eec4fc-90d8-4935-f8d6-1bb8a506145a"
      },
      "source": [
        "pca_default =PCA(n_components=4) \n",
        "pca_default.fit(dataDefaultSelected_std)"
      ],
      "execution_count": null,
      "outputs": [
        {
          "output_type": "execute_result",
          "data": {
            "text/plain": [
              "PCA(copy=True, iterated_power='auto', n_components=4, random_state=None,\n",
              "    svd_solver='auto', tol=0.0, whiten=False)"
            ]
          },
          "metadata": {
            "tags": []
          },
          "execution_count": 79
        }
      ]
    },
    {
      "cell_type": "code",
      "metadata": {
        "id": "VF3DdB28Bfl0"
      },
      "source": [
        "scores_pca_default = pca_default.transform(dataDefaultSelected_std)"
      ],
      "execution_count": null,
      "outputs": []
    },
    {
      "cell_type": "code",
      "metadata": {
        "id": "Vl1uu5GWBptM"
      },
      "source": [
        "wcss_default=[]\n",
        "for i in range(1,25):\n",
        "  kmeans_pca_default = KMeans(n_clusters=i, init ='k-means++', max_iter=300, n_init=10,random_state=42)\n",
        "  kmeans_pca_default.fit(scores_pca_default)\n",
        "  wcss_default.append(kmeans_pca_default.inertia_)"
      ],
      "execution_count": null,
      "outputs": []
    },
    {
      "cell_type": "code",
      "metadata": {
        "id": "1eM-3GISB3kn",
        "colab": {
          "base_uri": "https://localhost:8080/",
          "height": 513
        },
        "outputId": "fea59b76-2d4c-4c49-d23d-f3463dcd5e1d"
      },
      "source": [
        "plt.figure(figsize=(10,8))\n",
        "plt.plot(range(1,25),wcss_default,marker =\"o\",linestyle =\"--\")\n",
        "plt.xlabel(\"Number of Clusters\")\n",
        "plt.ylabel(\"WCSS\") #number of cluster = 5"
      ],
      "execution_count": null,
      "outputs": [
        {
          "output_type": "execute_result",
          "data": {
            "text/plain": [
              "Text(0, 0.5, 'WCSS')"
            ]
          },
          "metadata": {
            "tags": []
          },
          "execution_count": 82
        },
        {
          "output_type": "display_data",
          "data": {
            "image/png": "[encoded data removed]",
            "text/plain": [
              "<Figure size 720x576 with 1 Axes>"
            ]
          },
          "metadata": {
            "tags": [],
            "needs_background": "light"
          }
        }
      ]
    },
    {
      "cell_type": "code",
      "metadata": {
        "id": "dpOglAPLCpoy"
      },
      "source": [
        "kmeans_pca_default = KMeans(n_clusters=6, init ='k-means++', max_iter=300, n_init=10,random_state=42)"
      ],
      "execution_count": null,
      "outputs": []
    },
    {
      "cell_type": "code",
      "metadata": {
        "id": "ozSL9LUTC5Ie",
        "colab": {
          "base_uri": "https://localhost:8080/",
          "height": 66
        },
        "outputId": "357fc9de-e0ff-49b9-f6cf-32055ff3a9ef"
      },
      "source": [
        "kmeans_pca_default.fit(scores_pca_default)"
      ],
      "execution_count": null,
      "outputs": [
        {
          "output_type": "execute_result",
          "data": {
            "text/plain": [
              "KMeans(algorithm='auto', copy_x=True, init='k-means++', max_iter=300,\n",
              "       n_clusters=6, n_init=10, n_jobs=None, precompute_distances='auto',\n",
              "       random_state=42, tol=0.0001, verbose=0)"
            ]
          },
          "metadata": {
            "tags": []
          },
          "execution_count": 84
        }
      ]
    },
    {
      "cell_type": "code",
      "metadata": {
        "id": "uRhPFHpgDAlz"
      },
      "source": [
        "df_segm_pcakmeans_default = pd.concat([dataDefaultSelected.reset_index(drop=True),pd.DataFrame(scores_pca_default)],axis = 1)"
      ],
      "execution_count": null,
      "outputs": []
    },
    {
      "cell_type": "code",
      "metadata": {
        "id": "IrkYev0jDQe5"
      },
      "source": [
        "df_segm_pcakmeans_default.columns.values[-4:] = [\"component1\",\"component2\",\"component3\",\"component4\"]"
      ],
      "execution_count": null,
      "outputs": []
    },
    {
      "cell_type": "code",
      "metadata": {
        "id": "JmWG_HisDaHc"
      },
      "source": [
        "df_segm_pcakmeans_default[\"label_KMeans_PCA\"] = kmeans_pca_default.labels_"
      ],
      "execution_count": null,
      "outputs": []
    },
    {
      "cell_type": "code",
      "metadata": {
        "id": "IxDXHiRtvdHG",
        "colab": {
          "base_uri": "https://localhost:8080/",
          "height": 897
        },
        "outputId": "90dcc38d-4f82-40d6-8c1e-973a97ef4814"
      },
      "source": [
        "default_labelledDataKmeans = pd.concat([dataDefaultSelected.reset_index(drop=True),pd.DataFrame(kmeans_pca_default.labels_)],axis = 1)\n",
        "default_labelledDataKmeans.columns.values[-1:] = [\"label_KMeans_PCA\"]\n",
        "plt.figure(figsize=(15,15))\n",
        "corr= default_labelledDataKmeans.iloc[:,:].corr()\n",
        "sns.heatmap(corr,annot=True,fmt='.0%')"
      ],
      "execution_count": null,
      "outputs": [
        {
          "output_type": "execute_result",
          "data": {
            "text/plain": [
              "<matplotlib.axes._subplots.AxesSubplot at 0x7f3ac70d2f60>"
            ]
          },
          "metadata": {
            "tags": []
          },
          "execution_count": 88
        },
        {
          "output_type": "display_data",
          "data": {
            "image/png": "[encoded data removed]",
            "text/plain": [
              "<Figure size 1080x1080 with 2 Axes>"
            ]
          },
          "metadata": {
            "tags": [],
            "needs_background": "light"
          }
        }
      ]
    },
    {
      "cell_type": "code",
      "metadata": {
        "id": "00iyxZI6PemC",
        "colab": {
          "base_uri": "https://localhost:8080/",
          "height": 132
        },
        "outputId": "4c2f8ea5-6371-4305-d426-d832b5fd29bf"
      },
      "source": [
        "default_labelledDataKmeans['label_KMeans_PCA'].value_counts()"
      ],
      "execution_count": null,
      "outputs": [
        {
          "output_type": "execute_result",
          "data": {
            "text/plain": [
              "4    31405\n",
              "0    28119\n",
              "3    21409\n",
              "1     4064\n",
              "2       63\n",
              "5       45\n",
              "Name: label_KMeans_PCA, dtype: int64"
            ]
          },
          "metadata": {
            "tags": []
          },
          "execution_count": 103
        }
      ]
    },
    {
      "cell_type": "code",
      "metadata": {
        "id": "MUlM44jXlahc",
        "colab": {
          "base_uri": "https://localhost:8080/",
          "height": 99
        },
        "outputId": "a230afa8-29c7-4a91-b622-0998843268e8"
      },
      "source": [
        "default_labelledDataKmeans[default_labelledDataKmeans['sc-statusBinary']==0]['label_KMeans_PCA'].value_counts()"
      ],
      "execution_count": null,
      "outputs": [
        {
          "output_type": "execute_result",
          "data": {
            "text/plain": [
              "3    20119\n",
              "1     3955\n",
              "4      182\n",
              "2       13\n",
              "Name: label_KMeans_PCA, dtype: int64"
            ]
          },
          "metadata": {
            "tags": []
          },
          "execution_count": 126
        }
      ]
    },
    {
      "cell_type": "markdown",
      "metadata": {
        "id": "g8PSgm-8W4-w"
      },
      "source": [
        "**cs-method&cs-username problem**"
      ]
    },
    {
      "cell_type": "code",
      "metadata": {
        "id": "NKtp_gdHDkE1",
        "colab": {
          "base_uri": "https://localhost:8080/",
          "height": 132
        },
        "outputId": "8c6f012e-0f1c-41c9-bd97-56cb433f7aa3"
      },
      "source": [
        "dataDefaultSelected_4C = dataDefaultSelected.drop(columns=['cs-method','cs-username'])\n",
        "scaler = StandardScaler()#Scaling\n",
        "dataDefaultSelected_4C_std = scaler.fit_transform(dataDefaultSelected_4C)\n",
        "dataDefaultSelected_4C_std"
      ],
      "execution_count": null,
      "outputs": [
        {
          "output_type": "execute_result",
          "data": {
            "text/plain": [
              "array([[ 0.03485973, -0.2274532 , -0.07451991,  0.63160508],\n",
              "       [ 0.4582307 , -0.33867653, -0.10427847,  0.63160508],\n",
              "       [-0.02663679, -0.31872245, -0.10282683,  0.63160508],\n",
              "       ...,\n",
              "       [ 0.46743629, -0.33867653, -0.08758464,  0.63160508],\n",
              "       [ 0.46743629, -0.33832232, -0.10427847,  0.63160508],\n",
              "       [ 0.46743629, -0.33867653, -0.10464138,  0.63160508]])"
            ]
          },
          "metadata": {
            "tags": []
          },
          "execution_count": 90
        }
      ]
    },
    {
      "cell_type": "code",
      "metadata": {
        "id": "wkhGhA49aezi",
        "colab": {
          "base_uri": "https://localhost:8080/",
          "height": 388
        },
        "outputId": "42e92463-9f59-44af-b904-ac550c6e58a6"
      },
      "source": [
        "dataDefaultSelected_4C"
      ],
      "execution_count": null,
      "outputs": [
        {
          "output_type": "execute_result",
          "data": {
            "text/html": [
              "<div>\n",
              "<style scoped>\n",
              "    .dataframe tbody tr th:only-of-type {\n",
              "        vertical-align: middle;\n",
              "    }\n",
              "\n",
              "    .dataframe tbody tr th {\n",
              "        vertical-align: top;\n",
              "    }\n",
              "\n",
              "    .dataframe thead th {\n",
              "        text-align: right;\n",
              "    }\n",
              "</style>\n",
              "<table border=\"1\" class=\"dataframe\">\n",
              "  <thead>\n",
              "    <tr style=\"text-align: right;\">\n",
              "      <th></th>\n",
              "      <th>sc-bytes</th>\n",
              "      <th>cs-bytes</th>\n",
              "      <th>time-taken</th>\n",
              "      <th>sc-statusBinary</th>\n",
              "    </tr>\n",
              "  </thead>\n",
              "  <tbody>\n",
              "    <tr>\n",
              "      <th>0</th>\n",
              "      <td>35920</td>\n",
              "      <td>1085</td>\n",
              "      <td>111</td>\n",
              "      <td>1</td>\n",
              "    </tr>\n",
              "    <tr>\n",
              "      <th>1</th>\n",
              "      <td>99801</td>\n",
              "      <td>143</td>\n",
              "      <td>29</td>\n",
              "      <td>1</td>\n",
              "    </tr>\n",
              "    <tr>\n",
              "      <th>2</th>\n",
              "      <td>26641</td>\n",
              "      <td>312</td>\n",
              "      <td>33</td>\n",
              "      <td>1</td>\n",
              "    </tr>\n",
              "    <tr>\n",
              "      <th>3</th>\n",
              "      <td>99801</td>\n",
              "      <td>146</td>\n",
              "      <td>27</td>\n",
              "      <td>1</td>\n",
              "    </tr>\n",
              "    <tr>\n",
              "      <th>4</th>\n",
              "      <td>35596</td>\n",
              "      <td>1116</td>\n",
              "      <td>209</td>\n",
              "      <td>1</td>\n",
              "    </tr>\n",
              "    <tr>\n",
              "      <th>...</th>\n",
              "      <td>...</td>\n",
              "      <td>...</td>\n",
              "      <td>...</td>\n",
              "      <td>...</td>\n",
              "    </tr>\n",
              "    <tr>\n",
              "      <th>85100</th>\n",
              "      <td>26759</td>\n",
              "      <td>626</td>\n",
              "      <td>33</td>\n",
              "      <td>1</td>\n",
              "    </tr>\n",
              "    <tr>\n",
              "      <th>85101</th>\n",
              "      <td>26735</td>\n",
              "      <td>434</td>\n",
              "      <td>33</td>\n",
              "      <td>1</td>\n",
              "    </tr>\n",
              "    <tr>\n",
              "      <th>85102</th>\n",
              "      <td>101190</td>\n",
              "      <td>143</td>\n",
              "      <td>75</td>\n",
              "      <td>1</td>\n",
              "    </tr>\n",
              "    <tr>\n",
              "      <th>85103</th>\n",
              "      <td>101190</td>\n",
              "      <td>146</td>\n",
              "      <td>29</td>\n",
              "      <td>1</td>\n",
              "    </tr>\n",
              "    <tr>\n",
              "      <th>85104</th>\n",
              "      <td>101190</td>\n",
              "      <td>143</td>\n",
              "      <td>28</td>\n",
              "      <td>1</td>\n",
              "    </tr>\n",
              "  </tbody>\n",
              "</table>\n",
              "<p>85105 rows × 4 columns</p>\n",
              "</div>"
            ],
            "text/plain": [
              "       sc-bytes  cs-bytes  time-taken  sc-statusBinary\n",
              "0         35920      1085         111                1\n",
              "1         99801       143          29                1\n",
              "2         26641       312          33                1\n",
              "3         99801       146          27                1\n",
              "4         35596      1116         209                1\n",
              "...         ...       ...         ...              ...\n",
              "85100     26759       626          33                1\n",
              "85101     26735       434          33                1\n",
              "85102    101190       143          75                1\n",
              "85103    101190       146          29                1\n",
              "85104    101190       143          28                1\n",
              "\n",
              "[85105 rows x 4 columns]"
            ]
          },
          "metadata": {
            "tags": []
          },
          "execution_count": 91
        }
      ]
    },
    {
      "cell_type": "code",
      "metadata": {
        "id": "F-n8VANyPH8d",
        "colab": {
          "base_uri": "https://localhost:8080/",
          "height": 49
        },
        "outputId": "767bb78e-dfec-4eea-baf8-9bbb4f0d38ee"
      },
      "source": [
        "pca_default_4C = PCA()\n",
        "pca_default_4C.fit(dataDefaultSelected_4C_std)"
      ],
      "execution_count": null,
      "outputs": [
        {
          "output_type": "execute_result",
          "data": {
            "text/plain": [
              "PCA(copy=True, iterated_power='auto', n_components=None, random_state=None,\n",
              "    svd_solver='auto', tol=0.0, whiten=False)"
            ]
          },
          "metadata": {
            "tags": []
          },
          "execution_count": 92
        }
      ]
    },
    {
      "cell_type": "code",
      "metadata": {
        "id": "HYtSBDJLYubY",
        "colab": {
          "base_uri": "https://localhost:8080/",
          "height": 33
        },
        "outputId": "574bb189-0834-49cb-ff07-ca5a644853c0"
      },
      "source": [
        "pca_default_4C.explained_variance_ratio_"
      ],
      "execution_count": null,
      "outputs": [
        {
          "output_type": "execute_result",
          "data": {
            "text/plain": [
              "array([0.34678151, 0.26613093, 0.24082499, 0.14626256])"
            ]
          },
          "metadata": {
            "tags": []
          },
          "execution_count": 93
        }
      ]
    },
    {
      "cell_type": "code",
      "metadata": {
        "id": "u4nufVKePjhJ",
        "colab": {
          "base_uri": "https://localhost:8080/",
          "height": 513
        },
        "outputId": "92bfee31-17bc-41cf-ad3a-89ec3f5c1199"
      },
      "source": [
        "plt.figure(figsize=(10,8))\n",
        "plt.plot(range(1,5),pca_default_4C.explained_variance_ratio_.cumsum(),marker =\"o\",linestyle =\"--\")\n",
        "plt.xlabel(\"Number of Compenents\")\n",
        "plt.ylabel(\"Cumulative Explained Variance\")"
      ],
      "execution_count": null,
      "outputs": [
        {
          "output_type": "execute_result",
          "data": {
            "text/plain": [
              "Text(0, 0.5, 'Cumulative Explained Variance')"
            ]
          },
          "metadata": {
            "tags": []
          },
          "execution_count": 94
        },
        {
          "output_type": "display_data",
          "data": {
            "image/png": "[encoded data removed]",
            "text/plain": [
              "<Figure size 720x576 with 1 Axes>"
            ]
          },
          "metadata": {
            "tags": [],
            "needs_background": "light"
          }
        }
      ]
    },
    {
      "cell_type": "code",
      "metadata": {
        "id": "HRWRBYJMQACR",
        "colab": {
          "base_uri": "https://localhost:8080/",
          "height": 49
        },
        "outputId": "2132fae9-ab08-4247-809d-d288f701f483"
      },
      "source": [
        "pca_default_4C =PCA(n_components=3) \n",
        "pca_default_4C.fit(dataDefaultSelected_4C_std)"
      ],
      "execution_count": null,
      "outputs": [
        {
          "output_type": "execute_result",
          "data": {
            "text/plain": [
              "PCA(copy=True, iterated_power='auto', n_components=3, random_state=None,\n",
              "    svd_solver='auto', tol=0.0, whiten=False)"
            ]
          },
          "metadata": {
            "tags": []
          },
          "execution_count": 95
        }
      ]
    },
    {
      "cell_type": "code",
      "metadata": {
        "id": "1DGsEvkyZCJ3",
        "colab": {
          "base_uri": "https://localhost:8080/",
          "height": 513
        },
        "outputId": "dee55183-8add-46f9-871f-396d4eec73d3"
      },
      "source": [
        "scores_pca_default_4C= pca_default_4C.transform(dataDefaultSelected_4C_std)\n",
        "\n",
        "wcss_default_4C=[]\n",
        "for i in range(1,25):\n",
        "  kmeans_pca_default_4C = KMeans(n_clusters=i, init ='k-means++', max_iter=300, n_init=10,random_state=42)\n",
        "  kmeans_pca_default_4C.fit(scores_pca_default_4C)\n",
        "  wcss_default_4C.append(kmeans_pca_default_4C.inertia_)\n",
        "\n",
        "\n",
        "plt.figure(figsize=(10,8))\n",
        "plt.plot(range(1,25),wcss_default_4C,marker =\"o\",linestyle =\"--\")\n",
        "plt.xlabel(\"Number of Clusters\")\n",
        "plt.ylabel(\"WCSS\") #number of cluster = 4"
      ],
      "execution_count": null,
      "outputs": [
        {
          "output_type": "execute_result",
          "data": {
            "text/plain": [
              "Text(0, 0.5, 'WCSS')"
            ]
          },
          "metadata": {
            "tags": []
          },
          "execution_count": 96
        },
        {
          "output_type": "display_data",
          "data": {
            "image/png": "[encoded data removed]",
            "text/plain": [
              "<Figure size 720x576 with 1 Axes>"
            ]
          },
          "metadata": {
            "tags": [],
            "needs_background": "light"
          }
        }
      ]
    },
    {
      "cell_type": "code",
      "metadata": {
        "id": "h9lOAbaLZN92"
      },
      "source": [
        "kmeans_pca_default_4C = KMeans(n_clusters=5, init ='k-means++', max_iter=300, n_init=10,random_state=42)"
      ],
      "execution_count": null,
      "outputs": []
    },
    {
      "cell_type": "code",
      "metadata": {
        "id": "5AtxEyssZiDV",
        "colab": {
          "base_uri": "https://localhost:8080/",
          "height": 66
        },
        "outputId": "e220a746-3742-47a0-c07a-58db73ba2868"
      },
      "source": [
        "kmeans_pca_default_4C.fit(scores_pca_default_4C)"
      ],
      "execution_count": null,
      "outputs": [
        {
          "output_type": "execute_result",
          "data": {
            "text/plain": [
              "KMeans(algorithm='auto', copy_x=True, init='k-means++', max_iter=300,\n",
              "       n_clusters=5, n_init=10, n_jobs=None, precompute_distances='auto',\n",
              "       random_state=42, tol=0.0001, verbose=0)"
            ]
          },
          "metadata": {
            "tags": []
          },
          "execution_count": 98
        }
      ]
    },
    {
      "cell_type": "code",
      "metadata": {
        "id": "p4KH6vO1ZmPW"
      },
      "source": [
        "df_segm_pcakmeans_default_4C = pd.concat([dataDefaultSelected_4C.reset_index(drop=True),pd.DataFrame(scores_pca_default_4C)],axis = 1)\n",
        "df_segm_pcakmeans_default_4C.columns.values[-3:] = [\"component1\",\"component2\",\"component3\"]\n",
        "df_segm_pcakmeans_default_4C[\"label_KMeans_PCA\"] = kmeans_pca_default_4C.labels_"
      ],
      "execution_count": null,
      "outputs": []
    },
    {
      "cell_type": "code",
      "metadata": {
        "id": "hX11A3Sdb5W-",
        "colab": {
          "base_uri": "https://localhost:8080/",
          "height": 388
        },
        "outputId": "59f4ca3a-d9af-4102-fbc6-f6b5ae3e58e4"
      },
      "source": [
        "df_segm_pcakmeans_default_4C"
      ],
      "execution_count": null,
      "outputs": [
        {
          "output_type": "execute_result",
          "data": {
            "text/html": [
              "<div>\n",
              "<style scoped>\n",
              "    .dataframe tbody tr th:only-of-type {\n",
              "        vertical-align: middle;\n",
              "    }\n",
              "\n",
              "    .dataframe tbody tr th {\n",
              "        vertical-align: top;\n",
              "    }\n",
              "\n",
              "    .dataframe thead th {\n",
              "        text-align: right;\n",
              "    }\n",
              "</style>\n",
              "<table border=\"1\" class=\"dataframe\">\n",
              "  <thead>\n",
              "    <tr style=\"text-align: right;\">\n",
              "      <th></th>\n",
              "      <th>sc-bytes</th>\n",
              "      <th>cs-bytes</th>\n",
              "      <th>time-taken</th>\n",
              "      <th>sc-statusBinary</th>\n",
              "      <th>component1</th>\n",
              "      <th>component2</th>\n",
              "      <th>component3</th>\n",
              "      <th>label_KMeans_PCA</th>\n",
              "    </tr>\n",
              "  </thead>\n",
              "  <tbody>\n",
              "    <tr>\n",
              "      <th>0</th>\n",
              "      <td>35920</td>\n",
              "      <td>1085</td>\n",
              "      <td>111</td>\n",
              "      <td>1</td>\n",
              "      <td>-0.616850</td>\n",
              "      <td>0.026973</td>\n",
              "      <td>-0.033743</td>\n",
              "      <td>1</td>\n",
              "    </tr>\n",
              "    <tr>\n",
              "      <th>1</th>\n",
              "      <td>99801</td>\n",
              "      <td>143</td>\n",
              "      <td>29</td>\n",
              "      <td>1</td>\n",
              "      <td>-0.748539</td>\n",
              "      <td>0.321652</td>\n",
              "      <td>-0.254959</td>\n",
              "      <td>1</td>\n",
              "    </tr>\n",
              "    <tr>\n",
              "      <th>2</th>\n",
              "      <td>26641</td>\n",
              "      <td>312</td>\n",
              "      <td>33</td>\n",
              "      <td>1</td>\n",
              "      <td>-0.674588</td>\n",
              "      <td>-0.055911</td>\n",
              "      <td>-0.003667</td>\n",
              "      <td>1</td>\n",
              "    </tr>\n",
              "    <tr>\n",
              "      <th>3</th>\n",
              "      <td>99801</td>\n",
              "      <td>146</td>\n",
              "      <td>27</td>\n",
              "      <td>1</td>\n",
              "      <td>-0.748371</td>\n",
              "      <td>0.321314</td>\n",
              "      <td>-0.255635</td>\n",
              "      <td>1</td>\n",
              "    </tr>\n",
              "    <tr>\n",
              "      <th>4</th>\n",
              "      <td>35596</td>\n",
              "      <td>1116</td>\n",
              "      <td>209</td>\n",
              "      <td>1</td>\n",
              "      <td>-0.610410</td>\n",
              "      <td>0.046077</td>\n",
              "      <td>-0.004318</td>\n",
              "      <td>1</td>\n",
              "    </tr>\n",
              "    <tr>\n",
              "      <th>...</th>\n",
              "      <td>...</td>\n",
              "      <td>...</td>\n",
              "      <td>...</td>\n",
              "      <td>...</td>\n",
              "      <td>...</td>\n",
              "      <td>...</td>\n",
              "      <td>...</td>\n",
              "      <td>...</td>\n",
              "    </tr>\n",
              "    <tr>\n",
              "      <th>85100</th>\n",
              "      <td>26759</td>\n",
              "      <td>626</td>\n",
              "      <td>33</td>\n",
              "      <td>1</td>\n",
              "      <td>-0.649319</td>\n",
              "      <td>-0.047813</td>\n",
              "      <td>-0.012594</td>\n",
              "      <td>1</td>\n",
              "    </tr>\n",
              "    <tr>\n",
              "      <th>85101</th>\n",
              "      <td>26735</td>\n",
              "      <td>434</td>\n",
              "      <td>33</td>\n",
              "      <td>1</td>\n",
              "      <td>-0.664810</td>\n",
              "      <td>-0.052513</td>\n",
              "      <td>-0.007303</td>\n",
              "      <td>1</td>\n",
              "    </tr>\n",
              "    <tr>\n",
              "      <th>85102</th>\n",
              "      <td>101190</td>\n",
              "      <td>143</td>\n",
              "      <td>75</td>\n",
              "      <td>1</td>\n",
              "      <td>-0.747958</td>\n",
              "      <td>0.338328</td>\n",
              "      <td>-0.246117</td>\n",
              "      <td>1</td>\n",
              "    </tr>\n",
              "    <tr>\n",
              "      <th>85103</th>\n",
              "      <td>101190</td>\n",
              "      <td>146</td>\n",
              "      <td>29</td>\n",
              "      <td>1</td>\n",
              "      <td>-0.749438</td>\n",
              "      <td>0.328984</td>\n",
              "      <td>-0.259876</td>\n",
              "      <td>1</td>\n",
              "    </tr>\n",
              "    <tr>\n",
              "      <th>85104</th>\n",
              "      <td>101190</td>\n",
              "      <td>143</td>\n",
              "      <td>28</td>\n",
              "      <td>1</td>\n",
              "      <td>-0.749718</td>\n",
              "      <td>0.328708</td>\n",
              "      <td>-0.260092</td>\n",
              "      <td>1</td>\n",
              "    </tr>\n",
              "  </tbody>\n",
              "</table>\n",
              "<p>85105 rows × 8 columns</p>\n",
              "</div>"
            ],
            "text/plain": [
              "       sc-bytes  cs-bytes  time-taken  ...  component2  component3  label_KMeans_PCA\n",
              "0         35920      1085         111  ...    0.026973   -0.033743                 1\n",
              "1         99801       143          29  ...    0.321652   -0.254959                 1\n",
              "2         26641       312          33  ...   -0.055911   -0.003667                 1\n",
              "3         99801       146          27  ...    0.321314   -0.255635                 1\n",
              "4         35596      1116         209  ...    0.046077   -0.004318                 1\n",
              "...         ...       ...         ...  ...         ...         ...               ...\n",
              "85100     26759       626          33  ...   -0.047813   -0.012594                 1\n",
              "85101     26735       434          33  ...   -0.052513   -0.007303                 1\n",
              "85102    101190       143          75  ...    0.338328   -0.246117                 1\n",
              "85103    101190       146          29  ...    0.328984   -0.259876                 1\n",
              "85104    101190       143          28  ...    0.328708   -0.260092                 1\n",
              "\n",
              "[85105 rows x 8 columns]"
            ]
          },
          "metadata": {
            "tags": []
          },
          "execution_count": 100
        }
      ]
    },
    {
      "cell_type": "code",
      "metadata": {
        "id": "dAY-iUe-Zny6",
        "colab": {
          "base_uri": "https://localhost:8080/",
          "height": 885
        },
        "outputId": "c6d575a8-c1b8-4464-f062-e8c8329ae9f0"
      },
      "source": [
        "default_4C_labelledDataKmeans = pd.concat([dataDefaultSelected_4C.reset_index(drop=True),pd.DataFrame(kmeans_pca_default_4C.labels_)],axis = 1)\n",
        "default_4C_labelledDataKmeans.columns.values[-1:] = [\"label_KMeans_PCA\"]\n",
        "plt.figure(figsize=(15,15))\n",
        "corr= default_4C_labelledDataKmeans.iloc[:,:].corr()\n",
        "sns.heatmap(corr,annot=True,fmt='.0%')"
      ],
      "execution_count": null,
      "outputs": [
        {
          "output_type": "execute_result",
          "data": {
            "text/plain": [
              "<matplotlib.axes._subplots.AxesSubplot at 0x7f3ac6fcf320>"
            ]
          },
          "metadata": {
            "tags": []
          },
          "execution_count": 101
        },
        {
          "output_type": "display_data",
          "data": {
            "image/png": "[encoded data removed]",
            "text/plain": [
              "<Figure size 1080x1080 with 2 Axes>"
            ]
          },
          "metadata": {
            "tags": [],
            "needs_background": "light"
          }
        }
      ]
    },
    {
      "cell_type": "code",
      "metadata": {
        "id": "pr35qf1Q6zue",
        "colab": {
          "base_uri": "https://localhost:8080/",
          "height": 82
        },
        "outputId": "6ce1b461-1419-450e-86d3-4f9f40e0db25"
      },
      "source": [
        "default_4C_labelledDataKmeans[default_4C_labelledDataKmeans[\"sc-statusBinary\"]==0]['label_KMeans_PCA'].value_counts()"
      ],
      "execution_count": null,
      "outputs": [
        {
          "output_type": "execute_result",
          "data": {
            "text/plain": [
              "3    20333\n",
              "0     3923\n",
              "4       13\n",
              "Name: label_KMeans_PCA, dtype: int64"
            ]
          },
          "metadata": {
            "tags": []
          },
          "execution_count": 127
        }
      ]
    }
  ]
}